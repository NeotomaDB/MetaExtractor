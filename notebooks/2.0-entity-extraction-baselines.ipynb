{
 "cells": [
  {
   "attachments": {},
   "cell_type": "markdown",
   "metadata": {},
   "source": [
    "# Fossil Data Extraction Baselines\n",
    "\n",
    "This notebook sets up, runs and evaluates the baseline models for the fossil data extraction task.\n",
    "\n",
    "The data and baseline approaches are as follows:\n",
    "\n",
    "| **Entity Name**            | **Baseline Approach**                                              |\n",
    "|:---:|:---|\n",
    "| Geographic Location - GEOG | Regular Expressions (Goring et. al 2021)                                      |\n",
    "| Site Name - SITE           | spaCy Pre-Trained NER model identifying location entities |\n",
    "| Taxa - TAXA                | In-text search for existing taxa already in Neotoma                |\n",
    "| Age - AGE                  | Regular Expressions (Goring et. al 2021)                                      |\n",
    "| Altitude - ALTI            | Regular Expressions (\"above sea level\", \"a.s.l.\")                  |\n",
    "| Email Address(es) - EMAIL  | Regular Expressions                                                |\n"
   ]
  },
  {
   "cell_type": "code",
   "execution_count": null,
   "metadata": {},
   "outputs": [],
   "source": [
    "import os, sys\n",
    "\n",
    "import re\n",
    "import pandas as pd\n",
    "import json\n",
    "import numpy as np\n",
    "import plotly.express as px\n",
    "\n",
    "# ensure that the parent directory is on the path for relative imports\n",
    "sys.path.append(os.path.join(os.path.abspath(''), \"..\"))\n",
    "\n",
    "from src.entity_extraction.baseline_entity_extraction import (\n",
    "    extract_geographic_coordinates,\n",
    "    extract_site_names,\n",
    "    extract_taxa,\n",
    "    extract_age,\n",
    "    extract_altitude,\n",
    "    extract_email,\n",
    "    baseline_extract_all\n",
    ")\n",
    "\n",
    "from src.entity_extraction.entity_extraction_evaluation import (\n",
    "    get_token_labels,\n",
    "    plot_token_classification_report,\n",
    "    calculate_entity_classification_metrics\n",
    ")\n",
    "\n",
    "%load_ext autoreload\n",
    "%autoreload 2"
   ]
  },
  {
   "attachments": {},
   "cell_type": "markdown",
   "metadata": {},
   "source": [
    "## Geographic Location - GEOG"
   ]
  },
  {
   "attachments": {},
   "cell_type": "markdown",
   "metadata": {},
   "source": [
    "The coordinates of a site are often reported in the literature in a variety of formats. Few varying examples are:\n",
    "- 402646302N 0795855903W\n",
    "- 40:26:46.302N 079:58:55.903W\n",
    "- 40°26′46″N 079°58′56″W\n",
    "- 40d 26′ 46″ N 079d 58′ 56″ W\n",
    "- 40.446195N 79.982195W\n",
    "- 40.446195, -79.982195\n",
    "- 40.446195,-79.982195\n",
    "- 40° 26.7717, -79° 58.93172\n",
    "- N40:26:46.302 W079:58:55.903\n",
    "- N40°26′46″ W079°58′56″\n",
    "- N40d 26′ 46″ W079d 58′ 56″\n",
    "- N40.446195 W79.982195\n",
    "- 52°05.75′N, 131°13.25′W\n",
    "- 10°50'E, 46°51'N\n",
    "\n",
    "The baseline solution based off of Goring et. al 2021 uses regular expressions to identify coordinates. We've adpated and updated those regex patterns to reduce the number of false positive generated:\n",
    "1. Pattern for geographic coordinates - ```[-+]?[NESW\\d]+\\s?[NESWd\\.:°o◦'`\"″]\\s?[NESW]?\\d{1,7}\\s?[NESWd\\.:°o◦′'`\"″]?\\s?\\d{1,6}[[NESWd\\.:°o◦′'`\"″]?\\s?[NESW]?```"
   ]
  },
  {
   "attachments": {},
   "cell_type": "markdown",
   "metadata": {},
   "source": [
    "## Site Name - SITE"
   ]
  },
  {
   "attachments": {},
   "cell_type": "markdown",
   "metadata": {},
   "source": [
    "We can use pretrained ner models to extract location names from literature, but we are not sure whether these entities will correspond to `region_name` or `site_name`"
   ]
  },
  {
   "cell_type": "code",
   "execution_count": 12,
   "metadata": {},
   "outputs": [
    {
     "name": "stdout",
     "output_type": "stream",
     "text": [
      "[{'start': 214, 'end': 215, 'label': ['LOC'], 'text': 'Siberia'}, {'start': 217, 'end': 218, 'label': ['LOC'], 'text': 'Sahara'}, {'start': 224, 'end': 226, 'label': ['LOC'], 'text': 'North Pacific'}, {'start': 306, 'end': 307, 'label': ['LOC'], 'text': 'Sahara'}, {'start': 313, 'end': 315, 'label': ['LOC'], 'text': 'B.Plow lake'}, {'start': 334, 'end': 335, 'label': ['LOC'], 'text': 'Sahara'}, {'start': 365, 'end': 366, 'label': ['LOC'], 'text': 'Sahel'}, {'start': 410, 'end': 412, 'label': ['LOC'], 'text': 'Southern Hemisphere'}, {'start': 420, 'end': 422, 'label': ['LOC'], 'text': 'Northern Hemisphere'}, {'start': 757, 'end': 759, 'label': ['LOC'], 'text': 'Southern Africa'}, {'start': 1021, 'end': 1022, 'label': ['LOC'], 'text': 'Sahel'}, {'start': 1030, 'end': 1031, 'label': ['LOC'], 'text': 'Africa'}, {'start': 1033, 'end': 1034, 'label': ['LOC'], 'text': 'Atlantic'}, {'start': 1035, 'end': 1038, 'label': ['LOC'], 'text': 'the Red Sea'}, {'start': 1085, 'end': 1086, 'label': ['LOC'], 'text': 'Sahara'}, {'start': 1114, 'end': 1117, 'label': ['LOC'], 'text': 'the Central Sahara'}, {'start': 1133, 'end': 1136, 'label': ['LOC'], 'text': 'the Central Sahara'}, {'start': 1242, 'end': 1243, 'label': ['LOC'], 'text': 'Sahara'}, {'start': 1282, 'end': 1283, 'label': ['LOC'], 'text': 'Sahara'}, {'start': 1347, 'end': 1348, 'label': ['LOC'], 'text': 'Sahel'}, {'start': 1390, 'end': 1391, 'label': ['LOC'], 'text': 'Sahara'}, {'start': 1520, 'end': 1521, 'label': ['LOC'], 'text': 'Sahara'}, {'start': 1572, 'end': 1575, 'label': ['LOC'], 'text': 'the Atlas Mountains'}, {'start': 1580, 'end': 1583, 'label': ['LOC'], 'text': 'the NW Sahara'}, {'start': 1609, 'end': 1612, 'label': ['LOC'], 'text': 'the east coast'}, {'start': 1619, 'end': 1621, 'label': ['LOC'], 'text': 'Central Saharan'}, {'start': 1664, 'end': 1665, 'label': ['LOC'], 'text': 'Sahara'}, {'start': 1702, 'end': 1703, 'label': ['LOC'], 'text': 'Atlantic'}, {'start': 1704, 'end': 1707, 'label': ['LOC'], 'text': 'the Red Sea'}, {'start': 1723, 'end': 1728, 'label': ['LOC'], 'text': 'the arid Horn of Africa'}, {'start': 1748, 'end': 1749, 'label': ['LOC'], 'text': 'Sahara'}, {'start': 1911, 'end': 1912, 'label': ['LOC'], 'text': 'Atlantic'}, {'start': 1945, 'end': 1946, 'label': ['LOC'], 'text': 'Mediterranean'}, {'start': 2020, 'end': 2021, 'label': ['LOC'], 'text': 'Sahara'}, {'start': 2083, 'end': 2087, 'label': ['LOC'], 'text': 'the Horn of Africa'}, {'start': 2120, 'end': 2122, 'label': ['LOC'], 'text': 'Saharan arid'}, {'start': 2149, 'end': 2150, 'label': ['LOC'], 'text': 'Africa'}, {'start': 2204, 'end': 2205, 'label': ['LOC'], 'text': 'Sahara'}, {'start': 2219, 'end': 2222, 'label': ['LOC'], 'text': 'the Indian Ocean'}, {'start': 2247, 'end': 2250, 'label': ['LOC'], 'text': 'the South Atlantic'}, {'start': 2255, 'end': 2256, 'label': ['LOC'], 'text': 'Sahel'}, {'start': 2413, 'end': 2414, 'label': ['LOC'], 'text': 'Atlantic'}, {'start': 2553, 'end': 2555, 'label': ['LOC'], 'text': 'Western Australia'}, {'start': 2560, 'end': 2561, 'label': ['LOC'], 'text': 'Azores'}, {'start': 2570, 'end': 2571, 'label': ['LOC'], 'text': 'Sahara'}, {'start': 2587, 'end': 2590, 'label': ['LOC'], 'text': 'North Africa(- 1'}, {'start': 2801, 'end': 2804, 'label': ['LOC'], 'text': 'the Atlas Mountains'}, {'start': 3002, 'end': 3005, 'label': ['LOC'], 'text': 'the Atlas Mountains'}, {'start': 3054, 'end': 3055, 'label': ['LOC'], 'text': 'Sahel'}, {'start': 3332, 'end': 3333, 'label': ['LOC'], 'text': 'Sahel'}, {'start': 3346, 'end': 3347, 'label': ['LOC'], 'text': 'Sahara'}, {'start': 3414, 'end': 3415, 'label': ['LOC'], 'text': 'Atlantic'}, {'start': 3418, 'end': 3419, 'label': ['LOC'], 'text': 'Sahara'}, {'start': 3426, 'end': 3429, 'label': ['LOC'], 'text': 'the Red Sea'}, {'start': 3461, 'end': 3462, 'label': ['LOC'], 'text': 'Azores'}, {'start': 3552, 'end': 3555, 'label': ['LOC'], 'text': 'the Air Mountains'}, {'start': 3568, 'end': 3569, 'label': ['LOC'], 'text': 'Sahara'}, {'start': 3576, 'end': 3579, 'label': ['LOC'], 'text': 'the Snowy Mountains'}, {'start': 3592, 'end': 3594, 'label': ['LOC'], 'text': 'Murrumbidgee Valley'}, {'start': 3626, 'end': 3627, 'label': ['LOC'], 'text': 'Sahara'}, {'start': 3698, 'end': 3701, 'label': ['LOC'], 'text': 'the Northern Hemisphere'}, {'start': 3778, 'end': 3780, 'label': ['LOC'], 'text': 'Northern Hemisphere'}, {'start': 3804, 'end': 3807, 'label': ['LOC'], 'text': 'the North Atlantic'}, {'start': 3902, 'end': 3904, 'label': ['LOC'], 'text': 'North America'}, {'start': 3905, 'end': 3907, 'label': ['LOC'], 'text': 'NW Europe'}, {'start': 3908, 'end': 3911, 'label': ['LOC'], 'text': 'the NE Atlantic'}, {'start': 3961, 'end': 3964, 'label': ['LOC'], 'text': 'the North Atlantic'}, {'start': 4083, 'end': 4084, 'label': ['LOC'], 'text': 'Atlantic'}, {'start': 4085, 'end': 4087, 'label': ['LOC'], 'text': 'Pacific Oceans'}, {'start': 4155, 'end': 4156, 'label': ['LOC'], 'text': 'Sahara'}, {'start': 4157, 'end': 4160, 'label': ['LOC'], 'text': 'the Middle East'}, {'start': 4162, 'end': 4163, 'label': ['LOC'], 'text': 'Siberia'}, {'start': 4185, 'end': 4186, 'label': ['LOC'], 'text': 'Sahara'}, {'start': 4191, 'end': 4192, 'label': ['LOC'], 'text': 'Urals'}, {'start': 4219, 'end': 4220, 'label': ['LOC'], 'text': 'Sahara'}, {'start': 4414, 'end': 4416, 'label': ['LOC'], 'text': 'Western Australia'}, {'start': 4518, 'end': 4519, 'label': ['LOC'], 'text': 'Sahara'}, {'start': 4820, 'end': 4821, 'label': ['LOC'], 'text': 'Sahel'}, {'start': 4947, 'end': 4950, 'label': ['LOC'], 'text': 'the Kenya Rift'}, {'start': 5139, 'end': 5140, 'label': ['LOC'], 'text': 'Africa'}, {'start': 5228, 'end': 5229, 'label': ['LOC'], 'text': 'theMittelterrassein'}, {'start': 5343, 'end': 5346, 'label': ['LOC'], 'text': 'the White Nile'}, {'start': 5537, 'end': 5538, 'label': ['LOC'], 'text': 'Sahara'}, {'start': 5613, 'end': 5614, 'label': ['LOC'], 'text': 'Sahara'}, {'start': 5690, 'end': 5691, 'label': ['LOC'], 'text': 'Sahara'}, {'start': 5824, 'end': 5827, 'label': ['LOC'], 'text': 'the Semien Highlands'}, {'start': 5894, 'end': 5895, 'label': ['LOC'], 'text': 'Atlantic'}, {'start': 5896, 'end': 5897, 'label': ['LOC'], 'text': 'Pacific'}, {'start': 6050, 'end': 6052, 'label': ['LOC'], 'text': 'Lakes Victoria'}, {'start': 6058, 'end': 6061, 'label': ['LOC'], 'text': 'the White Nile'}, {'start': 6504, 'end': 6505, 'label': ['LOC'], 'text': 'Sahara'}, {'start': 6625, 'end': 6630, 'label': ['LOC'], 'text': 'the Pacific South Equatorial Current'}, {'start': 6639, 'end': 6641, 'label': ['LOC'], 'text': 'Torres Straits'}, {'start': 6654, 'end': 6656, 'label': ['LOC'], 'text': 'Torres Straits'}, {'start': 6794, 'end': 6796, 'label': ['LOC'], 'text': 'Melville Island'}, {'start': 6855, 'end': 6858, 'label': ['LOC'], 'text': 'the Atherton Tablelands'}, {'start': 6894, 'end': 6895, 'label': ['LOC'], 'text': 'Sahara'}, {'start': 6898, 'end': 6899, 'label': ['LOC'], 'text': 'Lakes'}, {'start': 7183, 'end': 7186, 'label': ['LOC'], 'text': 'the White Nile'}, {'start': 7204, 'end': 7207, 'label': ['LOC'], 'text': 'the Blue Nile'}, {'start': 7265, 'end': 7268, 'label': ['LOC'], 'text': 'the Awash River'}, {'start': 7298, 'end': 7299, 'label': ['LOC'], 'text': 'Sahara'}, {'start': 7318, 'end': 7319, 'label': ['LOC'], 'text': 'Sahara'}, {'start': 7342, 'end': 7343, 'label': ['LOC'], 'text': 'Sahel'}, {'start': 7524, 'end': 7525, 'label': ['LOC'], 'text': 'Cyrenaica'}, {'start': 7600, 'end': 7603, 'label': ['LOC'], 'text': 'the Snowy Mts'}, {'start': 7615, 'end': 7618, 'label': ['LOC'], 'text': 'the Flinders Ranges'}, {'start': 7761, 'end': 7764, 'label': ['LOC'], 'text': 'the Snowy Mts'}, {'start': 7870, 'end': 7872, 'label': ['LOC'], 'text': 'Lake George'}, {'start': 8027, 'end': 8029, 'label': ['LOC'], 'text': 'Willandra Lakes'}, {'start': 8085, 'end': 8086, 'label': ['LOC'], 'text': 'Lachlan'}, {'start': 8280, 'end': 8282, 'label': ['LOC'], 'text': 'Riverine Plain'}, {'start': 8314, 'end': 8317, 'label': ['LOC'], 'text': 'the Nepean River'}, {'start': 8392, 'end': 8394, 'label': ['LOC'], 'text': 'Flinders Ranges'}, {'start': 8427, 'end': 8428, 'label': ['LOC'], 'text': 'Sahara'}, {'start': 8571, 'end': 8572, 'label': ['LOC'], 'text': 'Sahara'}, {'start': 8712, 'end': 8713, 'label': ['LOC'], 'text': 'Sahara'}, {'start': 8791, 'end': 8793, 'label': ['LOC'], 'text': 'Willandra Lakes'}, {'start': 8839, 'end': 8842, 'label': ['LOC'], 'text': 'the Riverine Plain'}, {'start': 8916, 'end': 8917, 'label': ['LOC'], 'text': 'SW'}, {'start': 9318, 'end': 9319, 'label': ['LOC'], 'text': 'Atlantic'}, {'start': 9351, 'end': 9355, 'label': ['LOC'], 'text': 'the Dead Sea Rift'}, {'start': 9496, 'end': 9498, 'label': ['LOC'], 'text': 'Lake George'}, {'start': 9532, 'end': 9533, 'label': ['LOC'], 'text': 'Sahara'}, {'start': 9562, 'end': 9563, 'label': ['LOC'], 'text': 'Sahara'}, {'start': 9923, 'end': 9925, 'label': ['LOC'], 'text': 'Mt Kosciusko'}, {'start': 9989, 'end': 9991, 'label': ['LOC'], 'text': 'Lake George'}, {'start': 10152, 'end': 10153, 'label': ['LOC'], 'text': 'Africa'}, {'start': 10201, 'end': 10202, 'label': ['LOC'], 'text': 'piedmont'}, {'start': 10250, 'end': 10251, 'label': ['LOC'], 'text': 'Sahara'}, {'start': 10363, 'end': 10364, 'label': ['LOC'], 'text': 'Sahara'}, {'start': 10464, 'end': 10465, 'label': ['LOC'], 'text': 'Sahara'}, {'start': 10466, 'end': 10469, 'label': ['LOC'], 'text': 'The Near East'}, {'start': 10551, 'end': 10552, 'label': ['LOC'], 'text': 'Sahara'}, {'start': 10580, 'end': 10581, 'label': ['LOC'], 'text': 'Sahara'}, {'start': 10617, 'end': 10618, 'label': ['LOC'], 'text': 'Africa'}, {'start': 10683, 'end': 10684, 'label': ['LOC'], 'text': 'Alexandersfontein'}, {'start': 10718, 'end': 10720, 'label': ['LOC'], 'text': 'Cape Flats'}, {'start': 11033, 'end': 11036, 'label': ['LOC'], 'text': 'the Snowy Mts'}, {'start': 11064, 'end': 11066, 'label': ['LOC'], 'text': 'North America'}, {'start': 11067, 'end': 11069, 'label': ['LOC'], 'text': 'NW Europe'}, {'start': 11072, 'end': 11075, 'label': ['LOC'], 'text': 'the Snowy Mts'}, {'start': 11174, 'end': 11176, 'label': ['LOC'], 'text': 'NW Europe'}, {'start': 11194, 'end': 11197, 'label': ['LOC'], 'text': 'the Northern Hemisphere'}, {'start': 11206, 'end': 11207, 'label': ['LOC'], 'text': 'SE'}, {'start': 11228, 'end': 11229, 'label': ['LOC'], 'text': 'Africa'}, {'start': 11230, 'end': 11232, 'label': ['LOC'], 'text': 'South America'}, {'start': 11526, 'end': 11527, 'label': ['LOC'], 'text': 'Sahara'}, {'start': 11598, 'end': 11599, 'label': ['LOC'], 'text': 'Antarctic'}, {'start': 11626, 'end': 11627, 'label': ['LOC'], 'text': 'Antarctic'}, {'start': 11671, 'end': 11674, 'label': ['LOC'], 'text': 'the Snowy Mts'}, {'start': 11717, 'end': 11720, 'label': ['LOC'], 'text': 'the Northern Hemisphere'}, {'start': 11770, 'end': 11771, 'label': ['LOC'], 'text': 'Europe'}, {'start': 11811, 'end': 11812, 'label': ['LOC'], 'text': 'Sahara'}, {'start': 11822, 'end': 11823, 'label': ['LOC'], 'text': 'Sahel'}, {'start': 11901, 'end': 11902, 'label': ['LOC'], 'text': 'Sahara'}, {'start': 11918, 'end': 11919, 'label': ['LOC'], 'text': 'Sahara'}, {'start': 11939, 'end': 11940, 'label': ['LOC'], 'text': 'Mediterranean'}, {'start': 11954, 'end': 11956, 'label': ['LOC'], 'text': 'Eastern Europe'}, {'start': 11957, 'end': 11959, 'label': ['LOC'], 'text': 'North America'}, {'start': 11982, 'end': 11983, 'label': ['LOC'], 'text': 'Siberia'}, {'start': 12047, 'end': 12048, 'label': ['LOC'], 'text': 'Sahara'}, {'start': 12050, 'end': 12051, 'label': ['LOC'], 'text': 'Siberia'}, {'start': 12057, 'end': 12058, 'label': ['LOC'], 'text': 'Urals'}, {'start': 12062, 'end': 12063, 'label': ['LOC'], 'text': 'Sahara'}, {'start': 12090, 'end': 12093, 'label': ['LOC'], 'text': 'the Northern Hemisphere'}, {'start': 12121, 'end': 12123, 'label': ['LOC'], 'text': 'NW Europe'}, {'start': 12145, 'end': 12146, 'label': ['LOC'], 'text': 'Mediterranean'}, {'start': 12179, 'end': 12180, 'label': ['LOC'], 'text': 'Cyrenaica'}, {'start': 12320, 'end': 12321, 'label': ['LOC'], 'text': 'Sahara'}, {'start': 12382, 'end': 12385, 'label': ['LOC'], 'text': 'the Southern Hemisphere'}, {'start': 12441, 'end': 12442, 'label': ['LOC'], 'text': 'Atlantic'}, {'start': 12445, 'end': 12446, 'label': ['LOC'], 'text': 'Sahara'}, {'start': 12485, 'end': 12486, 'label': ['LOC'], 'text': 'Europe'}, {'start': 12491, 'end': 12492, 'label': ['LOC'], 'text': 'Antarctica'}, {'start': 12507, 'end': 12508, 'label': ['LOC'], 'text': 'Sahel'}, {'start': 12522, 'end': 12523, 'label': ['LOC'], 'text': 'Sahel'}, {'start': 12564, 'end': 12567, 'label': ['LOC'], 'text': 'the Southern Hemisphere'}, {'start': 12615, 'end': 12616, 'label': ['LOC'], 'text': 'Sahel'}, {'start': 12639, 'end': 12641, 'label': ['LOC'], 'text': 'Southern Hemisphere'}, {'start': 12648, 'end': 12649, 'label': ['LOC'], 'text': 'Antarctic'}, {'start': 12664, 'end': 12665, 'label': ['LOC'], 'text': 'Africa'}, {'start': 12683, 'end': 12684, 'label': ['LOC'], 'text': 'Africa'}, {'start': 12741, 'end': 12742, 'label': ['LOC'], 'text': 'Sahara'}, {'start': 12760, 'end': 12761, 'label': ['LOC'], 'text': 'Sahara'}, {'start': 12773, 'end': 12774, 'label': ['LOC'], 'text': 'Sahara'}, {'start': 12791, 'end': 12794, 'label': ['LOC'], 'text': 'the Middle East'}, {'start': 12837, 'end': 12838, 'label': ['LOC'], 'text': 'Rockies'}, {'start': 12860, 'end': 12861, 'label': ['LOC'], 'text': 'Atlantic'}, {'start': 12863, 'end': 12865, 'label': ['LOC'], 'text': 'North America'}, {'start': 12888, 'end': 12891, 'label': ['LOC'], 'text': 'the NE Pacific'}, {'start': 12961, 'end': 12962, 'label': ['LOC'], 'text': 'Europe'}, {'start': 12963, 'end': 12965, 'label': ['LOC'], 'text': 'NE Atlantic'}, {'start': 12976, 'end': 12977, 'label': ['LOC'], 'text': 'NE'}, {'start': 12980, 'end': 12981, 'label': ['LOC'], 'text': 'Sahara'}, {'start': 13004, 'end': 13005, 'label': ['LOC'], 'text': 'Sahel'}, {'start': 13023, 'end': 13024, 'label': ['LOC'], 'text': 'Rockies'}, {'start': 13032, 'end': 13033, 'label': ['LOC'], 'text': 'Rockies'}, {'start': 13047, 'end': 13049, 'label': ['LOC'], 'text': 'North America'}, {'start': 13068, 'end': 13070, 'label': ['LOC'], 'text': 'Northern Hemisphere'}, {'start': 13115, 'end': 13116, 'label': ['LOC'], 'text': 'Mediterranean'}, {'start': 13134, 'end': 13137, 'label': ['LOC'], 'text': 'the NE Pacific'}, {'start': 13167, 'end': 13168, 'label': ['LOC'], 'text': 'Africa'}, {'start': 13169, 'end': 13171, 'label': ['LOC'], 'text': 'South America'}, {'start': 13336, 'end': 13339, 'label': ['LOC'], 'text': 'the North Atlantic'}, {'start': 13395, 'end': 13396, 'label': ['LOC'], 'text': 'Sahara'}, {'start': 13452, 'end': 13453, 'label': ['LOC'], 'text': 'Europe'}, {'start': 13474, 'end': 13475, 'label': ['LOC'], 'text': 'Sahara'}, {'start': 13576, 'end': 13577, 'label': ['LOC'], 'text': 'Sahara'}, {'start': 13612, 'end': 13614, 'label': ['LOC'], 'text': 'Western Australia'}, {'start': 13615, 'end': 13618, 'label': ['LOC'], 'text': 'the west Sahara'}, {'start': 13669, 'end': 13670, 'label': ['LOC'], 'text': 'Africa'}, {'start': 13709, 'end': 13710, 'label': ['LOC'], 'text': 'Antarctica'}, {'start': 13720, 'end': 13723, 'label': ['LOC'], 'text': 'the Southern Hemisphere'}, {'start': 13742, 'end': 13745, 'label': ['LOC'], 'text': 'The Willandra Lakes'}, {'start': 13834, 'end': 13835, 'label': ['LOC'], 'text': 'Murrumbidgee'}, {'start': 13948, 'end': 13949, 'label': ['LOC'], 'text': 'SW'}, {'start': 13999, 'end': 14000, 'label': ['LOC'], 'text': 'Antarctic'}, {'start': 14064, 'end': 14065, 'label': ['LOC'], 'text': 'Sahara'}, {'start': 14097, 'end': 14098, 'label': ['LOC'], 'text': 'Sahara'}, {'start': 14120, 'end': 14121, 'label': ['LOC'], 'text': 'Sahel'}, {'start': 14157, 'end': 14160, 'label': ['LOC'], 'text': 'the Northern Hemisphere'}, {'start': 14172, 'end': 14175, 'label': ['LOC'], 'text': 'the Southern Hemisphere'}, {'start': 14208, 'end': 14209, 'label': ['LOC'], 'text': 'Sahara'}, {'start': 14249, 'end': 14250, 'label': ['LOC'], 'text': 'Ruwenzori'}, {'start': 14299, 'end': 14300, 'label': ['LOC'], 'text': 'Europe'}, {'start': 14301, 'end': 14303, 'label': ['LOC'], 'text': 'North America'}, {'start': 14352, 'end': 14354, 'label': ['LOC'], 'text': 'Bass Strait'}, {'start': 14376, 'end': 14377, 'label': ['LOC'], 'text': 'Africa'}, {'start': 14385, 'end': 14388, 'label': ['LOC'], 'text': 'the Southern Hemisphere'}, {'start': 14440, 'end': 14446, 'label': ['LOC'], 'text': 'Dead Sea ( Z.B.Begin c ~'}, {'start': 14455, 'end': 14456, 'label': ['LOC'], 'text': 'Lakes'}, {'start': 14475, 'end': 14477, 'label': ['LOC'], 'text': 'Ranges South'}, {'start': 14593, 'end': 14596, 'label': ['LOC'], 'text': 'the Northern Hemisphere'}, {'start': 14700, 'end': 14701, 'label': ['LOC'], 'text': 'Sahara'}, {'start': 14727, 'end': 14728, 'label': ['LOC'], 'text': 'Africa'}, {'start': 14752, 'end': 14753, 'label': ['LOC'], 'text': 'Sahara'}, {'start': 14763, 'end': 14764, 'label': ['LOC'], 'text': 'Sahel'}, {'start': 14786, 'end': 14787, 'label': ['LOC'], 'text': 'Africa'}, {'start': 15000, 'end': 15001, 'label': ['LOC'], 'text': 'Ruwenzori'}, {'start': 15103, 'end': 15104, 'label': ['LOC'], 'text': 'Sahara'}, {'start': 15111, 'end': 15112, 'label': ['LOC'], 'text': 'Africa'}, {'start': 15192, 'end': 15193, 'label': ['LOC'], 'text': 'Sahel'}, {'start': 15203, 'end': 15204, 'label': ['LOC'], 'text': 'Atlantic'}, {'start': 15205, 'end': 15208, 'label': ['LOC'], 'text': 'the Red Sea'}, {'start': 15315, 'end': 15316, 'label': ['LOC'], 'text': 'Sahara'}, {'start': 15541, 'end': 15542, 'label': ['LOC'], 'text': 'Sahara'}, {'start': 15704, 'end': 15705, 'label': ['LOC'], 'text': 'Africa'}, {'start': 15735, 'end': 15736, 'label': ['LOC'], 'text': 'Sahara'}, {'start': 15826, 'end': 15827, 'label': ['LOC'], 'text': 'Sahara'}, {'start': 15862, 'end': 15863, 'label': ['LOC'], 'text': 'Sahel'}, {'start': 15935, 'end': 15937, 'label': ['LOC'], 'text': 'North America'}, {'start': 15938, 'end': 15939, 'label': ['LOC'], 'text': 'Europe'}, {'start': 15957, 'end': 15958, 'label': ['LOC'], 'text': 'Sahara'}, {'start': 16024, 'end': 16025, 'label': ['LOC'], 'text': 'piedmont'}, {'start': 16092, 'end': 16093, 'label': ['LOC'], 'text': 'Sahel'}, {'start': 16097, 'end': 16098, 'label': ['LOC'], 'text': 'Sahara'}, {'start': 16163, 'end': 16164, 'label': ['LOC'], 'text': 'Sahara'}, {'start': 16195, 'end': 16196, 'label': ['LOC'], 'text': 'Sahara'}, {'start': 16236, 'end': 16237, 'label': ['LOC'], 'text': 'Sahara'}, {'start': 16278, 'end': 16279, 'label': ['LOC'], 'text': 'Sahara'}, {'start': 16298, 'end': 16299, 'label': ['LOC'], 'text': 'Sahara'}, {'start': 16343, 'end': 16344, 'label': ['LOC'], 'text': 'Sahara'}, {'start': 16483, 'end': 16484, 'label': ['LOC'], 'text': 'Sahara'}, {'start': 16504, 'end': 16505, 'label': ['LOC'], 'text': 'Sahel'}, {'start': 16527, 'end': 16528, 'label': ['LOC'], 'text': 'Africa'}, {'start': 16542, 'end': 16543, 'label': ['LOC'], 'text': 'Antarctic'}, {'start': 16548, 'end': 16550, 'label': ['LOC'], 'text': 'Northern Hemisphere'}, {'start': 16595, 'end': 16598, 'label': ['LOC'], 'text': 'the Antarctic Convergence'}, {'start': 16642, 'end': 16643, 'label': ['LOC'], 'text': 'Sahel'}, {'start': 16664, 'end': 16667, 'label': ['LOC'], 'text': 'the South Atlantic'}, {'start': 16679, 'end': 16680, 'label': ['LOC'], 'text': 'Sahara'}, {'start': 16751, 'end': 16754, 'label': ['LOC'], 'text': 'the Northern Hemisphere'}, {'start': 16792, 'end': 16793, 'label': ['LOC'], 'text': 'Sahara'}, {'start': 16835, 'end': 16836, 'label': ['LOC'], 'text': 'Sahel'}, {'start': 16878, 'end': 16879, 'label': ['LOC'], 'text': 'Sahara'}, {'start': 17122, 'end': 17124, 'label': ['LOC'], 'text': 'Rainfall Maps'}, {'start': 17220, 'end': 17223, 'label': ['LOC'], 'text': 'the Dead Sea'}, {'start': 17548, 'end': 17550, 'label': ['LOC'], 'text': 'North Atlantic'}, {'start': 17640, 'end': 17642, 'label': ['LOC'], 'text': 'Central Australia'}, {'start': 17668, 'end': 17669, 'label': ['LOC'], 'text': 'Sahara'}, {'start': 17701, 'end': 17707, 'label': ['LOC'], 'text': 'the Riverine Plain of Southeastern Australia'}, {'start': 17729, 'end': 17730, 'label': ['LOC'], 'text': 'Desert'}, {'start': 17731, 'end': 17732, 'label': ['LOC'], 'text': 'River'}, {'start': 17740, 'end': 17743, 'label': ['LOC'], 'text': 'the Aswan Reservoir'}, {'start': 17834, 'end': 17837, 'label': ['LOC'], 'text': 'the Toolong Range'}, {'start': 17912, 'end': 17913, 'label': ['LOC'], 'text': 'Sahel'}, {'start': 17991, 'end': 17993, 'label': ['LOC'], 'text': 'Central Sahara'}, {'start': 18115, 'end': 18117, 'label': ['LOC'], 'text': 'North Atlantic'}, {'start': 18130, 'end': 18132, 'label': ['LOC'], 'text': 'Snowy Mountains'}, {'start': 18162, 'end': 18165, 'label': ['LOC'], 'text': 'the Snowy Mountains'}, {'start': 18166, 'end': 18168, 'label': ['LOC'], 'text': 'Southeastern Australia'}, {'start': 18199, 'end': 18201, 'label': ['LOC'], 'text': 'Mt Kosciusko'}, {'start': 18350, 'end': 18353, 'label': ['LOC'], 'text': 'N.W. Central Tasmania'}, {'start': 18480, 'end': 18482, 'label': ['LOC'], 'text': 'Western Victoria'}, {'start': 18568, 'end': 18570, 'label': ['LOC'], 'text': 'Mt Kilimanjaro'}, {'start': 18571, 'end': 18573, 'label': ['LOC'], 'text': 'Northeast Tanganyika'}, {'start': 18643, 'end': 18644, 'label': ['LOC'], 'text': 'Sahara'}, {'start': 18791, 'end': 18796, 'label': ['LOC'], 'text': 'the Northeastern Gulf of Mexico'}, {'start': 19013, 'end': 19014, 'label': ['LOC'], 'text': 'Sahara'}, {'start': 19246, 'end': 19249, 'label': ['LOC'], 'text': 'the Sahara Desert'}, {'start': 19287, 'end': 19288, 'label': ['LOC'], 'text': 'Sahara'}, {'start': 19318, 'end': 19321, 'label': ['LOC'], 'text': 'the Rift Valley'}, {'start': 19322, 'end': 19324, 'label': ['LOC'], 'text': 'Southern Ethiopia'}, {'start': 19402, 'end': 19403, 'label': ['LOC'], 'text': 'Caribbean'}, {'start': 19404, 'end': 19406, 'label': ['LOC'], 'text': 'Central America'}, {'start': 19443, 'end': 19444, 'label': ['LOC'], 'text': 'Atlantic'}, {'start': 19481, 'end': 19482, 'label': ['LOC'], 'text': 'Atlantic'}, {'start': 19488, 'end': 19491, 'label': ['LOC'], 'text': 'the Antarctic Ocean'}, {'start': 19526, 'end': 19527, 'label': ['LOC'], 'text': 'Africa'}, {'start': 19572, 'end': 19573, 'label': ['LOC'], 'text': 'Mediterranean'}, {'start': 19588, 'end': 19591, 'label': ['LOC'], 'text': '-)The Mediterranean Sea'}, {'start': 19832, 'end': 19833, 'label': ['LOC'], 'text': 'Desert'}, {'start': 19838, 'end': 19841, 'label': ['LOC'], 'text': 'the Fitzroy Estuary'}, {'start': 19842, 'end': 19844, 'label': ['LOC'], 'text': 'Northwestern Australia'}, {'start': 19890, 'end': 19892, 'label': ['LOC'], 'text': 'Lake Victoria'}, {'start': 19911, 'end': 19913, 'label': ['LOC'], 'text': 'Lake Euramoo'}, {'start': 19937, 'end': 19939, 'label': ['LOC'], 'text': 'Quincan Crater'}, {'start': 19940, 'end': 19944, 'label': ['LOC'], 'text': 'North-east Queensland'}, {'start': 20163, 'end': 20166, 'label': ['LOC'], 'text': 'the Ruwenzori mountains'}, {'start': 20317, 'end': 20320, 'label': ['LOC'], 'text': 'the South Mediterranean'}, {'start': 20340, 'end': 20342, 'label': ['LOC'], 'text': 'North Atlantic'}, {'start': 20428, 'end': 20429, 'label': ['LOC'], 'text': 'Pacific'}, {'start': 20453, 'end': 20454, 'label': ['LOC'], 'text': 'Sea'}, {'start': 20620, 'end': 20621, 'label': ['LOC'], 'text': 'Sahara'}, {'start': 20645, 'end': 20647, 'label': ['LOC'], 'text': 'Murray River'}, {'start': 20803, 'end': 20804, 'label': ['LOC'], 'text': 'Sahara'}, {'start': 20916, 'end': 20917, 'label': ['LOC'], 'text': 'Sahara'}, {'start': 20999, 'end': 21002, 'label': ['LOC'], 'text': 'the North Atlantic'}, {'start': 21021, 'end': 21025, 'label': ['LOC'], 'text': 'the Cape Flats Area'}, {'start': 21052, 'end': 21054, 'label': ['LOC'], 'text': 'Murrumbidgee River'}, {'start': 21274, 'end': 21275, 'label': ['LOC'], 'text': 'Sahara'}, {'start': 21310, 'end': 21312, 'label': ['LOC'], 'text': 'Melville Island'}, {'start': 21336, 'end': 21339, 'label': ['LOC'], 'text': 'the Blue Mountains'}, {'start': 21346, 'end': 21347, 'label': ['LOC'], 'text': 'Oceania'}, {'start': 21472, 'end': 21475, 'label': ['LOC'], 'text': 'the Timor Sea'}, {'start': 21503, 'end': 21506, 'label': ['LOC'], 'text': 'the Timor Sea'}, {'start': 21572, 'end': 21574, 'label': ['LOC'], 'text': 'Southern Africa'}, {'start': 21600, 'end': 21603, 'label': ['LOC'], 'text': 'North-eastern'}, {'start': 21619, 'end': 21622, 'label': ['LOC'], 'text': 'The Mediterranean Valleys'}, {'start': 21729, 'end': 21731, 'label': ['LOC'], 'text': 'North America'}, {'start': 21783, 'end': 21785, 'label': ['LOC'], 'text': 'Northern Greece'}, {'start': 21812, 'end': 21816, 'label': ['LOC'], 'text': 'the Southern Indian Ocean'}, {'start': 21846, 'end': 21847, 'label': ['LOC'], 'text': 'Sahara'}, {'start': 22011, 'end': 22014, 'label': ['LOC'], 'text': 'the White Nile'}, {'start': 22043, 'end': 22045, 'label': ['LOC'], 'text': 'Upper Quaternary'}]\n"
     ]
    }
   ],
   "source": [
    "import spacy\n",
    "from spacy.pipeline.ner import DEFAULT_NER_MODEL\n",
    "\n",
    "nlp = spacy.load('en_core_web_lg')\n",
    "\n",
    "config = {\n",
    "   \"moves\": None,\n",
    "   \"update_with_oracle_cut_size\": 100,\n",
    "   \"model\": DEFAULT_NER_MODEL,\n",
    "   \"incorrect_spans_key\": \"incorrect_spans\",\n",
    "}\n",
    "# nlp.add_pipe(\"ner\", config=config)\n",
    "with open(\"../data/raw/54b43244e138239d8684933b.txt\", 'r') as f:\n",
    "    text = f.readlines()\n",
    "\n",
    "doc = nlp(text[0])\n",
    "labels = []\n",
    "for ent in doc.ents:\n",
    "    if ent.label_ == \"LOC\":\n",
    "        labels.append({\n",
    "            \"start\": ent.start,\n",
    "            \"end\": ent.end,\n",
    "            \"label\": [\"LOC\"],\n",
    "            \"text\": ent.text\n",
    "        })\n",
    "print(labels)"
   ]
  },
  {
   "cell_type": "code",
   "execution_count": 15,
   "metadata": {},
   "outputs": [
    {
     "data": {
      "text/plain": [
       "spacy.lang.en.English"
      ]
     },
     "execution_count": 15,
     "metadata": {},
     "output_type": "execute_result"
    }
   ],
   "source": [
    "type(nlp)"
   ]
  },
  {
   "cell_type": "code",
   "execution_count": 17,
   "metadata": {},
   "outputs": [
    {
     "data": {
      "text/plain": [
       "spacy.language.Language"
      ]
     },
     "execution_count": 17,
     "metadata": {},
     "output_type": "execute_result"
    }
   ],
   "source": [
    "spacy.Language"
   ]
  },
  {
   "attachments": {},
   "cell_type": "markdown",
   "metadata": {},
   "source": [
    "## Taxa - TAXA"
   ]
  },
  {
   "attachments": {},
   "cell_type": "markdown",
   "metadata": {},
   "source": [
    "The baseline approach to extract taxas from full text journal articles is to perform string matching. Using an exhaustive list of all the taxas is present on the neotoma database, we search for the exact taxon names in literature. "
   ]
  },
  {
   "attachments": {},
   "cell_type": "markdown",
   "metadata": {},
   "source": [
    "## Age - AGE\n",
    "\n",
    "The age of samples is often reported in the literature in a variety of formats.  The most common formats are:\n",
    "- years BP - before present\n",
    "- kyr BP - 1000’s of years BP\n",
    "- ka BP - kilo annum BP\n",
    "- a BP - annum BP\n",
    "- Ma BP - million years BP\n",
    "- YBP - years BP\n",
    "\n",
    "In Neotoma there are three age columns, we have ageold, agetype and ageyoung.\n",
    "\n",
    "- agetype: Age type or units. Includes the following:\n",
    "  - Calendar years AD/BC\n",
    "  - Calendar years BP\n",
    "  - Calibrated radiocarbon years BP\n",
    "  - Radiocarbon years BP\n",
    "  - Varve years BP\n",
    "\n",
    "The baseline solution based off of Goring et. al 2021 uses regular expressions to:\n",
    "1. Identify the age entity in the sentence - `\" BP \"`\n",
    "2. Determine if it is a range of dates - `\"(\\\\d+(?:[.]\\\\d+)*) ((?:- {1,2})|(?:to)) (\\\\d+(?:[.]\\\\d+)*) ([a-zA-Z]+,BP\"`\n",
    "3. Extract the age entity from the sentence - `\"(\\\\d+(?:[.]\\\\d+)*),((?:- {1,2})|(?:to)),(\\\\d+(?:[.]\\\\d+)*),([a-zA-Z]+,BP),\"`"
   ]
  },
  {
   "cell_type": "code",
   "execution_count": null,
   "metadata": {},
   "outputs": [],
   "source": [
    "test_sentences = [\n",
    "    \"1234 BP\",\n",
    "    \"1234 Ma BP\",\n",
    "    \"1234 to 1235 BP\",\n",
    "    \"1234 - 1235 BP\",\n",
    "    \"1234 -- 1235 BP\",\n",
    "    \"1234 BP and 456 to 789 BP\",\n",
    "    \"1234 BP and 456 to 789 Ma BP\",\n",
    "]\n",
    "\n",
    "expected_results = [\n",
    "    [{'start': 0, 'end': 7, 'label': ['AGE'], 'text': '1234 BP'}],\n",
    "    [{'start': 0, 'end': 10, 'label': ['AGE'], 'text': '1234 Ma BP'}],\n",
    "    [{'start': 0, 'end': 15, 'label': ['AGE'], 'text': '1234 to 1235 BP'}],\n",
    "    [{'start': 0, 'end': 14, 'label': ['AGE'], 'text': '1234 - 1235 BP'}],\n",
    "    [{'start': 0, 'end': 15, 'label': ['AGE'], 'text': '1234 -- 1235 BP'}],\n",
    "    [\n",
    "        {'start': 0, 'end': 7, 'label': ['AGE'], 'text': '1234 BP'}, \n",
    "        {'start': 12, 'end': 25, 'label': ['AGE'], 'text': '456 to 789 BP'}\n",
    "    ],\n",
    "    [\n",
    "        {'start': 0, 'end': 7, 'label': ['AGE'], 'text': '1234 BP'}, \n",
    "        {'start': 12, 'end': 28, 'label': ['AGE'], 'text': '456 to 789 Ma BP'}\n",
    "    ],\n",
    "]"
   ]
  },
  {
   "cell_type": "code",
   "execution_count": null,
   "metadata": {},
   "outputs": [],
   "source": [
    "# test that all the test sentences are extracted correctly\n",
    "for i, sentence in enumerate(test_sentences):\n",
    "\n",
    "    extracted_ages = extract_age(sentence)\n",
    "\n",
    "    print(f\"Testing sentence: {sentence}\")\n",
    "    print(f\"Got: {extracted_ages}\\n\")\n",
    "    assert extracted_ages == expected_results[i]"
   ]
  },
  {
   "attachments": {},
   "cell_type": "markdown",
   "metadata": {},
   "source": [
    "## Altitude - ALTI\n",
    "\n",
    "To identify altitude descriptions the primary indicators are:\n",
    "- \"above sea level\"\n",
    "- \"a.s.l.\"\n",
    "- a single m as the last character after numbers or as a standalone word"
   ]
  },
  {
   "cell_type": "code",
   "execution_count": null,
   "metadata": {},
   "outputs": [],
   "source": [
    "test_sentences = [\n",
    "    \"120m above sea level\",\n",
    "    \"120m a.s.l.\",\n",
    "    \"120 m above sea level\",\n",
    "    \"120 m a.s.l.\",\n",
    "    \"120m asl\",\n",
    "    \"120 m asl\",\n",
    "    \"The site was 120m above sea level\",\n",
    "    \"The site was 120m a.s.l.\",\n",
    "    \"The site was 120 m above sea level\",\n",
    "    \"The site was 120 m a.s.l.\",\n",
    "    \"First site was 120m asl and the second was 300 m asl\",\n",
    "]\n",
    "\n",
    "expected_results = [\n",
    "    [{'start': 0, 'end': 20, 'label': ['ALTI'], 'text': '120m above sea level'}],\n",
    "    [{'start': 0, 'end': 11, 'label': ['ALTI'], 'text': '120m a.s.l.'}],\n",
    "    [{'start': 0, 'end': 21, 'label': ['ALTI'], 'text': '120 m above sea level'}],\n",
    "    [{'start': 0, 'end': 12, 'label': ['ALTI'], 'text': '120 m a.s.l.'}],\n",
    "    [{'start': 0, 'end': 8, 'label': ['ALTI'], 'text': '120m asl'}],\n",
    "    [{'start': 0, 'end': 9, 'label': ['ALTI'], 'text': '120 m asl'}],\n",
    "    [{'start': 13, 'end': 33, 'label': ['ALTI'], 'text': '120m above sea level'}],\n",
    "    [{'start': 13, 'end': 24, 'label': ['ALTI'], 'text': '120m a.s.l.'}],\n",
    "    [{'start': 13, 'end': 34, 'label': ['ALTI'], 'text': '120 m above sea level'}],\n",
    "    [{'start': 13, 'end': 25, 'label': ['ALTI'], 'text': '120 m a.s.l.'}],\n",
    "    [\n",
    "        {'start': 15, 'end': 23, 'label': ['ALTI'], 'text': '120m asl'},\n",
    "        {'start': 43, 'end': 52, 'label': ['ALTI'], 'text': '300 m asl'}\n",
    "    ]\n",
    "]"
   ]
  },
  {
   "cell_type": "code",
   "execution_count": null,
   "metadata": {},
   "outputs": [],
   "source": [
    "# test that all the test sentences are extracted correctly\n",
    "for i, sentence in enumerate(test_sentences):\n",
    "\n",
    "    extracted_altitude = extract_altitude(sentence)\n",
    "\n",
    "    print(f\"Testing sentence: {sentence}\")\n",
    "    print(f\"Found: {extracted_altitude}\\n\")\n",
    "    assert extracted_altitude == expected_results[i]"
   ]
  },
  {
   "attachments": {},
   "cell_type": "markdown",
   "metadata": {},
   "source": [
    "## Email Addresses - EMAIL\n",
    "\n",
    "There are existing regex patterns developed to identify emails. The one used below was sourced from this StackoverFlow thread: \n",
    "- https://stackoverflow.com/questions/201323/how-can-i-validate-an-email-address-using-a-regular-expression"
   ]
  },
  {
   "cell_type": "code",
   "execution_count": null,
   "metadata": {},
   "outputs": [],
   "source": [
    "test_sentences = [\n",
    "    \"ty.elgin.andrews@gmail.com\",\n",
    "    \"john.smith@aol.com\",\n",
    "    \"ty.andrews@student.ubc.ca\",\n",
    "    # from GGD 54b4324ae138239d8684a37b segment 0\n",
    "    \"E-mail addresses : carina.hoorn@milne.cc (C. Hoorn -) mauro.cremaschi@libero.it\"\n",
    "]\n",
    "\n",
    "expected_results = [\n",
    "    [{'start': 0, 'end': 26, 'label': ['EMAIL'], 'text': 'ty.elgin.andrews@gmail.com'}],\n",
    "    [{'start': 0, 'end': 18, 'label': ['EMAIL'], 'text': 'john.smith@aol.com'}],\n",
    "    [{'start': 0, 'end': 25, 'label': ['EMAIL'], 'text': 'ty.andrews@student.ubc.ca'}],\n",
    "    [\n",
    "        {'start': 19, 'end': 40, 'label': ['EMAIL'], 'text': 'carina.hoorn@milne.cc'},\n",
    "        {'start': 54, 'end': 79, 'label': ['EMAIL'], 'text': 'mauro.cremaschi@libero.it'}\n",
    "    ]\n",
    "]"
   ]
  },
  {
   "cell_type": "code",
   "execution_count": null,
   "metadata": {},
   "outputs": [],
   "source": [
    "for i, sentence in enumerate(test_sentences):\n",
    "\n",
    "    extracted_emails = extract_email(sentence)\n",
    "\n",
    "    print(f\"Testing sentence: {sentence}\")\n",
    "    print(f\"Found: {extracted_emails}\\n\")\n",
    "    assert extracted_emails == expected_results[i]"
   ]
  },
  {
   "attachments": {},
   "cell_type": "markdown",
   "metadata": {},
   "source": [
    "# Evaluation of Baseline Methods\n",
    "\n",
    "Multiple methods to evaluate the NER task are evaluated for a given report:\n",
    "1. Does the number instances of each category align with what is present in Neotoma?\n",
    "   1. For each article need to pull out the number of instances of each category for the given DOI/GDD id\n",
    "2. Does the number of instances of each category align with what has been labelled?\n",
    "   1. Using the team labelled reports, count the number of instances of each category for each report.\n",
    "3. Does the extracted locations align with the labelled locations?\n",
    "   1. This can be done with the Python package `seqeval` which is used to evaluate the performance of a sequence labeling tasks. ([`seqeval` Github](https://github.com/chakki-works/seqeval))"
   ]
  },
  {
   "attachments": {},
   "cell_type": "markdown",
   "metadata": {},
   "source": [
    "## Loading Raw & Labelled Data"
   ]
  },
  {
   "cell_type": "code",
   "execution_count": null,
   "metadata": {},
   "outputs": [],
   "source": [
    "from collections import defaultdict\n",
    "\n",
    "labelled_file_path = os.path.join(os.getcwd(), os.pardir, \"data\", \"labelled\", \"labelling-labelled\")"
   ]
  },
  {
   "attachments": {},
   "cell_type": "markdown",
   "metadata": {},
   "source": [
    "## Comparison to Neotoma Data\n",
    "\n"
   ]
  },
  {
   "cell_type": "code",
   "execution_count": null,
   "metadata": {},
   "outputs": [],
   "source": []
  },
  {
   "attachments": {},
   "cell_type": "markdown",
   "metadata": {},
   "source": [
    "## Comparison of Entity Counts to Labelled Data"
   ]
  },
  {
   "cell_type": "code",
   "execution_count": null,
   "metadata": {},
   "outputs": [],
   "source": [
    "labelled_files = os.listdir(labelled_file_path)\n",
    "\n",
    "# count the number of occurences of each label\n",
    "annotated_label_counts = defaultdict(int)\n",
    "baseline_label_counts = defaultdict(int)\n",
    "\n",
    "for file in labelled_files:\n",
    "    \n",
    "    with open(os.path.join(labelled_file_path, file), \"r\") as f:\n",
    "        task = json.load(f)\n",
    "\n",
    "    raw_text = task['task']['data']['text']\n",
    "    \n",
    "    # get the baseline annotations\n",
    "    baseline_result = baseline_extract_all(raw_text)\n",
    "    for baseline in baseline_result:\n",
    "        baseline_label_counts[baseline['label'][0]] += 1\n",
    "\n",
    "    annotation_result = task['result']\n",
    "    \n",
    "    for annotation in annotation_result:\n",
    "        annotated_label_counts[annotation['value']['labels'][0]] += 1"
   ]
  },
  {
   "cell_type": "code",
   "execution_count": null,
   "metadata": {},
   "outputs": [],
   "source": [
    "# plot the percentage of entities extracted by baseline vs annotated\n",
    "annotated_labels = list(annotated_label_counts.keys())\n",
    "annotated_counts = list(annotated_label_counts.values())\n",
    "\n",
    "baseline_counts = [baseline_label_counts[label] for label in annotated_labels]\n",
    "\n",
    "annotated_counts = np.array(annotated_counts)\n",
    "baseline_counts = np.array(baseline_counts)\n",
    "\n",
    "# make into a tidy dataframe with columns Label, Source, Count\n",
    "annotated_df = pd.DataFrame(\n",
    "    {\n",
    "        'Label': annotated_labels + annotated_labels,\n",
    "        'Source': ['Annotated'] * len(annotated_labels) + ['Baseline'] * len(annotated_labels),\n",
    "        'Count': np.concatenate([annotated_counts, baseline_counts])\n",
    "    }\n",
    ")\n",
    "\n",
    "fig = px.bar(\n",
    "    annotated_df,\n",
    "    x=\"Label\",\n",
    "    y=\"Count\",\n",
    "    color=\"Source\",\n",
    "    barmode='group',\n",
    "    # labels={'x': 'Labels', 'value': 'No. of Entities'},\n",
    "    title='Counts of Labels in Annotated and Baseline Results',\n",
    "    width=800,\n",
    ").update_layout(\n",
    "    xaxis={'categoryorder': 'total descending'}, \n",
    "    margin={'l': 0, 'r': 0, 't': 50, 'b': 0}, \n",
    ")\n",
    "\n",
    "fig.show()"
   ]
  },
  {
   "cell_type": "code",
   "execution_count": null,
   "metadata": {},
   "outputs": [],
   "source": [
    "percentage_extracted = baseline_counts / annotated_counts\n",
    "\n",
    "fig = px.bar(\n",
    "    x=annotated_labels, \n",
    "    y=percentage_extracted, \n",
    "    color=annotated_labels,\n",
    "    labels={'x': 'Labels', 'y': 'Percentage Extracted'},\n",
    "    title='Percentage of Entities Extracted by Baseline vs Annotated',\n",
    "    width=800,\n",
    "    text=np.round(percentage_extracted, 3)*100,\n",
    "    hover_name=annotated_labels,\n",
    ").update_layout(\n",
    "    xaxis={'categoryorder': 'total descending'},\n",
    "    margin={'l': 0, 'r': 0, 't': 50, 'b': 0},\n",
    "    yaxis={'tickformat': ',.0%'},\n",
    "    showlegend=False,\n",
    "    yaxis_range=[0, 1],\n",
    ")\n",
    "fig.show()\n"
   ]
  },
  {
   "attachments": {},
   "cell_type": "markdown",
   "metadata": {},
   "source": [
    "## Calculating Precision, Recall and F1 Scores with Seqeval\n",
    "\n",
    "The python package `seqeval` is used to evaluate the performance of a sequence labeling tasks. ([`seqeval` Github](https://github.com/chakki-works/seqeval)).\n",
    "\n",
    "It requires the following inputs:\n",
    "- `y_true` - a list of true labels of each token\n",
    "- `y_pred` - a list of predicted labels of each token\n",
    "\n",
    "To take the labelled data from label studio and convert it into the required format, we need to:\n",
    "1. Load the labelled data\n",
    "2. Convert the labelled data into a list of lists of labels with 'O' for tokens that are not part of an entity\n",
    "3. Convert the baseline predictions into a list of lists of labels with 'O' for tokens that are not part of an entity\n",
    "4. Calculate the precision, recall and f1 scores for each entity type\n",
    "\n",
    "### Load Labelled Data"
   ]
  },
  {
   "cell_type": "code",
   "execution_count": null,
   "metadata": {},
   "outputs": [],
   "source": [
    "labelled_file_path = os.path.join(os.getcwd(), os.pardir, \"data\", \"labelled\", \"labelling-labelled\")"
   ]
  },
  {
   "cell_type": "code",
   "execution_count": null,
   "metadata": {},
   "outputs": [],
   "source": [
    "def load_json_label_files(labelled_files: str):\n",
    "    \"\"\"\n",
    "    Load the json files containing the labelled data and combines the text\n",
    "    into a complete text string.\n",
    "\n",
    "    Parameters\n",
    "    ----------\n",
    "    label_files : list\n",
    "        List of json files containing the labelled data.\n",
    "\n",
    "    Returns\n",
    "    -------\n",
    "    combined_text : str\n",
    "        The combined text from all the files.\n",
    "    all_labelled_entities : list\n",
    "        List of all the labelled entities re-indexed to account for the combined text.\n",
    "\n",
    "    \"\"\"\n",
    "\n",
    "    combined_text = \"\"\n",
    "    all_labelled_entities = []\n",
    "    for file in labelled_files:\n",
    "        \n",
    "        with open(os.path.join(labelled_file_path, file), \"r\") as f:\n",
    "            task = json.load(f)\n",
    "\n",
    "        raw_text = task['task']['data']['text']\n",
    "\n",
    "        annotation_result = task['result']\n",
    "        labelled_entities = [annotation['value'] for annotation in annotation_result]\n",
    "\n",
    "        # add the current text length to the start and end indices of labels plus one for the space\n",
    "        for entity in labelled_entities:\n",
    "            entity['start'] += len(combined_text)\n",
    "            entity['end'] += len(combined_text)\n",
    "\n",
    "        all_labelled_entities += labelled_entities\n",
    "\n",
    "        # add the current text to the combined text with space in between\n",
    "        combined_text += raw_text + \" \"\n",
    "\n",
    "    return combined_text, all_labelled_entities"
   ]
  },
  {
   "attachments": {},
   "cell_type": "markdown",
   "metadata": {},
   "source": [
    "### Simplified Test of Evaluation\n",
    "\n",
    "The following test case is used to test the evaluation of the `seqeval` package. And ensure the steps to wrangle data into the required format are correct.\n",
    "\n",
    "The expected result is precision/accuracy/recall of 1.0 for all entity types."
   ]
  },
  {
   "cell_type": "code",
   "execution_count": null,
   "metadata": {},
   "outputs": [],
   "source": [
    "test_text = \"The site was 120m above sea level and 1234 BP and found Pediastrum\"\n",
    "test_labelled_entities = [\n",
    "    {'start': 13, 'end': 33, 'labels': ['ALTI'], 'text': '120m above sea level'},\n",
    "    {'start': 38, 'end': 45, 'labels': ['AGE'], 'text': '1234 BP'},\n",
    "    {'start': 56, 'end': 66, 'labels': ['TAXA'], 'text': 'Pediastrum'}\n",
    "]"
   ]
  },
  {
   "cell_type": "code",
   "execution_count": null,
   "metadata": {},
   "outputs": [],
   "source": [
    "# check the token labels and indexes match\n",
    "test_labelled_tokens = get_token_labels(test_labelled_entities, test_text)\n",
    "\n",
    "split_text = test_text.split()\n",
    "\n",
    "# check that the token labels are correct\n",
    "for i, token in enumerate(split_text):\n",
    "    print(f\"{token}: {test_labelled_tokens[i]}\")"
   ]
  },
  {
   "cell_type": "code",
   "execution_count": null,
   "metadata": {},
   "outputs": [],
   "source": [
    "test_baseline_entities = baseline_extract_all(test_text)\n",
    "test_baseline_tokens = get_token_labels(test_baseline_entities, test_text)"
   ]
  },
  {
   "cell_type": "code",
   "execution_count": null,
   "metadata": {},
   "outputs": [],
   "source": [
    "# calculate the metrics for the test case\n",
    "accuracy, f1, recall = calculate_entity_classification_metrics(\n",
    "    test_labelled_tokens, test_baseline_tokens\n",
    ")\n",
    "\n",
    "print(f\"Accuracy: {accuracy}\")\n",
    "print(f\"F1: {f1}\")\n",
    "print(f\"Recall: {recall}\")"
   ]
  },
  {
   "cell_type": "code",
   "execution_count": null,
   "metadata": {},
   "outputs": [],
   "source": [
    "plot_token_classification_report(\n",
    "    test_labelled_tokens, \n",
    "    test_baseline_tokens, \n",
    "    \"Test of Entity Extraction Classification Report\"\n",
    ")"
   ]
  },
  {
   "attachments": {},
   "cell_type": "markdown",
   "metadata": {},
   "source": [
    "### Evaluation of All Labelled Files\n",
    "\n",
    "The following code reads in all labelled files and evaluates the performance of the baseline models across all the text at once. A future improvement will be to be able to analyze individual research papers at a time."
   ]
  },
  {
   "cell_type": "code",
   "execution_count": null,
   "metadata": {},
   "outputs": [],
   "source": [
    "labelled_files = os.listdir(labelled_file_path)\n",
    "\n",
    "# load the labelled data\n",
    "combined_text, labelled_entities = load_json_label_files(labelled_files)\n",
    "\n",
    "# extract the baseline entities\n",
    "baseline_entities = baseline_extract_all(combined_text)"
   ]
  },
  {
   "cell_type": "code",
   "execution_count": null,
   "metadata": {},
   "outputs": [],
   "source": [
    "labelled_tokens = get_token_labels(labelled_entities, combined_text)\n",
    "baseline_tokens = get_token_labels(baseline_entities, combined_text)"
   ]
  },
  {
   "cell_type": "code",
   "execution_count": null,
   "metadata": {},
   "outputs": [],
   "source": [
    "# check that both lists are the same length as they should be split identically\n",
    "len(labelled_tokens), len(baseline_tokens)"
   ]
  },
  {
   "cell_type": "code",
   "execution_count": null,
   "metadata": {},
   "outputs": [],
   "source": [
    "accuracy, f1, recall = calculate_entity_classification_metrics(\n",
    "    labelled_tokens, baseline_tokens\n",
    ")\n",
    "\n",
    "print(f\"Accuracy: {accuracy}\")\n",
    "print(f\"F1: {f1}\")\n",
    "print(f\"Recall: {recall}\")"
   ]
  },
  {
   "cell_type": "code",
   "execution_count": null,
   "metadata": {},
   "outputs": [],
   "source": [
    "plot_token_classification_report(\n",
    "    labelled_tokens, \n",
    "    baseline_tokens, \n",
    "    title=\"Classification Report for Baseline Entity Extraction\"\n",
    ")"
   ]
  },
  {
   "cell_type": "code",
   "execution_count": null,
   "metadata": {},
   "outputs": [],
   "source": []
  }
 ],
 "metadata": {
  "kernelspec": {
   "display_name": "dsci531",
   "language": "python",
   "name": "python3"
  },
  "language_info": {
   "codemirror_mode": {
    "name": "ipython",
    "version": 3
   },
   "file_extension": ".py",
   "mimetype": "text/x-python",
   "name": "python",
   "nbconvert_exporter": "python",
   "pygments_lexer": "ipython3",
   "version": "3.10.11"
  },
  "orig_nbformat": 4
 },
 "nbformat": 4,
 "nbformat_minor": 2
}
