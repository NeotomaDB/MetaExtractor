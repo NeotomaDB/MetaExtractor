{
 "cells": [
  {
   "attachments": {},
   "cell_type": "markdown",
   "metadata": {},
   "source": [
    "# Fossil Data Extraction\n",
    "\n",
    "This notebook sets up, runs and evaluates the spacy transformer model for the fossil data extraction task.\n",
    "\n",
    "The spacy transformer model is trained on the named entity recognition task. It uses a transformer pretrained on the English language and fine-tuned on Paleoecological articles relevant for the Neotoma Database. Each token of text is assigned a category. Following are the classes used to fine-tune the named entity recognition model:\n",
    "\n",
    "| **Entity Name**            |\n",
    "|:---:|\n",
    "| Geographic Location - GEOG |\n",
    "| Region Name - REGION        \n",
    "| Taxa - TAXA                |\n",
    "| Age - AGE                  |\n",
    "| Altitude - ALTI            |\n",
    "| Email Address(es) - EMAIL  |\n"
   ]
  },
  {
   "cell_type": "code",
   "execution_count": 1,
   "metadata": {},
   "outputs": [
    {
     "name": "stderr",
     "output_type": "stream",
     "text": [
      "/home/jenit/yes/envs/fossil_lit/lib/python3.10/site-packages/torch/cuda/__init__.py:107: UserWarning: CUDA initialization: CUDA unknown error - this may be due to an incorrectly set up environment, e.g. changing env variable CUDA_VISIBLE_DEVICES after program start. Setting the available devices to be zero. (Triggered internally at /opt/conda/conda-bld/pytorch_1678411187366/work/c10/cuda/CUDAFunctions.cpp:109.)\n",
      "  return torch._C._cuda_getDeviceCount() > 0\n"
     ]
    }
   ],
   "source": [
    "import os, sys\n",
    "\n",
    "import re\n",
    "import pandas as pd\n",
    "import json\n",
    "import numpy as np\n",
    "import spacy\n",
    "import plotly.express as px\n",
    "\n",
    "# ensure that the parent directory is on the path for relative imports\n",
    "sys.path.append(os.path.join(os.path.abspath(''), \"..\"))\n",
    "\n",
    "from src.entity_extraction.prediction.spacy_entity_extraction import spacy_extract_all\n",
    "\n",
    "from src.entity_extraction.evaluation.entity_extraction_evaluation import (\n",
    "    get_token_labels,\n",
    "    plot_token_classification_report,\n",
    "    calculate_entity_classification_metrics,\n",
    "    visualize_mislabelled_entities\n",
    ")\n",
    "\n",
    "%load_ext autoreload\n",
    "%autoreload 2"
   ]
  },
  {
   "cell_type": "code",
   "execution_count": 5,
   "metadata": {},
   "outputs": [],
   "source": [
    "# Load the model\n",
    "spacy.require_cpu()\n",
    "ner_model = spacy.load(os.path.join(\n",
    "                        os.pardir,\n",
    "                        \"models\",\n",
    "                        \"ner\",\n",
    "                        \"transformer-v3\"))\n"
   ]
  },
  {
   "attachments": {},
   "cell_type": "markdown",
   "metadata": {},
   "source": [
    "## Geographic Location - GEOG"
   ]
  },
  {
   "cell_type": "code",
   "execution_count": 20,
   "metadata": {},
   "outputs": [],
   "source": [
    " test_sentences = [\n",
    "    \"40°26′46″N\",\n",
    "    \"40d 26′ 46″ N\",\n",
    "    \"N40°26′46″\",\n",
    "    \"N40d 26′ 46″\",\n",
    "    \"52°05.75′ N\",\n",
    "    \"10°50'E\",\n",
    "    ]\n",
    "\n",
    "expected_results = [\n",
    "    [{'start': 0, 'end': 10, 'labels': ['GEOG'], 'text': '40°26′46″N'}],\n",
    "    [{'start': 0, 'end': 13, 'labels': ['GEOG'], 'text': '40d 26′ 46″ N'}],\n",
    "    [{'start': 0, 'end': 10, 'labels': ['GEOG'], 'text': 'N40°26′46″'}],\n",
    "    [{'start': 0, 'end': 12, 'labels': ['GEOG'], 'text': 'N40d 26′ 46″'}],\n",
    "    [{'start': 0, 'end': 11, 'labels': ['GEOG'], 'text': '52°05.75′ N'}],\n",
    "    [{'start': 0, 'end': 7, 'labels': ['GEOG'], 'text': \"10°50'E\"}]\n",
    "]"
   ]
  },
  {
   "cell_type": "code",
   "execution_count": 21,
   "metadata": {},
   "outputs": [
    {
     "name": "stdout",
     "output_type": "stream",
     "text": [
      "Testing sentence: 40°26′46″N\n",
      "Got: [{'start': 0, 'end': 10, 'labels': ['GEOG'], 'text': '40°26′46″N'}]\n",
      "\n",
      "Testing sentence: 40d 26′ 46″ N\n",
      "Got: [{'start': 0, 'end': 13, 'labels': ['GEOG'], 'text': '40d 26′ 46″ N'}]\n",
      "\n",
      "Testing sentence: N40°26′46″\n",
      "Got: [{'start': 0, 'end': 10, 'labels': ['GEOG'], 'text': 'N40°26′46″'}]\n",
      "\n",
      "Testing sentence: N40d 26′ 46″\n",
      "Got: [{'start': 0, 'end': 12, 'labels': ['GEOG'], 'text': 'N40d 26′ 46″'}]\n",
      "\n",
      "Testing sentence: 52°05.75′ N\n",
      "Got: [{'start': 0, 'end': 11, 'labels': ['GEOG'], 'text': '52°05.75′ N'}]\n",
      "\n",
      "Testing sentence: 10°50'E\n",
      "Got: [{'start': 0, 'end': 7, 'labels': ['GEOG'], 'text': \"10°50'E\"}]\n",
      "\n"
     ]
    }
   ],
   "source": [
    "for i, sentence in enumerate(test_sentences):\n",
    "\n",
    "    extracted_geographic_coordinates = spacy_extract_all(sentence, ner_model)\n",
    "\n",
    "    print(f\"Testing sentence: {sentence}\")\n",
    "    print(f\"Got: {extracted_geographic_coordinates}\\n\")\n",
    "    assert extracted_geographic_coordinates == expected_results[i]"
   ]
  },
  {
   "attachments": {},
   "cell_type": "markdown",
   "metadata": {},
   "source": [
    "## Region Name - REGION"
   ]
  },
  {
   "cell_type": "code",
   "execution_count": 22,
   "metadata": {},
   "outputs": [],
   "source": [
    " test_sentences = [\n",
    "    \"Its relevance to northwestern Europe in the Late Quaternary Period ( H. NICHOLS -)231 Chronology of Postglacial pollen profiles in the Pacific Northwest ( U.S.A. )\",\n",
    "    \"The scenery around Garibaldi lake is pristine\",\n",
    "    \"This movie was shot in the old towns of Europe\",\n",
    "    \"Philosophical Transactions of and tbe pollen record in the British Isles, In : Birks HH, Birks HJb, Kaland PE, Moe D, eds.\",\n",
    "    \"Holocene fluctuations of cold climate in the Swiss Alps ( H. ZOLLER -)\"\n",
    "]\n",
    "\n",
    "expected_results = [\n",
    "    [{'start': 17, 'end': 36, 'labels': ['REGION'], 'text': 'northwestern Europe'}, {'start': 131, 'end': 152, 'labels': ['REGION'], 'text': 'the Pacific Northwest'}],\n",
    "    [{'start': 19, 'end': 33, 'labels': ['REGION'], 'text': 'Garibaldi lake'}],\n",
    "    [{'start': 40, 'end': 46, 'labels': ['REGION'], 'text': 'Europe'}],\n",
    "    [{'start': 55, 'end': 72, 'labels': ['REGION'], 'text': 'the British Isles'}],\n",
    "    [{'start': 41, 'end': 55, 'labels': ['REGION'], 'text': 'the Swiss Alps'}]\n",
    "]"
   ]
  },
  {
   "cell_type": "code",
   "execution_count": 23,
   "metadata": {},
   "outputs": [
    {
     "name": "stdout",
     "output_type": "stream",
     "text": [
      "Testing sentence: Its relevance to northwestern Europe in the Late Quaternary Period ( H. NICHOLS -)231 Chronology of Postglacial pollen profiles in the Pacific Northwest ( U.S.A. )\n",
      "Got: [{'start': 17, 'end': 36, 'labels': ['REGION'], 'text': 'northwestern Europe'}, {'start': 131, 'end': 152, 'labels': ['REGION'], 'text': 'the Pacific Northwest'}]\n",
      "\n",
      "Testing sentence: The scenery around Garibaldi lake is pristine\n",
      "Got: [{'start': 19, 'end': 33, 'labels': ['REGION'], 'text': 'Garibaldi lake'}]\n",
      "\n",
      "Testing sentence: This movie was shot in the old towns of Europe\n",
      "Got: [{'start': 40, 'end': 46, 'labels': ['REGION'], 'text': 'Europe'}]\n",
      "\n",
      "Testing sentence: Philosophical Transactions of and tbe pollen record in the British Isles, In : Birks HH, Birks HJb, Kaland PE, Moe D, eds.\n",
      "Got: [{'start': 55, 'end': 72, 'labels': ['REGION'], 'text': 'the British Isles'}]\n",
      "\n",
      "Testing sentence: Holocene fluctuations of cold climate in the Swiss Alps ( H. ZOLLER -)\n",
      "Got: [{'start': 41, 'end': 55, 'labels': ['REGION'], 'text': 'the Swiss Alps'}]\n",
      "\n"
     ]
    }
   ],
   "source": [
    "for i, sentence in enumerate(test_sentences):\n",
    "\n",
    "    extracted_region_names = spacy_extract_all(sentence, ner_model)\n",
    "    print(f\"Testing sentence: {sentence}\")\n",
    "    print(f\"Got: {extracted_region_names}\\n\")\n",
    "    assert extracted_region_names == expected_results[i]"
   ]
  },
  {
   "attachments": {},
   "cell_type": "markdown",
   "metadata": {},
   "source": [
    "## Taxa - TAXA"
   ]
  },
  {
   "cell_type": "code",
   "execution_count": 34,
   "metadata": {},
   "outputs": [],
   "source": [
    " test_sentences = [\n",
    "    \"Percentage calculation is based on the terrestrial pollen sum from which Betula was excluded KM/1 KM/2 KM/3 NM/1 NM/2 NM/3 NM/4 NM/5 NM/6 NM/7 NM/8\",\n",
    "    \"Description Salix 0.57 1.76 0.73 13.3 1.67 8.78 1.50 2.88 Solanum dulcamara 0 0 0.73 0 0 1.58 0 0 Lysimachia vulgaris 0 0 4.90 0 0.84 0.53 0 0 Mentha-type 00 0 1.04 0 0 00 Lemna 00 0 7.44 0 1.58 0 0\",\n",
    "    \"The first major impacts upon the vegetation record become eident from about 3610 BP with sharp reductions in arboreal taxa, the appearance of cerealtype pollen in L.A.BI, and marked increases in Calluna, Foaceae and Cyperaceae.\",\n",
    "    \"The overlying Sphagnum peat is devoid of clastic elements for a short period during which sediment inorganic content declines.\",\n",
    "    \"Abstract ) ( A. T. CROSS, G. G. THOMPSON and J. B. ZAITZEFF ) 3 - 1 1 Gymnospermae, general The gymnospermous affinity of Eucommiidites ERDTMAN, 1948\"\n",
    "]\n",
    "\n",
    "expected_results = [\n",
    "    [{'start': 73, 'end': 79, 'labels': ['TAXA'], 'text': 'Betula'}],\n",
    "    [\n",
    "        {'start': 12, 'end': 17, 'labels': ['TAXA'], 'text': 'Salix'}, \n",
    "        {'start': 58, 'end': 75, 'labels': ['TAXA'], 'text': 'Solanum dulcamara'}, \n",
    "        {'start': 98, 'end': 117, 'labels': ['TAXA'], 'text': 'Lysimachia vulgaris'}, \n",
    "        {'start': 143, 'end': 154, 'labels': ['TAXA'], 'text': 'Mentha-type'}, \n",
    "        {'start': 172, 'end': 177, 'labels': ['TAXA'], 'text': 'Lemna'},\n",
    "    ],\n",
    "    [\n",
    "        {'start': 195, 'end': 202, 'labels': ['TAXA'], 'text': 'Calluna'}, \n",
    "        {'start': 204, 'end': 211, 'labels': ['TAXA'], 'text': 'Foaceae'}, \n",
    "        {'start': 216, 'end': 226, 'labels': ['TAXA'], 'text': 'Cyperaceae'}\n",
    "    ],\n",
    "    [{'start': 14, 'end': 22, 'labels': ['TAXA'], 'text': 'Sphagnum'}],\n",
    "    [{'start': 70, 'end': 82, 'labels': ['TAXA'], 'text': 'Gymnospermae'}]\n",
    "]"
   ]
  },
  {
   "cell_type": "code",
   "execution_count": 35,
   "metadata": {},
   "outputs": [
    {
     "name": "stdout",
     "output_type": "stream",
     "text": [
      "Testing sentence: Percentage calculation is based on the terrestrial pollen sum from which Betula was excluded KM/1 KM/2 KM/3 NM/1 NM/2 NM/3 NM/4 NM/5 NM/6 NM/7 NM/8\n",
      "Got: [{'start': 73, 'end': 79, 'labels': ['TAXA'], 'text': 'Betula'}]\n",
      "\n",
      "Testing sentence: Description Salix 0.57 1.76 0.73 13.3 1.67 8.78 1.50 2.88 Solanum dulcamara 0 0 0.73 0 0 1.58 0 0 Lysimachia vulgaris 0 0 4.90 0 0.84 0.53 0 0 Mentha-type 00 0 1.04 0 0 00 Lemna 00 0 7.44 0 1.58 0 0\n",
      "Got: [{'start': 12, 'end': 17, 'labels': ['TAXA'], 'text': 'Salix'}, {'start': 58, 'end': 75, 'labels': ['TAXA'], 'text': 'Solanum dulcamara'}, {'start': 98, 'end': 117, 'labels': ['TAXA'], 'text': 'Lysimachia vulgaris'}, {'start': 143, 'end': 154, 'labels': ['TAXA'], 'text': 'Mentha-type'}, {'start': 172, 'end': 177, 'labels': ['TAXA'], 'text': 'Lemna'}]\n",
      "\n",
      "Testing sentence: The first major impacts upon the vegetation record become eident from about 3610 BP with sharp reductions in arboreal taxa, the appearance of cerealtype pollen in L.A.BI, and marked increases in Calluna, Foaceae and Cyperaceae.\n",
      "Got: [{'start': 195, 'end': 202, 'labels': ['TAXA'], 'text': 'Calluna'}, {'start': 204, 'end': 211, 'labels': ['TAXA'], 'text': 'Foaceae'}, {'start': 216, 'end': 226, 'labels': ['TAXA'], 'text': 'Cyperaceae'}]\n",
      "\n",
      "Testing sentence: The overlying Sphagnum peat is devoid of clastic elements for a short period during which sediment inorganic content declines.\n",
      "Got: [{'start': 14, 'end': 22, 'labels': ['TAXA'], 'text': 'Sphagnum'}]\n",
      "\n",
      "Testing sentence: Abstract ) ( A. T. CROSS, G. G. THOMPSON and J. B. ZAITZEFF ) 3 - 1 1 Gymnospermae, general The gymnospermous affinity of Eucommiidites ERDTMAN, 1948\n",
      "Got: [{'start': 70, 'end': 82, 'labels': ['TAXA'], 'text': 'Gymnospermae'}]\n",
      "\n"
     ]
    }
   ],
   "source": [
    "for i, sentence in enumerate(test_sentences):\n",
    "\n",
    "    extracted_taxas = spacy_extract_all(sentence, ner_model)\n",
    "    extracted_taxas = [taxa for taxa in extracted_taxas if taxa['labels'][0] == 'TAXA']\n",
    "    print(f\"Testing sentence: {sentence}\")\n",
    "    print(f\"Got: {extracted_taxas}\\n\")\n",
    "    assert extracted_taxas == expected_results[i]"
   ]
  },
  {
   "attachments": {},
   "cell_type": "markdown",
   "metadata": {},
   "source": [
    "## Age - AGE\n",
    "\n",
    "The age of samples is often reported in the literature in a variety of formats.  The most common formats are:\n",
    "- years BP - before present\n",
    "- kyr BP - 1000’s of years BP\n",
    "- ka BP - kilo annum BP\n",
    "- a BP - annum BP\n",
    "- Ma BP - million years BP\n",
    "- YBP - years BP\n",
    "\n",
    "In Neotoma there are three age columns, we have ageold, agetype and ageyoung.\n",
    "\n",
    "- agetype: Age type or units. Includes the following:\n",
    "  - Calendar years AD/BC\n",
    "  - Calendar years BP\n",
    "  - Calibrated radiocarbon years BP\n",
    "  - Radiocarbon years BP\n",
    "  - Varve years BP"
   ]
  },
  {
   "cell_type": "code",
   "execution_count": 36,
   "metadata": {},
   "outputs": [],
   "source": [
    "test_sentences = [\n",
    "    \"1234 BP\",\n",
    "    \"1234 Ma BP\",\n",
    "    \"1234 to 1235 BP\",\n",
    "    \"1234 - 1235 BP\",\n",
    "    \"1234 -- 1235 BP\",\n",
    "    \"1234 BP and 456 to 789 BP\",\n",
    "    \"1234 BP and 456 to 789 Ma BP\",\n",
    "    \"1234 ka BP\",\n",
    "    \"1234 a BP\",\n",
    "    \"1234 Ma BP\",\n",
    "    \"1234 kyr BP\",\n",
    "    \"1234 cal yr BP\",\n",
    "    \"1234 YBP\",\n",
    "    \"1234 14C BP\",\n",
    "]\n",
    "\n",
    "expected_results = [\n",
    "    [{'start': 0, 'end': 7, 'labels': ['AGE'], 'text': '1234 BP'}],\n",
    "    [{'start': 0, 'end': 10, 'labels': ['AGE'], 'text': '1234 Ma BP'}],\n",
    "    [{'start': 0, 'end': 15, 'labels': ['AGE'], 'text': '1234 to 1235 BP'}],\n",
    "    [{'start': 0, 'end': 14, 'labels': ['AGE'], 'text': '1234 - 1235 BP'}],\n",
    "    [{'start': 0, 'end': 15, 'labels': ['AGE'], 'text': '1234 -- 1235 BP'}],\n",
    "    [\n",
    "        {'start': 0, 'end': 7, 'labels': ['AGE'], 'text': '1234 BP'}, \n",
    "        {'start': 12, 'end': 25, 'labels': ['AGE'], 'text': '456 to 789 BP'}\n",
    "    ],\n",
    "    [\n",
    "        {'start': 0, 'end': 7, 'labels': ['AGE'], 'text': '1234 BP'}, \n",
    "        {'start': 12, 'end': 28, 'labels': ['AGE'], 'text': '456 to 789 Ma BP'}\n",
    "    ],\n",
    "    [{'start': 0, 'end': 10, 'labels': ['AGE'], 'text': '1234 ka BP'}],\n",
    "    [{'start': 0, 'end': 9, 'labels': ['AGE'], 'text': '1234 a BP'}],\n",
    "    [{'start': 0, 'end': 10, 'labels': ['AGE'], 'text': '1234 Ma BP'}],\n",
    "    [{'start': 0, 'end': 11, 'labels': ['AGE'], 'text': '1234 kyr BP'}],\n",
    "    [{'start': 0, 'end': 14, 'labels': ['AGE'], 'text': '1234 cal yr BP'}],\n",
    "    [{'start': 0, 'end': 8, 'labels': ['AGE'], 'text': '1234 YBP'}],\n",
    "    [{'start': 0, 'end': 11, 'labels': ['AGE'], 'text': '1234 14C BP'}],\n",
    "]"
   ]
  },
  {
   "cell_type": "code",
   "execution_count": 37,
   "metadata": {},
   "outputs": [
    {
     "name": "stdout",
     "output_type": "stream",
     "text": [
      "Testing sentence: 1234 BP\n",
      "Got: [{'start': 0, 'end': 7, 'labels': ['AGE'], 'text': '1234 BP'}]\n",
      "\n",
      "Testing sentence: 1234 Ma BP\n",
      "Got: [{'start': 0, 'end': 10, 'labels': ['AGE'], 'text': '1234 Ma BP'}]\n",
      "\n",
      "Testing sentence: 1234 to 1235 BP\n",
      "Got: [{'start': 0, 'end': 15, 'labels': ['AGE'], 'text': '1234 to 1235 BP'}]\n",
      "\n",
      "Testing sentence: 1234 - 1235 BP\n",
      "Got: [{'start': 0, 'end': 14, 'labels': ['AGE'], 'text': '1234 - 1235 BP'}]\n",
      "\n",
      "Testing sentence: 1234 -- 1235 BP\n",
      "Got: [{'start': 0, 'end': 15, 'labels': ['AGE'], 'text': '1234 -- 1235 BP'}]\n",
      "\n",
      "Testing sentence: 1234 BP and 456 to 789 BP\n",
      "Got: [{'start': 0, 'end': 7, 'labels': ['AGE'], 'text': '1234 BP'}, {'start': 12, 'end': 25, 'labels': ['AGE'], 'text': '456 to 789 BP'}]\n",
      "\n",
      "Testing sentence: 1234 BP and 456 to 789 Ma BP\n",
      "Got: [{'start': 0, 'end': 7, 'labels': ['AGE'], 'text': '1234 BP'}, {'start': 12, 'end': 28, 'labels': ['AGE'], 'text': '456 to 789 Ma BP'}]\n",
      "\n",
      "Testing sentence: 1234 ka BP\n",
      "Got: [{'start': 0, 'end': 10, 'labels': ['AGE'], 'text': '1234 ka BP'}]\n",
      "\n",
      "Testing sentence: 1234 a BP\n",
      "Got: [{'start': 0, 'end': 9, 'labels': ['AGE'], 'text': '1234 a BP'}]\n",
      "\n",
      "Testing sentence: 1234 Ma BP\n",
      "Got: [{'start': 0, 'end': 10, 'labels': ['AGE'], 'text': '1234 Ma BP'}]\n",
      "\n",
      "Testing sentence: 1234 kyr BP\n",
      "Got: [{'start': 0, 'end': 11, 'labels': ['AGE'], 'text': '1234 kyr BP'}]\n",
      "\n",
      "Testing sentence: 1234 cal yr BP\n",
      "Got: [{'start': 0, 'end': 14, 'labels': ['AGE'], 'text': '1234 cal yr BP'}]\n",
      "\n",
      "Testing sentence: 1234 YBP\n",
      "Got: [{'start': 0, 'end': 8, 'labels': ['AGE'], 'text': '1234 YBP'}]\n",
      "\n",
      "Testing sentence: 1234 14C BP\n",
      "Got: [{'start': 0, 'end': 11, 'labels': ['AGE'], 'text': '1234 14C BP'}]\n",
      "\n"
     ]
    }
   ],
   "source": [
    "# test that all the test sentences are extracted correctly\n",
    "for i, sentence in enumerate(test_sentences):\n",
    "\n",
    "    extracted_ages = spacy_extract_all(sentence, ner_model)\n",
    "\n",
    "    print(f\"Testing sentence: {sentence}\")\n",
    "    print(f\"Got: {extracted_ages}\\n\")\n",
    "    assert extracted_ages == expected_results[i]"
   ]
  },
  {
   "attachments": {},
   "cell_type": "markdown",
   "metadata": {},
   "source": [
    "## Altitude - ALTI\n",
    "\n",
    "To identify altitude descriptions the primary indicators are:\n",
    "- \"above sea level\"\n",
    "- \"a.s.l.\"\n",
    "- a single m as the last character after numbers or as a standalone word"
   ]
  },
  {
   "cell_type": "code",
   "execution_count": 38,
   "metadata": {},
   "outputs": [],
   "source": [
    "test_sentences = [\n",
    "    \"120m above sea level\",\n",
    "    \"120m a.s.l.\",\n",
    "    \"120 m above sea level\",\n",
    "    \"120 m a.s.l.\",\n",
    "    \"120m asl\",\n",
    "    \"120 m asl\",\n",
    "    \"The site was 120m above sea level\",\n",
    "    \"The site was 120m a.s.l.\",\n",
    "    \"The site was 120 m above sea level\",\n",
    "    \"The site was 120 m a.s.l.\",\n",
    "    \"First site was 120m asl and the second was 300 m asl\",\n",
    "]\n",
    "\n",
    "expected_results = [\n",
    "    [{'start': 0, 'end': 20, 'labels': ['ALTI'], 'text': '120m above sea level'}],\n",
    "    [{'start': 0, 'end': 11, 'labels': ['ALTI'], 'text': '120m a.s.l.'}],\n",
    "    [{'start': 0, 'end': 21, 'labels': ['ALTI'], 'text': '120 m above sea level'}],\n",
    "    [{'start': 0, 'end': 12, 'labels': ['ALTI'], 'text': '120 m a.s.l.'}],\n",
    "    [{'start': 0, 'end': 8, 'labels': ['ALTI'], 'text': '120m asl'}],\n",
    "    [{'start': 0, 'end': 9, 'labels': ['ALTI'], 'text': '120 m asl'}],\n",
    "    [{'start': 13, 'end': 33, 'labels': ['ALTI'], 'text': '120m above sea level'}],\n",
    "    [{'start': 13, 'end': 24, 'labels': ['ALTI'], 'text': '120m a.s.l.'}],\n",
    "    [{'start': 13, 'end': 34, 'labels': ['ALTI'], 'text': '120 m above sea level'}],\n",
    "    [{'start': 13, 'end': 25, 'labels': ['ALTI'], 'text': '120 m a.s.l.'}],\n",
    "    [\n",
    "        {'start': 15, 'end': 23, 'labels': ['ALTI'], 'text': '120m asl'},\n",
    "        {'start': 43, 'end': 52, 'labels': ['ALTI'], 'text': '300 m asl'}\n",
    "    ]\n",
    "]"
   ]
  },
  {
   "cell_type": "code",
   "execution_count": 39,
   "metadata": {},
   "outputs": [
    {
     "name": "stdout",
     "output_type": "stream",
     "text": [
      "Testing sentence: 120m above sea level\n",
      "Found: [{'start': 0, 'end': 20, 'labels': ['ALTI'], 'text': '120m above sea level'}]\n",
      "\n",
      "Testing sentence: 120m a.s.l.\n",
      "Found: [{'start': 0, 'end': 11, 'labels': ['ALTI'], 'text': '120m a.s.l.'}]\n",
      "\n",
      "Testing sentence: 120 m above sea level\n",
      "Found: [{'start': 0, 'end': 21, 'labels': ['ALTI'], 'text': '120 m above sea level'}]\n",
      "\n",
      "Testing sentence: 120 m a.s.l.\n",
      "Found: [{'start': 0, 'end': 12, 'labels': ['ALTI'], 'text': '120 m a.s.l.'}]\n",
      "\n",
      "Testing sentence: 120m asl\n",
      "Found: [{'start': 0, 'end': 8, 'labels': ['ALTI'], 'text': '120m asl'}]\n",
      "\n",
      "Testing sentence: 120 m asl\n",
      "Found: [{'start': 0, 'end': 9, 'labels': ['ALTI'], 'text': '120 m asl'}]\n",
      "\n",
      "Testing sentence: The site was 120m above sea level\n",
      "Found: [{'start': 13, 'end': 33, 'labels': ['ALTI'], 'text': '120m above sea level'}]\n",
      "\n",
      "Testing sentence: The site was 120m a.s.l.\n",
      "Found: [{'start': 13, 'end': 24, 'labels': ['ALTI'], 'text': '120m a.s.l.'}]\n",
      "\n",
      "Testing sentence: The site was 120 m above sea level\n",
      "Found: [{'start': 13, 'end': 34, 'labels': ['ALTI'], 'text': '120 m above sea level'}]\n",
      "\n",
      "Testing sentence: The site was 120 m a.s.l.\n",
      "Found: [{'start': 13, 'end': 25, 'labels': ['ALTI'], 'text': '120 m a.s.l.'}]\n",
      "\n",
      "Testing sentence: First site was 120m asl and the second was 300 m asl\n",
      "Found: [{'start': 15, 'end': 23, 'labels': ['ALTI'], 'text': '120m asl'}, {'start': 43, 'end': 52, 'labels': ['ALTI'], 'text': '300 m asl'}]\n",
      "\n"
     ]
    }
   ],
   "source": [
    "# test that all the test sentences are extracted correctly\n",
    "for i, sentence in enumerate(test_sentences):\n",
    "\n",
    "    extracted_altitude = spacy_extract_all(sentence, ner_model)\n",
    "\n",
    "    print(f\"Testing sentence: {sentence}\")\n",
    "    print(f\"Found: {extracted_altitude}\\n\")\n",
    "    assert extracted_altitude == expected_results[i]"
   ]
  },
  {
   "attachments": {},
   "cell_type": "markdown",
   "metadata": {},
   "source": [
    "## Email Addresses - EMAIL"
   ]
  },
  {
   "cell_type": "code",
   "execution_count": 40,
   "metadata": {},
   "outputs": [],
   "source": [
    "test_sentences = [\n",
    "    \"ty.elgin.andrews@gmail.com\",\n",
    "    \"john.smith@aol.com\",\n",
    "    \"ty.andrews@student.ubc.ca\",\n",
    "    # from GGD 54b4324ae138239d8684a37b segment 0\n",
    "    \"E-mail addresses : carina.hoorn@milne.cc (C. Hoorn -) mauro.cremaschi@libero.it\"\n",
    "]\n",
    "\n",
    "expected_results = [\n",
    "    [{'start': 0, 'end': 26, 'labels': ['EMAIL'], 'text': 'ty.elgin.andrews@gmail.com'}],\n",
    "    [{'start': 0, 'end': 18, 'labels': ['EMAIL'], 'text': 'john.smith@aol.com'}],\n",
    "    [{'start': 0, 'end': 25, 'labels': ['EMAIL'], 'text': 'ty.andrews@student.ubc.ca'}],\n",
    "    [\n",
    "        {'start': 19, 'end': 40, 'labels': ['EMAIL'], 'text': 'carina.hoorn@milne.cc'},\n",
    "        {'start': 54, 'end': 79, 'labels': ['EMAIL'], 'text': 'mauro.cremaschi@libero.it'}\n",
    "    ]\n",
    "]"
   ]
  },
  {
   "cell_type": "code",
   "execution_count": 41,
   "metadata": {},
   "outputs": [
    {
     "name": "stdout",
     "output_type": "stream",
     "text": [
      "Testing sentence: ty.elgin.andrews@gmail.com\n",
      "Found: [{'start': 0, 'end': 26, 'labels': ['EMAIL'], 'text': 'ty.elgin.andrews@gmail.com'}]\n",
      "\n",
      "Testing sentence: john.smith@aol.com\n",
      "Found: [{'start': 0, 'end': 18, 'labels': ['EMAIL'], 'text': 'john.smith@aol.com'}]\n",
      "\n",
      "Testing sentence: ty.andrews@student.ubc.ca\n",
      "Found: [{'start': 0, 'end': 25, 'labels': ['EMAIL'], 'text': 'ty.andrews@student.ubc.ca'}]\n",
      "\n",
      "Testing sentence: E-mail addresses : carina.hoorn@milne.cc (C. Hoorn -) mauro.cremaschi@libero.it\n",
      "Found: [{'start': 19, 'end': 40, 'labels': ['EMAIL'], 'text': 'carina.hoorn@milne.cc'}, {'start': 54, 'end': 79, 'labels': ['EMAIL'], 'text': 'mauro.cremaschi@libero.it'}]\n",
      "\n"
     ]
    }
   ],
   "source": [
    "for i, sentence in enumerate(test_sentences):\n",
    "\n",
    "    extracted_emails = spacy_extract_all(sentence, ner_model)\n",
    "\n",
    "    print(f\"Testing sentence: {sentence}\")\n",
    "    print(f\"Found: {extracted_emails}\\n\")\n",
    "    assert extracted_emails == expected_results[i]"
   ]
  },
  {
   "attachments": {},
   "cell_type": "markdown",
   "metadata": {},
   "source": [
    "# Evaluation of the Spacy Methods\n",
    "\n",
    "Multiple methods to evaluate the NER task are evaluated for a given report:\n",
    "1. Does the number instances of each category align with what is present in Neotoma?\n",
    "   1. For each article need to pull out the number of instances of each category for the given DOI/GDD id\n",
    "2. Does the number of instances of each category align with what has been labelled?\n",
    "   1. Using the team labelled reports, count the number of instances of each category for each report.\n",
    "3. Does the extracted locations align with the labelled locations?\n",
    "   1. This can be done with the Python package `seqeval` which is used to evaluate the performance of a sequence labeling tasks. ([`seqeval` Github](https://github.com/chakki-works/seqeval))"
   ]
  },
  {
   "attachments": {},
   "cell_type": "markdown",
   "metadata": {},
   "source": [
    "## Loading Raw & Labelled Data"
   ]
  },
  {
   "cell_type": "code",
   "execution_count": 6,
   "metadata": {},
   "outputs": [],
   "source": [
    "from collections import defaultdict\n",
    "\n",
    "labelled_file_path = os.path.join(os.getcwd(), \n",
    "                                  os.pardir,\n",
    "                                  \"data\",\n",
    "                                  \"entity-extraction\",\n",
    "                                  \"processed\",\n",
    "                                  \"2023-05-31_label-export_39-articles\")"
   ]
  },
  {
   "attachments": {},
   "cell_type": "markdown",
   "metadata": {},
   "source": [
    "## Comparison to Neotoma Data\n",
    "\n",
    "To compare the extraction rate, for each article pull the reported taxa, region names, etc. and compare the extracted values to the reported values."
   ]
  },
  {
   "cell_type": "code",
   "execution_count": 6,
   "metadata": {},
   "outputs": [],
   "source": [
    "# TODO"
   ]
  },
  {
   "attachments": {},
   "cell_type": "markdown",
   "metadata": {},
   "source": [
    "## Comparison of Entity Counts to Labelled Data"
   ]
  },
  {
   "cell_type": "code",
   "execution_count": 7,
   "metadata": {},
   "outputs": [
    {
     "data": {
      "text/plain": [
       "['/home/jenit/Desktop/Capstone/MetaExtractor/notebooks/../data/entity-extraction/processed/2023-05-31_label-export_39-articles/val/203.txt',\n",
       " '/home/jenit/Desktop/Capstone/MetaExtractor/notebooks/../data/entity-extraction/processed/2023-05-31_label-export_39-articles/val/200.txt',\n",
       " '/home/jenit/Desktop/Capstone/MetaExtractor/notebooks/../data/entity-extraction/processed/2023-05-31_label-export_39-articles/val/202.txt',\n",
       " '/home/jenit/Desktop/Capstone/MetaExtractor/notebooks/../data/entity-extraction/processed/2023-05-31_label-export_39-articles/val/197.txt',\n",
       " '/home/jenit/Desktop/Capstone/MetaExtractor/notebooks/../data/entity-extraction/processed/2023-05-31_label-export_39-articles/val/72.txt',\n",
       " '/home/jenit/Desktop/Capstone/MetaExtractor/notebooks/../data/entity-extraction/processed/2023-05-31_label-export_39-articles/val/262.txt',\n",
       " '/home/jenit/Desktop/Capstone/MetaExtractor/notebooks/../data/entity-extraction/processed/2023-05-31_label-export_39-articles/val/207.txt',\n",
       " '/home/jenit/Desktop/Capstone/MetaExtractor/notebooks/../data/entity-extraction/processed/2023-05-31_label-export_39-articles/val/172.txt',\n",
       " '/home/jenit/Desktop/Capstone/MetaExtractor/notebooks/../data/entity-extraction/processed/2023-05-31_label-export_39-articles/val/75.txt',\n",
       " '/home/jenit/Desktop/Capstone/MetaExtractor/notebooks/../data/entity-extraction/processed/2023-05-31_label-export_39-articles/val/80.txt',\n",
       " '/home/jenit/Desktop/Capstone/MetaExtractor/notebooks/../data/entity-extraction/processed/2023-05-31_label-export_39-articles/val/264.txt',\n",
       " '/home/jenit/Desktop/Capstone/MetaExtractor/notebooks/../data/entity-extraction/processed/2023-05-31_label-export_39-articles/val/268.txt',\n",
       " '/home/jenit/Desktop/Capstone/MetaExtractor/notebooks/../data/entity-extraction/processed/2023-05-31_label-export_39-articles/val/206.txt',\n",
       " '/home/jenit/Desktop/Capstone/MetaExtractor/notebooks/../data/entity-extraction/processed/2023-05-31_label-export_39-articles/val/209.txt',\n",
       " '/home/jenit/Desktop/Capstone/MetaExtractor/notebooks/../data/entity-extraction/processed/2023-05-31_label-export_39-articles/val/168.txt',\n",
       " '/home/jenit/Desktop/Capstone/MetaExtractor/notebooks/../data/entity-extraction/processed/2023-05-31_label-export_39-articles/val/74.txt',\n",
       " '/home/jenit/Desktop/Capstone/MetaExtractor/notebooks/../data/entity-extraction/processed/2023-05-31_label-export_39-articles/val/265.txt',\n",
       " '/home/jenit/Desktop/Capstone/MetaExtractor/notebooks/../data/entity-extraction/processed/2023-05-31_label-export_39-articles/val/77.txt',\n",
       " '/home/jenit/Desktop/Capstone/MetaExtractor/notebooks/../data/entity-extraction/processed/2023-05-31_label-export_39-articles/val/93.txt',\n",
       " '/home/jenit/Desktop/Capstone/MetaExtractor/notebooks/../data/entity-extraction/processed/2023-05-31_label-export_39-articles/val/78.txt',\n",
       " '/home/jenit/Desktop/Capstone/MetaExtractor/notebooks/../data/entity-extraction/processed/2023-05-31_label-export_39-articles/val/79.txt',\n",
       " '/home/jenit/Desktop/Capstone/MetaExtractor/notebooks/../data/entity-extraction/processed/2023-05-31_label-export_39-articles/val/171.txt',\n",
       " '/home/jenit/Desktop/Capstone/MetaExtractor/notebooks/../data/entity-extraction/processed/2023-05-31_label-export_39-articles/val/150.txt',\n",
       " '/home/jenit/Desktop/Capstone/MetaExtractor/notebooks/../data/entity-extraction/processed/2023-05-31_label-export_39-articles/val/208.txt',\n",
       " '/home/jenit/Desktop/Capstone/MetaExtractor/notebooks/../data/entity-extraction/processed/2023-05-31_label-export_39-articles/val/201.txt',\n",
       " '/home/jenit/Desktop/Capstone/MetaExtractor/notebooks/../data/entity-extraction/processed/2023-05-31_label-export_39-articles/val/266.txt',\n",
       " '/home/jenit/Desktop/Capstone/MetaExtractor/notebooks/../data/entity-extraction/processed/2023-05-31_label-export_39-articles/val/71.txt',\n",
       " '/home/jenit/Desktop/Capstone/MetaExtractor/notebooks/../data/entity-extraction/processed/2023-05-31_label-export_39-articles/val/73.txt',\n",
       " '/home/jenit/Desktop/Capstone/MetaExtractor/notebooks/../data/entity-extraction/processed/2023-05-31_label-export_39-articles/val/269.txt',\n",
       " '/home/jenit/Desktop/Capstone/MetaExtractor/notebooks/../data/entity-extraction/processed/2023-05-31_label-export_39-articles/val/199.txt',\n",
       " '/home/jenit/Desktop/Capstone/MetaExtractor/notebooks/../data/entity-extraction/processed/2023-05-31_label-export_39-articles/val/261.txt',\n",
       " '/home/jenit/Desktop/Capstone/MetaExtractor/notebooks/../data/entity-extraction/processed/2023-05-31_label-export_39-articles/val/94.txt',\n",
       " '/home/jenit/Desktop/Capstone/MetaExtractor/notebooks/../data/entity-extraction/processed/2023-05-31_label-export_39-articles/val/173.txt',\n",
       " '/home/jenit/Desktop/Capstone/MetaExtractor/notebooks/../data/entity-extraction/processed/2023-05-31_label-export_39-articles/val/394.txt',\n",
       " '/home/jenit/Desktop/Capstone/MetaExtractor/notebooks/../data/entity-extraction/processed/2023-05-31_label-export_39-articles/val/152.txt',\n",
       " '/home/jenit/Desktop/Capstone/MetaExtractor/notebooks/../data/entity-extraction/processed/2023-05-31_label-export_39-articles/val/169.txt',\n",
       " '/home/jenit/Desktop/Capstone/MetaExtractor/notebooks/../data/entity-extraction/processed/2023-05-31_label-export_39-articles/val/263.txt',\n",
       " '/home/jenit/Desktop/Capstone/MetaExtractor/notebooks/../data/entity-extraction/processed/2023-05-31_label-export_39-articles/val/210.txt',\n",
       " '/home/jenit/Desktop/Capstone/MetaExtractor/notebooks/../data/entity-extraction/processed/2023-05-31_label-export_39-articles/val/153.txt',\n",
       " '/home/jenit/Desktop/Capstone/MetaExtractor/notebooks/../data/entity-extraction/processed/2023-05-31_label-export_39-articles/val/154.txt',\n",
       " '/home/jenit/Desktop/Capstone/MetaExtractor/notebooks/../data/entity-extraction/processed/2023-05-31_label-export_39-articles/val/170.txt',\n",
       " '/home/jenit/Desktop/Capstone/MetaExtractor/notebooks/../data/entity-extraction/processed/2023-05-31_label-export_39-articles/val/198.txt',\n",
       " '/home/jenit/Desktop/Capstone/MetaExtractor/notebooks/../data/entity-extraction/processed/2023-05-31_label-export_39-articles/val/76.txt',\n",
       " '/home/jenit/Desktop/Capstone/MetaExtractor/notebooks/../data/entity-extraction/processed/2023-05-31_label-export_39-articles/val/271.txt',\n",
       " '/home/jenit/Desktop/Capstone/MetaExtractor/notebooks/../data/entity-extraction/processed/2023-05-31_label-export_39-articles/val/155.txt',\n",
       " '/home/jenit/Desktop/Capstone/MetaExtractor/notebooks/../data/entity-extraction/processed/2023-05-31_label-export_39-articles/val/270.txt',\n",
       " '/home/jenit/Desktop/Capstone/MetaExtractor/notebooks/../data/entity-extraction/processed/2023-05-31_label-export_39-articles/val/205.txt',\n",
       " '/home/jenit/Desktop/Capstone/MetaExtractor/notebooks/../data/entity-extraction/processed/2023-05-31_label-export_39-articles/val/123.txt',\n",
       " '/home/jenit/Desktop/Capstone/MetaExtractor/notebooks/../data/entity-extraction/processed/2023-05-31_label-export_39-articles/val/267.txt',\n",
       " '/home/jenit/Desktop/Capstone/MetaExtractor/notebooks/../data/entity-extraction/processed/2023-05-31_label-export_39-articles/val/149.txt',\n",
       " '/home/jenit/Desktop/Capstone/MetaExtractor/notebooks/../data/entity-extraction/processed/2023-05-31_label-export_39-articles/val/124.txt',\n",
       " '/home/jenit/Desktop/Capstone/MetaExtractor/notebooks/../data/entity-extraction/processed/2023-05-31_label-export_39-articles/val/147.txt',\n",
       " '/home/jenit/Desktop/Capstone/MetaExtractor/notebooks/../data/entity-extraction/processed/2023-05-31_label-export_39-articles/val/146.txt',\n",
       " '/home/jenit/Desktop/Capstone/MetaExtractor/notebooks/../data/entity-extraction/processed/2023-05-31_label-export_39-articles/val/148.txt',\n",
       " '/home/jenit/Desktop/Capstone/MetaExtractor/notebooks/../data/entity-extraction/processed/2023-05-31_label-export_39-articles/val/196.txt',\n",
       " '/home/jenit/Desktop/Capstone/MetaExtractor/notebooks/../data/entity-extraction/processed/2023-05-31_label-export_39-articles/val/151.txt',\n",
       " '/home/jenit/Desktop/Capstone/MetaExtractor/notebooks/../data/entity-extraction/processed/2023-05-31_label-export_39-articles/val/204.txt']"
      ]
     },
     "execution_count": 7,
     "metadata": {},
     "output_type": "execute_result"
    }
   ],
   "source": [
    "from glob import glob\n",
    "\n",
    "labelled_files = glob(os.path.join(labelled_file_path, \"val\") + \"/*.txt\")\n",
    "labelled_files"
   ]
  },
  {
   "cell_type": "code",
   "execution_count": 8,
   "metadata": {},
   "outputs": [
    {
     "name": "stdout",
     "output_type": "stream",
     "text": [
      "Total number of lablled files: 57\n",
      "0\n",
      "1\n",
      "2\n",
      "3\n",
      "4\n",
      "5\n",
      "6\n",
      "7\n",
      "8\n",
      "9\n",
      "10\n",
      "11\n",
      "12\n",
      "13\n",
      "14\n",
      "15\n",
      "16\n",
      "17\n",
      "18\n",
      "19\n",
      "20\n",
      "21\n",
      "22\n",
      "23\n",
      "24\n",
      "25\n",
      "26\n",
      "27\n",
      "28\n",
      "29\n",
      "30\n",
      "31\n",
      "32\n",
      "33\n",
      "34\n",
      "35\n",
      "36\n",
      "37\n",
      "38\n",
      "39\n",
      "40\n",
      "41\n",
      "42\n",
      "43\n",
      "44\n",
      "45\n",
      "46\n",
      "47\n",
      "48\n",
      "49\n",
      "50\n",
      "51\n",
      "52\n",
      "53\n",
      "54\n",
      "55\n",
      "56\n"
     ]
    }
   ],
   "source": [
    "import spacy\n",
    "\n",
    "# labelled_files = os.listdir(labelled_file_path)\n",
    "print(f\"Total number of lablled files: {len(labelled_files)}\")\n",
    "# count the number of occurences of each label\n",
    "annotated_label_counts = defaultdict(int)\n",
    "spacy_label_counts = defaultdict(int)\n",
    "\n",
    "for index, file in enumerate(labelled_files):\n",
    "    print(index)\n",
    "    # with open(os.path.join(labelled_file_path, file), \"r\") as f:\n",
    "    with open(file, \"r\") as f:\n",
    "        task = json.load(f)\n",
    "\n",
    "    raw_text = task['task']['data']['text']\n",
    "    \n",
    "    # get the spacy predictions\n",
    "    spacy_result = spacy_extract_all(raw_text, ner_model)\n",
    "    for res in spacy_result:\n",
    "        spacy_label_counts[res['labels'][0]] += 1\n",
    "\n",
    "    annotation_result = task['result']\n",
    "    \n",
    "    for annotation in annotation_result:\n",
    "        annotated_label_counts[annotation['value']['labels'][0]] += 1"
   ]
  },
  {
   "cell_type": "code",
   "execution_count": 9,
   "metadata": {},
   "outputs": [
    {
     "data": {
      "application/vnd.plotly.v1+json": {
       "config": {
        "plotlyServerURL": "https://plot.ly"
       },
       "data": [
        {
         "alignmentgroup": "True",
         "hovertemplate": "Source=Annotated<br>Label=%{x}<br>Count=%{y}<extra></extra>",
         "legendgroup": "Annotated",
         "marker": {
          "color": "#636efa",
          "pattern": {
           "shape": ""
          }
         },
         "name": "Annotated",
         "offsetgroup": "Annotated",
         "orientation": "v",
         "showlegend": true,
         "textposition": "auto",
         "type": "bar",
         "x": [
          "REGION",
          "SITE",
          "AGE",
          "GEOG",
          "EMAIL",
          "TAXA",
          "ALTI"
         ],
         "xaxis": "x",
         "y": [
          42.513368983957214,
          35.61368209255533,
          42.04081632653061,
          45.67901234567901,
          50,
          45.33987386124737,
          28.915662650602407
         ],
         "yaxis": "y"
        },
        {
         "alignmentgroup": "True",
         "hovertemplate": "Source=Spacy<br>Label=%{x}<br>Count=%{y}<extra></extra>",
         "legendgroup": "Spacy",
         "marker": {
          "color": "#EF553B",
          "pattern": {
           "shape": ""
          }
         },
         "name": "Spacy",
         "offsetgroup": "Spacy",
         "orientation": "v",
         "showlegend": true,
         "textposition": "auto",
         "type": "bar",
         "x": [
          "REGION",
          "SITE",
          "AGE",
          "GEOG",
          "EMAIL",
          "TAXA",
          "ALTI"
         ],
         "xaxis": "x",
         "y": [
          57.48663101604278,
          64.38631790744466,
          57.95918367346938,
          54.32098765432099,
          50,
          54.66012613875263,
          71.08433734939759
         ],
         "yaxis": "y"
        }
       ],
       "layout": {
        "barmode": "group",
        "legend": {
         "title": {
          "text": "Source"
         },
         "tracegroupgap": 0
        },
        "margin": {
         "b": 0,
         "l": 0,
         "r": 0,
         "t": 50
        },
        "template": {
         "data": {
          "bar": [
           {
            "error_x": {
             "color": "#2a3f5f"
            },
            "error_y": {
             "color": "#2a3f5f"
            },
            "marker": {
             "line": {
              "color": "#E5ECF6",
              "width": 0.5
             },
             "pattern": {
              "fillmode": "overlay",
              "size": 10,
              "solidity": 0.2
             }
            },
            "type": "bar"
           }
          ],
          "barpolar": [
           {
            "marker": {
             "line": {
              "color": "#E5ECF6",
              "width": 0.5
             },
             "pattern": {
              "fillmode": "overlay",
              "size": 10,
              "solidity": 0.2
             }
            },
            "type": "barpolar"
           }
          ],
          "carpet": [
           {
            "aaxis": {
             "endlinecolor": "#2a3f5f",
             "gridcolor": "white",
             "linecolor": "white",
             "minorgridcolor": "white",
             "startlinecolor": "#2a3f5f"
            },
            "baxis": {
             "endlinecolor": "#2a3f5f",
             "gridcolor": "white",
             "linecolor": "white",
             "minorgridcolor": "white",
             "startlinecolor": "#2a3f5f"
            },
            "type": "carpet"
           }
          ],
          "choropleth": [
           {
            "colorbar": {
             "outlinewidth": 0,
             "ticks": ""
            },
            "type": "choropleth"
           }
          ],
          "contour": [
           {
            "colorbar": {
             "outlinewidth": 0,
             "ticks": ""
            },
            "colorscale": [
             [
              0,
              "#0d0887"
             ],
             [
              0.1111111111111111,
              "#46039f"
             ],
             [
              0.2222222222222222,
              "#7201a8"
             ],
             [
              0.3333333333333333,
              "#9c179e"
             ],
             [
              0.4444444444444444,
              "#bd3786"
             ],
             [
              0.5555555555555556,
              "#d8576b"
             ],
             [
              0.6666666666666666,
              "#ed7953"
             ],
             [
              0.7777777777777778,
              "#fb9f3a"
             ],
             [
              0.8888888888888888,
              "#fdca26"
             ],
             [
              1,
              "#f0f921"
             ]
            ],
            "type": "contour"
           }
          ],
          "contourcarpet": [
           {
            "colorbar": {
             "outlinewidth": 0,
             "ticks": ""
            },
            "type": "contourcarpet"
           }
          ],
          "heatmap": [
           {
            "colorbar": {
             "outlinewidth": 0,
             "ticks": ""
            },
            "colorscale": [
             [
              0,
              "#0d0887"
             ],
             [
              0.1111111111111111,
              "#46039f"
             ],
             [
              0.2222222222222222,
              "#7201a8"
             ],
             [
              0.3333333333333333,
              "#9c179e"
             ],
             [
              0.4444444444444444,
              "#bd3786"
             ],
             [
              0.5555555555555556,
              "#d8576b"
             ],
             [
              0.6666666666666666,
              "#ed7953"
             ],
             [
              0.7777777777777778,
              "#fb9f3a"
             ],
             [
              0.8888888888888888,
              "#fdca26"
             ],
             [
              1,
              "#f0f921"
             ]
            ],
            "type": "heatmap"
           }
          ],
          "heatmapgl": [
           {
            "colorbar": {
             "outlinewidth": 0,
             "ticks": ""
            },
            "colorscale": [
             [
              0,
              "#0d0887"
             ],
             [
              0.1111111111111111,
              "#46039f"
             ],
             [
              0.2222222222222222,
              "#7201a8"
             ],
             [
              0.3333333333333333,
              "#9c179e"
             ],
             [
              0.4444444444444444,
              "#bd3786"
             ],
             [
              0.5555555555555556,
              "#d8576b"
             ],
             [
              0.6666666666666666,
              "#ed7953"
             ],
             [
              0.7777777777777778,
              "#fb9f3a"
             ],
             [
              0.8888888888888888,
              "#fdca26"
             ],
             [
              1,
              "#f0f921"
             ]
            ],
            "type": "heatmapgl"
           }
          ],
          "histogram": [
           {
            "marker": {
             "pattern": {
              "fillmode": "overlay",
              "size": 10,
              "solidity": 0.2
             }
            },
            "type": "histogram"
           }
          ],
          "histogram2d": [
           {
            "colorbar": {
             "outlinewidth": 0,
             "ticks": ""
            },
            "colorscale": [
             [
              0,
              "#0d0887"
             ],
             [
              0.1111111111111111,
              "#46039f"
             ],
             [
              0.2222222222222222,
              "#7201a8"
             ],
             [
              0.3333333333333333,
              "#9c179e"
             ],
             [
              0.4444444444444444,
              "#bd3786"
             ],
             [
              0.5555555555555556,
              "#d8576b"
             ],
             [
              0.6666666666666666,
              "#ed7953"
             ],
             [
              0.7777777777777778,
              "#fb9f3a"
             ],
             [
              0.8888888888888888,
              "#fdca26"
             ],
             [
              1,
              "#f0f921"
             ]
            ],
            "type": "histogram2d"
           }
          ],
          "histogram2dcontour": [
           {
            "colorbar": {
             "outlinewidth": 0,
             "ticks": ""
            },
            "colorscale": [
             [
              0,
              "#0d0887"
             ],
             [
              0.1111111111111111,
              "#46039f"
             ],
             [
              0.2222222222222222,
              "#7201a8"
             ],
             [
              0.3333333333333333,
              "#9c179e"
             ],
             [
              0.4444444444444444,
              "#bd3786"
             ],
             [
              0.5555555555555556,
              "#d8576b"
             ],
             [
              0.6666666666666666,
              "#ed7953"
             ],
             [
              0.7777777777777778,
              "#fb9f3a"
             ],
             [
              0.8888888888888888,
              "#fdca26"
             ],
             [
              1,
              "#f0f921"
             ]
            ],
            "type": "histogram2dcontour"
           }
          ],
          "mesh3d": [
           {
            "colorbar": {
             "outlinewidth": 0,
             "ticks": ""
            },
            "type": "mesh3d"
           }
          ],
          "parcoords": [
           {
            "line": {
             "colorbar": {
              "outlinewidth": 0,
              "ticks": ""
             }
            },
            "type": "parcoords"
           }
          ],
          "pie": [
           {
            "automargin": true,
            "type": "pie"
           }
          ],
          "scatter": [
           {
            "fillpattern": {
             "fillmode": "overlay",
             "size": 10,
             "solidity": 0.2
            },
            "type": "scatter"
           }
          ],
          "scatter3d": [
           {
            "line": {
             "colorbar": {
              "outlinewidth": 0,
              "ticks": ""
             }
            },
            "marker": {
             "colorbar": {
              "outlinewidth": 0,
              "ticks": ""
             }
            },
            "type": "scatter3d"
           }
          ],
          "scattercarpet": [
           {
            "marker": {
             "colorbar": {
              "outlinewidth": 0,
              "ticks": ""
             }
            },
            "type": "scattercarpet"
           }
          ],
          "scattergeo": [
           {
            "marker": {
             "colorbar": {
              "outlinewidth": 0,
              "ticks": ""
             }
            },
            "type": "scattergeo"
           }
          ],
          "scattergl": [
           {
            "marker": {
             "colorbar": {
              "outlinewidth": 0,
              "ticks": ""
             }
            },
            "type": "scattergl"
           }
          ],
          "scattermapbox": [
           {
            "marker": {
             "colorbar": {
              "outlinewidth": 0,
              "ticks": ""
             }
            },
            "type": "scattermapbox"
           }
          ],
          "scatterpolar": [
           {
            "marker": {
             "colorbar": {
              "outlinewidth": 0,
              "ticks": ""
             }
            },
            "type": "scatterpolar"
           }
          ],
          "scatterpolargl": [
           {
            "marker": {
             "colorbar": {
              "outlinewidth": 0,
              "ticks": ""
             }
            },
            "type": "scatterpolargl"
           }
          ],
          "scatterternary": [
           {
            "marker": {
             "colorbar": {
              "outlinewidth": 0,
              "ticks": ""
             }
            },
            "type": "scatterternary"
           }
          ],
          "surface": [
           {
            "colorbar": {
             "outlinewidth": 0,
             "ticks": ""
            },
            "colorscale": [
             [
              0,
              "#0d0887"
             ],
             [
              0.1111111111111111,
              "#46039f"
             ],
             [
              0.2222222222222222,
              "#7201a8"
             ],
             [
              0.3333333333333333,
              "#9c179e"
             ],
             [
              0.4444444444444444,
              "#bd3786"
             ],
             [
              0.5555555555555556,
              "#d8576b"
             ],
             [
              0.6666666666666666,
              "#ed7953"
             ],
             [
              0.7777777777777778,
              "#fb9f3a"
             ],
             [
              0.8888888888888888,
              "#fdca26"
             ],
             [
              1,
              "#f0f921"
             ]
            ],
            "type": "surface"
           }
          ],
          "table": [
           {
            "cells": {
             "fill": {
              "color": "#EBF0F8"
             },
             "line": {
              "color": "white"
             }
            },
            "header": {
             "fill": {
              "color": "#C8D4E3"
             },
             "line": {
              "color": "white"
             }
            },
            "type": "table"
           }
          ]
         },
         "layout": {
          "annotationdefaults": {
           "arrowcolor": "#2a3f5f",
           "arrowhead": 0,
           "arrowwidth": 1
          },
          "autotypenumbers": "strict",
          "coloraxis": {
           "colorbar": {
            "outlinewidth": 0,
            "ticks": ""
           }
          },
          "colorscale": {
           "diverging": [
            [
             0,
             "#8e0152"
            ],
            [
             0.1,
             "#c51b7d"
            ],
            [
             0.2,
             "#de77ae"
            ],
            [
             0.3,
             "#f1b6da"
            ],
            [
             0.4,
             "#fde0ef"
            ],
            [
             0.5,
             "#f7f7f7"
            ],
            [
             0.6,
             "#e6f5d0"
            ],
            [
             0.7,
             "#b8e186"
            ],
            [
             0.8,
             "#7fbc41"
            ],
            [
             0.9,
             "#4d9221"
            ],
            [
             1,
             "#276419"
            ]
           ],
           "sequential": [
            [
             0,
             "#0d0887"
            ],
            [
             0.1111111111111111,
             "#46039f"
            ],
            [
             0.2222222222222222,
             "#7201a8"
            ],
            [
             0.3333333333333333,
             "#9c179e"
            ],
            [
             0.4444444444444444,
             "#bd3786"
            ],
            [
             0.5555555555555556,
             "#d8576b"
            ],
            [
             0.6666666666666666,
             "#ed7953"
            ],
            [
             0.7777777777777778,
             "#fb9f3a"
            ],
            [
             0.8888888888888888,
             "#fdca26"
            ],
            [
             1,
             "#f0f921"
            ]
           ],
           "sequentialminus": [
            [
             0,
             "#0d0887"
            ],
            [
             0.1111111111111111,
             "#46039f"
            ],
            [
             0.2222222222222222,
             "#7201a8"
            ],
            [
             0.3333333333333333,
             "#9c179e"
            ],
            [
             0.4444444444444444,
             "#bd3786"
            ],
            [
             0.5555555555555556,
             "#d8576b"
            ],
            [
             0.6666666666666666,
             "#ed7953"
            ],
            [
             0.7777777777777778,
             "#fb9f3a"
            ],
            [
             0.8888888888888888,
             "#fdca26"
            ],
            [
             1,
             "#f0f921"
            ]
           ]
          },
          "colorway": [
           "#636efa",
           "#EF553B",
           "#00cc96",
           "#ab63fa",
           "#FFA15A",
           "#19d3f3",
           "#FF6692",
           "#B6E880",
           "#FF97FF",
           "#FECB52"
          ],
          "font": {
           "color": "#2a3f5f"
          },
          "geo": {
           "bgcolor": "white",
           "lakecolor": "white",
           "landcolor": "#E5ECF6",
           "showlakes": true,
           "showland": true,
           "subunitcolor": "white"
          },
          "hoverlabel": {
           "align": "left"
          },
          "hovermode": "closest",
          "mapbox": {
           "style": "light"
          },
          "paper_bgcolor": "white",
          "plot_bgcolor": "#E5ECF6",
          "polar": {
           "angularaxis": {
            "gridcolor": "white",
            "linecolor": "white",
            "ticks": ""
           },
           "bgcolor": "#E5ECF6",
           "radialaxis": {
            "gridcolor": "white",
            "linecolor": "white",
            "ticks": ""
           }
          },
          "scene": {
           "xaxis": {
            "backgroundcolor": "#E5ECF6",
            "gridcolor": "white",
            "gridwidth": 2,
            "linecolor": "white",
            "showbackground": true,
            "ticks": "",
            "zerolinecolor": "white"
           },
           "yaxis": {
            "backgroundcolor": "#E5ECF6",
            "gridcolor": "white",
            "gridwidth": 2,
            "linecolor": "white",
            "showbackground": true,
            "ticks": "",
            "zerolinecolor": "white"
           },
           "zaxis": {
            "backgroundcolor": "#E5ECF6",
            "gridcolor": "white",
            "gridwidth": 2,
            "linecolor": "white",
            "showbackground": true,
            "ticks": "",
            "zerolinecolor": "white"
           }
          },
          "shapedefaults": {
           "line": {
            "color": "#2a3f5f"
           }
          },
          "ternary": {
           "aaxis": {
            "gridcolor": "white",
            "linecolor": "white",
            "ticks": ""
           },
           "baxis": {
            "gridcolor": "white",
            "linecolor": "white",
            "ticks": ""
           },
           "bgcolor": "#E5ECF6",
           "caxis": {
            "gridcolor": "white",
            "linecolor": "white",
            "ticks": ""
           }
          },
          "title": {
           "x": 0.05
          },
          "xaxis": {
           "automargin": true,
           "gridcolor": "white",
           "linecolor": "white",
           "ticks": "",
           "title": {
            "standoff": 15
           },
           "zerolinecolor": "white",
           "zerolinewidth": 2
          },
          "yaxis": {
           "automargin": true,
           "gridcolor": "white",
           "linecolor": "white",
           "ticks": "",
           "title": {
            "standoff": 15
           },
           "zerolinecolor": "white",
           "zerolinewidth": 2
          }
         }
        },
        "title": {
         "text": "Counts of Labels in Annotated and Spacy Transformer v2 Results"
        },
        "width": 800,
        "xaxis": {
         "anchor": "y",
         "categoryorder": "total descending",
         "domain": [
          0,
          1
         ],
         "title": {
          "text": "Label"
         }
        },
        "yaxis": {
         "anchor": "x",
         "domain": [
          0,
          1
         ],
         "title": {
          "text": "Count"
         }
        }
       }
      }
     },
     "metadata": {},
     "output_type": "display_data"
    }
   ],
   "source": [
    "# plot the percentage of entities extracted by baseline vs annotated\n",
    "annotated_labels = list(annotated_label_counts.keys())\n",
    "annotated_counts = list(annotated_label_counts.values())\n",
    "\n",
    "spacy_counts = [spacy_label_counts[label] for label in annotated_labels]\n",
    "\n",
    "annotated_counts = np.array(annotated_counts)\n",
    "spacy_counts = np.array(spacy_counts)\n",
    "total_counts = annotated_counts + spacy_counts\n",
    "annotated_counts = annotated_counts / total_counts * 100\n",
    "spacy_counts = spacy_counts / total_counts * 100\n",
    "# make into a tidy dataframe with columns Label, Source, Count\n",
    "annotated_df = pd.DataFrame(\n",
    "    {\n",
    "        'Label': annotated_labels + annotated_labels,\n",
    "        'Source': ['Annotated'] * len(annotated_labels) + ['Spacy'] * len(annotated_labels),\n",
    "        'Count': np.concatenate([annotated_counts, spacy_counts])\n",
    "    }\n",
    ")\n",
    "\n",
    "fig = px.bar(\n",
    "    annotated_df,\n",
    "    x=\"Label\",\n",
    "    y=\"Count\",\n",
    "    color=\"Source\",\n",
    "    barmode='group',\n",
    "    # labels={'x': 'Labels', 'value': 'No. of Entities'},\n",
    "    title='Counts of Labels in Annotated and Spacy Transformer v2 Results',\n",
    "    width=800,\n",
    ").update_layout(\n",
    "    xaxis={'categoryorder': 'total descending'}, \n",
    "    margin={'l': 0, 'r': 0, 't': 50, 'b': 0}, \n",
    ")\n",
    "\n",
    "fig.show()"
   ]
  },
  {
   "cell_type": "code",
   "execution_count": 10,
   "metadata": {},
   "outputs": [
    {
     "data": {
      "application/vnd.plotly.v1+json": {
       "config": {
        "plotlyServerURL": "https://plot.ly"
       },
       "data": [
        {
         "alignmentgroup": "True",
         "hovertemplate": "color=REGION<br>Labels=%{x}<br>Percentage Extracted=%{y}<br>text=%{text}<extra></extra>",
         "legendgroup": "REGION",
         "marker": {
          "color": "#636efa",
          "pattern": {
           "shape": ""
          }
         },
         "name": "REGION",
         "offsetgroup": "REGION",
         "orientation": "v",
         "showlegend": true,
         "text": [
          135.2
         ],
         "textposition": "auto",
         "type": "bar",
         "x": [
          "REGION"
         ],
         "xaxis": "x",
         "y": [
          1.3522012578616354
         ],
         "yaxis": "y"
        },
        {
         "alignmentgroup": "True",
         "hovertemplate": "color=SITE<br>Labels=%{x}<br>Percentage Extracted=%{y}<br>text=%{text}<extra></extra>",
         "legendgroup": "SITE",
         "marker": {
          "color": "#EF553B",
          "pattern": {
           "shape": ""
          }
         },
         "name": "SITE",
         "offsetgroup": "SITE",
         "orientation": "v",
         "showlegend": true,
         "text": [
          180.8
         ],
         "textposition": "auto",
         "type": "bar",
         "x": [
          "SITE"
         ],
         "xaxis": "x",
         "y": [
          1.807909604519774
         ],
         "yaxis": "y"
        },
        {
         "alignmentgroup": "True",
         "hovertemplate": "color=AGE<br>Labels=%{x}<br>Percentage Extracted=%{y}<br>text=%{text}<extra></extra>",
         "legendgroup": "AGE",
         "marker": {
          "color": "#00cc96",
          "pattern": {
           "shape": ""
          }
         },
         "name": "AGE",
         "offsetgroup": "AGE",
         "orientation": "v",
         "showlegend": true,
         "text": [
          137.9
         ],
         "textposition": "auto",
         "type": "bar",
         "x": [
          "AGE"
         ],
         "xaxis": "x",
         "y": [
          1.3786407766990292
         ],
         "yaxis": "y"
        },
        {
         "alignmentgroup": "True",
         "hovertemplate": "color=GEOG<br>Labels=%{x}<br>Percentage Extracted=%{y}<br>text=%{text}<extra></extra>",
         "legendgroup": "GEOG",
         "marker": {
          "color": "#ab63fa",
          "pattern": {
           "shape": ""
          }
         },
         "name": "GEOG",
         "offsetgroup": "GEOG",
         "orientation": "v",
         "showlegend": true,
         "text": [
          118.9
         ],
         "textposition": "auto",
         "type": "bar",
         "x": [
          "GEOG"
         ],
         "xaxis": "x",
         "y": [
          1.1891891891891893
         ],
         "yaxis": "y"
        },
        {
         "alignmentgroup": "True",
         "hovertemplate": "color=EMAIL<br>Labels=%{x}<br>Percentage Extracted=%{y}<br>text=%{text}<extra></extra>",
         "legendgroup": "EMAIL",
         "marker": {
          "color": "#FFA15A",
          "pattern": {
           "shape": ""
          }
         },
         "name": "EMAIL",
         "offsetgroup": "EMAIL",
         "orientation": "v",
         "showlegend": true,
         "text": [
          100
         ],
         "textposition": "auto",
         "type": "bar",
         "x": [
          "EMAIL"
         ],
         "xaxis": "x",
         "y": [
          1
         ],
         "yaxis": "y"
        },
        {
         "alignmentgroup": "True",
         "hovertemplate": "color=TAXA<br>Labels=%{x}<br>Percentage Extracted=%{y}<br>text=%{text}<extra></extra>",
         "legendgroup": "TAXA",
         "marker": {
          "color": "#19d3f3",
          "pattern": {
           "shape": ""
          }
         },
         "name": "TAXA",
         "offsetgroup": "TAXA",
         "orientation": "v",
         "showlegend": true,
         "text": [
          120.6
         ],
         "textposition": "auto",
         "type": "bar",
         "x": [
          "TAXA"
         ],
         "xaxis": "x",
         "y": [
          1.2055641421947452
         ],
         "yaxis": "y"
        },
        {
         "alignmentgroup": "True",
         "hovertemplate": "color=ALTI<br>Labels=%{x}<br>Percentage Extracted=%{y}<br>text=%{text}<extra></extra>",
         "legendgroup": "ALTI",
         "marker": {
          "color": "#FF6692",
          "pattern": {
           "shape": ""
          }
         },
         "name": "ALTI",
         "offsetgroup": "ALTI",
         "orientation": "v",
         "showlegend": true,
         "text": [
          245.8
         ],
         "textposition": "auto",
         "type": "bar",
         "x": [
          "ALTI"
         ],
         "xaxis": "x",
         "y": [
          2.4583333333333335
         ],
         "yaxis": "y"
        }
       ],
       "layout": {
        "barmode": "relative",
        "legend": {
         "title": {
          "text": "color"
         },
         "tracegroupgap": 0
        },
        "margin": {
         "b": 0,
         "l": 0,
         "r": 0,
         "t": 50
        },
        "showlegend": false,
        "template": {
         "data": {
          "bar": [
           {
            "error_x": {
             "color": "#2a3f5f"
            },
            "error_y": {
             "color": "#2a3f5f"
            },
            "marker": {
             "line": {
              "color": "#E5ECF6",
              "width": 0.5
             },
             "pattern": {
              "fillmode": "overlay",
              "size": 10,
              "solidity": 0.2
             }
            },
            "type": "bar"
           }
          ],
          "barpolar": [
           {
            "marker": {
             "line": {
              "color": "#E5ECF6",
              "width": 0.5
             },
             "pattern": {
              "fillmode": "overlay",
              "size": 10,
              "solidity": 0.2
             }
            },
            "type": "barpolar"
           }
          ],
          "carpet": [
           {
            "aaxis": {
             "endlinecolor": "#2a3f5f",
             "gridcolor": "white",
             "linecolor": "white",
             "minorgridcolor": "white",
             "startlinecolor": "#2a3f5f"
            },
            "baxis": {
             "endlinecolor": "#2a3f5f",
             "gridcolor": "white",
             "linecolor": "white",
             "minorgridcolor": "white",
             "startlinecolor": "#2a3f5f"
            },
            "type": "carpet"
           }
          ],
          "choropleth": [
           {
            "colorbar": {
             "outlinewidth": 0,
             "ticks": ""
            },
            "type": "choropleth"
           }
          ],
          "contour": [
           {
            "colorbar": {
             "outlinewidth": 0,
             "ticks": ""
            },
            "colorscale": [
             [
              0,
              "#0d0887"
             ],
             [
              0.1111111111111111,
              "#46039f"
             ],
             [
              0.2222222222222222,
              "#7201a8"
             ],
             [
              0.3333333333333333,
              "#9c179e"
             ],
             [
              0.4444444444444444,
              "#bd3786"
             ],
             [
              0.5555555555555556,
              "#d8576b"
             ],
             [
              0.6666666666666666,
              "#ed7953"
             ],
             [
              0.7777777777777778,
              "#fb9f3a"
             ],
             [
              0.8888888888888888,
              "#fdca26"
             ],
             [
              1,
              "#f0f921"
             ]
            ],
            "type": "contour"
           }
          ],
          "contourcarpet": [
           {
            "colorbar": {
             "outlinewidth": 0,
             "ticks": ""
            },
            "type": "contourcarpet"
           }
          ],
          "heatmap": [
           {
            "colorbar": {
             "outlinewidth": 0,
             "ticks": ""
            },
            "colorscale": [
             [
              0,
              "#0d0887"
             ],
             [
              0.1111111111111111,
              "#46039f"
             ],
             [
              0.2222222222222222,
              "#7201a8"
             ],
             [
              0.3333333333333333,
              "#9c179e"
             ],
             [
              0.4444444444444444,
              "#bd3786"
             ],
             [
              0.5555555555555556,
              "#d8576b"
             ],
             [
              0.6666666666666666,
              "#ed7953"
             ],
             [
              0.7777777777777778,
              "#fb9f3a"
             ],
             [
              0.8888888888888888,
              "#fdca26"
             ],
             [
              1,
              "#f0f921"
             ]
            ],
            "type": "heatmap"
           }
          ],
          "heatmapgl": [
           {
            "colorbar": {
             "outlinewidth": 0,
             "ticks": ""
            },
            "colorscale": [
             [
              0,
              "#0d0887"
             ],
             [
              0.1111111111111111,
              "#46039f"
             ],
             [
              0.2222222222222222,
              "#7201a8"
             ],
             [
              0.3333333333333333,
              "#9c179e"
             ],
             [
              0.4444444444444444,
              "#bd3786"
             ],
             [
              0.5555555555555556,
              "#d8576b"
             ],
             [
              0.6666666666666666,
              "#ed7953"
             ],
             [
              0.7777777777777778,
              "#fb9f3a"
             ],
             [
              0.8888888888888888,
              "#fdca26"
             ],
             [
              1,
              "#f0f921"
             ]
            ],
            "type": "heatmapgl"
           }
          ],
          "histogram": [
           {
            "marker": {
             "pattern": {
              "fillmode": "overlay",
              "size": 10,
              "solidity": 0.2
             }
            },
            "type": "histogram"
           }
          ],
          "histogram2d": [
           {
            "colorbar": {
             "outlinewidth": 0,
             "ticks": ""
            },
            "colorscale": [
             [
              0,
              "#0d0887"
             ],
             [
              0.1111111111111111,
              "#46039f"
             ],
             [
              0.2222222222222222,
              "#7201a8"
             ],
             [
              0.3333333333333333,
              "#9c179e"
             ],
             [
              0.4444444444444444,
              "#bd3786"
             ],
             [
              0.5555555555555556,
              "#d8576b"
             ],
             [
              0.6666666666666666,
              "#ed7953"
             ],
             [
              0.7777777777777778,
              "#fb9f3a"
             ],
             [
              0.8888888888888888,
              "#fdca26"
             ],
             [
              1,
              "#f0f921"
             ]
            ],
            "type": "histogram2d"
           }
          ],
          "histogram2dcontour": [
           {
            "colorbar": {
             "outlinewidth": 0,
             "ticks": ""
            },
            "colorscale": [
             [
              0,
              "#0d0887"
             ],
             [
              0.1111111111111111,
              "#46039f"
             ],
             [
              0.2222222222222222,
              "#7201a8"
             ],
             [
              0.3333333333333333,
              "#9c179e"
             ],
             [
              0.4444444444444444,
              "#bd3786"
             ],
             [
              0.5555555555555556,
              "#d8576b"
             ],
             [
              0.6666666666666666,
              "#ed7953"
             ],
             [
              0.7777777777777778,
              "#fb9f3a"
             ],
             [
              0.8888888888888888,
              "#fdca26"
             ],
             [
              1,
              "#f0f921"
             ]
            ],
            "type": "histogram2dcontour"
           }
          ],
          "mesh3d": [
           {
            "colorbar": {
             "outlinewidth": 0,
             "ticks": ""
            },
            "type": "mesh3d"
           }
          ],
          "parcoords": [
           {
            "line": {
             "colorbar": {
              "outlinewidth": 0,
              "ticks": ""
             }
            },
            "type": "parcoords"
           }
          ],
          "pie": [
           {
            "automargin": true,
            "type": "pie"
           }
          ],
          "scatter": [
           {
            "fillpattern": {
             "fillmode": "overlay",
             "size": 10,
             "solidity": 0.2
            },
            "type": "scatter"
           }
          ],
          "scatter3d": [
           {
            "line": {
             "colorbar": {
              "outlinewidth": 0,
              "ticks": ""
             }
            },
            "marker": {
             "colorbar": {
              "outlinewidth": 0,
              "ticks": ""
             }
            },
            "type": "scatter3d"
           }
          ],
          "scattercarpet": [
           {
            "marker": {
             "colorbar": {
              "outlinewidth": 0,
              "ticks": ""
             }
            },
            "type": "scattercarpet"
           }
          ],
          "scattergeo": [
           {
            "marker": {
             "colorbar": {
              "outlinewidth": 0,
              "ticks": ""
             }
            },
            "type": "scattergeo"
           }
          ],
          "scattergl": [
           {
            "marker": {
             "colorbar": {
              "outlinewidth": 0,
              "ticks": ""
             }
            },
            "type": "scattergl"
           }
          ],
          "scattermapbox": [
           {
            "marker": {
             "colorbar": {
              "outlinewidth": 0,
              "ticks": ""
             }
            },
            "type": "scattermapbox"
           }
          ],
          "scatterpolar": [
           {
            "marker": {
             "colorbar": {
              "outlinewidth": 0,
              "ticks": ""
             }
            },
            "type": "scatterpolar"
           }
          ],
          "scatterpolargl": [
           {
            "marker": {
             "colorbar": {
              "outlinewidth": 0,
              "ticks": ""
             }
            },
            "type": "scatterpolargl"
           }
          ],
          "scatterternary": [
           {
            "marker": {
             "colorbar": {
              "outlinewidth": 0,
              "ticks": ""
             }
            },
            "type": "scatterternary"
           }
          ],
          "surface": [
           {
            "colorbar": {
             "outlinewidth": 0,
             "ticks": ""
            },
            "colorscale": [
             [
              0,
              "#0d0887"
             ],
             [
              0.1111111111111111,
              "#46039f"
             ],
             [
              0.2222222222222222,
              "#7201a8"
             ],
             [
              0.3333333333333333,
              "#9c179e"
             ],
             [
              0.4444444444444444,
              "#bd3786"
             ],
             [
              0.5555555555555556,
              "#d8576b"
             ],
             [
              0.6666666666666666,
              "#ed7953"
             ],
             [
              0.7777777777777778,
              "#fb9f3a"
             ],
             [
              0.8888888888888888,
              "#fdca26"
             ],
             [
              1,
              "#f0f921"
             ]
            ],
            "type": "surface"
           }
          ],
          "table": [
           {
            "cells": {
             "fill": {
              "color": "#EBF0F8"
             },
             "line": {
              "color": "white"
             }
            },
            "header": {
             "fill": {
              "color": "#C8D4E3"
             },
             "line": {
              "color": "white"
             }
            },
            "type": "table"
           }
          ]
         },
         "layout": {
          "annotationdefaults": {
           "arrowcolor": "#2a3f5f",
           "arrowhead": 0,
           "arrowwidth": 1
          },
          "autotypenumbers": "strict",
          "coloraxis": {
           "colorbar": {
            "outlinewidth": 0,
            "ticks": ""
           }
          },
          "colorscale": {
           "diverging": [
            [
             0,
             "#8e0152"
            ],
            [
             0.1,
             "#c51b7d"
            ],
            [
             0.2,
             "#de77ae"
            ],
            [
             0.3,
             "#f1b6da"
            ],
            [
             0.4,
             "#fde0ef"
            ],
            [
             0.5,
             "#f7f7f7"
            ],
            [
             0.6,
             "#e6f5d0"
            ],
            [
             0.7,
             "#b8e186"
            ],
            [
             0.8,
             "#7fbc41"
            ],
            [
             0.9,
             "#4d9221"
            ],
            [
             1,
             "#276419"
            ]
           ],
           "sequential": [
            [
             0,
             "#0d0887"
            ],
            [
             0.1111111111111111,
             "#46039f"
            ],
            [
             0.2222222222222222,
             "#7201a8"
            ],
            [
             0.3333333333333333,
             "#9c179e"
            ],
            [
             0.4444444444444444,
             "#bd3786"
            ],
            [
             0.5555555555555556,
             "#d8576b"
            ],
            [
             0.6666666666666666,
             "#ed7953"
            ],
            [
             0.7777777777777778,
             "#fb9f3a"
            ],
            [
             0.8888888888888888,
             "#fdca26"
            ],
            [
             1,
             "#f0f921"
            ]
           ],
           "sequentialminus": [
            [
             0,
             "#0d0887"
            ],
            [
             0.1111111111111111,
             "#46039f"
            ],
            [
             0.2222222222222222,
             "#7201a8"
            ],
            [
             0.3333333333333333,
             "#9c179e"
            ],
            [
             0.4444444444444444,
             "#bd3786"
            ],
            [
             0.5555555555555556,
             "#d8576b"
            ],
            [
             0.6666666666666666,
             "#ed7953"
            ],
            [
             0.7777777777777778,
             "#fb9f3a"
            ],
            [
             0.8888888888888888,
             "#fdca26"
            ],
            [
             1,
             "#f0f921"
            ]
           ]
          },
          "colorway": [
           "#636efa",
           "#EF553B",
           "#00cc96",
           "#ab63fa",
           "#FFA15A",
           "#19d3f3",
           "#FF6692",
           "#B6E880",
           "#FF97FF",
           "#FECB52"
          ],
          "font": {
           "color": "#2a3f5f"
          },
          "geo": {
           "bgcolor": "white",
           "lakecolor": "white",
           "landcolor": "#E5ECF6",
           "showlakes": true,
           "showland": true,
           "subunitcolor": "white"
          },
          "hoverlabel": {
           "align": "left"
          },
          "hovermode": "closest",
          "mapbox": {
           "style": "light"
          },
          "paper_bgcolor": "white",
          "plot_bgcolor": "#E5ECF6",
          "polar": {
           "angularaxis": {
            "gridcolor": "white",
            "linecolor": "white",
            "ticks": ""
           },
           "bgcolor": "#E5ECF6",
           "radialaxis": {
            "gridcolor": "white",
            "linecolor": "white",
            "ticks": ""
           }
          },
          "scene": {
           "xaxis": {
            "backgroundcolor": "#E5ECF6",
            "gridcolor": "white",
            "gridwidth": 2,
            "linecolor": "white",
            "showbackground": true,
            "ticks": "",
            "zerolinecolor": "white"
           },
           "yaxis": {
            "backgroundcolor": "#E5ECF6",
            "gridcolor": "white",
            "gridwidth": 2,
            "linecolor": "white",
            "showbackground": true,
            "ticks": "",
            "zerolinecolor": "white"
           },
           "zaxis": {
            "backgroundcolor": "#E5ECF6",
            "gridcolor": "white",
            "gridwidth": 2,
            "linecolor": "white",
            "showbackground": true,
            "ticks": "",
            "zerolinecolor": "white"
           }
          },
          "shapedefaults": {
           "line": {
            "color": "#2a3f5f"
           }
          },
          "ternary": {
           "aaxis": {
            "gridcolor": "white",
            "linecolor": "white",
            "ticks": ""
           },
           "baxis": {
            "gridcolor": "white",
            "linecolor": "white",
            "ticks": ""
           },
           "bgcolor": "#E5ECF6",
           "caxis": {
            "gridcolor": "white",
            "linecolor": "white",
            "ticks": ""
           }
          },
          "title": {
           "x": 0.05
          },
          "xaxis": {
           "automargin": true,
           "gridcolor": "white",
           "linecolor": "white",
           "ticks": "",
           "title": {
            "standoff": 15
           },
           "zerolinecolor": "white",
           "zerolinewidth": 2
          },
          "yaxis": {
           "automargin": true,
           "gridcolor": "white",
           "linecolor": "white",
           "ticks": "",
           "title": {
            "standoff": 15
           },
           "zerolinecolor": "white",
           "zerolinewidth": 2
          }
         }
        },
        "title": {
         "text": "Percentage of Entities Extracted by Spacy vs Annotated"
        },
        "width": 800,
        "xaxis": {
         "anchor": "y",
         "categoryorder": "total descending",
         "domain": [
          0,
          1
         ],
         "title": {
          "text": "Labels"
         }
        },
        "yaxis": {
         "anchor": "x",
         "domain": [
          0,
          1
         ],
         "range": [
          0,
          2
         ],
         "tickformat": ",.0%",
         "title": {
          "text": "Percentage Extracted"
         }
        }
       }
      }
     },
     "metadata": {},
     "output_type": "display_data"
    }
   ],
   "source": [
    "percentage_extracted = spacy_counts / annotated_counts\n",
    "\n",
    "fig = px.bar(\n",
    "    x=annotated_labels, \n",
    "    y=percentage_extracted, \n",
    "    color=annotated_labels,\n",
    "    labels={'x': 'Labels', 'y': 'Percentage Extracted'},\n",
    "    title='Percentage of Entities Extracted by Spacy vs Annotated',\n",
    "    width=800,\n",
    "    # format the text to show percent\n",
    "    text=np.round(percentage_extracted*100, 1),\n",
    ").update_layout(\n",
    "    xaxis={'categoryorder': 'total descending'},\n",
    "    margin={'l': 0, 'r': 0, 't': 50, 'b': 0},\n",
    "    yaxis={'tickformat': ',.0%'},\n",
    "    showlegend=False,\n",
    "    yaxis_range=[0, 2],\n",
    ")\n",
    "fig.show()\n"
   ]
  },
  {
   "attachments": {},
   "cell_type": "markdown",
   "metadata": {},
   "source": [
    "## Calculating Precision, Recall and F1 Scores with Seqeval\n",
    "\n",
    "The python package `seqeval` is used to evaluate the performance of a sequence labeling tasks. ([`seqeval` Github](https://github.com/chakki-works/seqeval)).\n",
    "\n",
    "It requires the following inputs:\n",
    "- `y_true` - a list of true labels of each token\n",
    "- `y_pred` - a list of predicted labels of each token\n",
    "\n",
    "To take the labelled data from label studio and convert it into the required format, we need to:\n",
    "1. Load the labelled data\n",
    "2. Convert the labelled data into a list of lists of labels with 'O' for tokens that are not part of an entity\n",
    "3. Convert the baseline predictions into a list of lists of labels with 'O' for tokens that are not part of an entity\n",
    "4. Calculate the precision, recall and f1 scores for each entity type\n",
    "\n",
    "### Load Labelled Data"
   ]
  },
  {
   "cell_type": "code",
   "execution_count": 11,
   "metadata": {},
   "outputs": [],
   "source": [
    "def load_json_label_files(labelled_files: list):\n",
    "    \"\"\"\n",
    "    Load the json files containing the labelled data and combines the text\n",
    "    into a complete text string.\n",
    "\n",
    "    Parameters\n",
    "    ----------\n",
    "    label_files : list\n",
    "        List of json files containing the labelled data.\n",
    "\n",
    "    Returns\n",
    "    -------\n",
    "    combined_text : str\n",
    "        The combined text from all the files.\n",
    "    all_labelled_entities : list\n",
    "        List of all the labelled entities re-indexed to account for the combined text.\n",
    "\n",
    "    \"\"\"\n",
    "\n",
    "    combined_text = \"\"\n",
    "    all_labelled_entities = []\n",
    "    for file in labelled_files:\n",
    "        \n",
    "        # with open(os.path.join(labelled_file_path, file), \"r\") as f:\n",
    "        with open(file, \"r\") as f:\n",
    "            task = json.load(f)\n",
    "\n",
    "        raw_text = task['task']['data']['text']\n",
    "\n",
    "        annotation_result = task['result']\n",
    "        labelled_entities = [annotation['value'] for annotation in annotation_result]\n",
    "\n",
    "        # add the current text length to the start and end indices of labels plus one for the space\n",
    "        for entity in labelled_entities:\n",
    "            entity['start'] += len(combined_text)\n",
    "            entity['end'] += len(combined_text)\n",
    "\n",
    "        all_labelled_entities += labelled_entities\n",
    "\n",
    "        # add the current text to the combined text with space in between\n",
    "        combined_text += raw_text + \" \"\n",
    "\n",
    "    return combined_text, all_labelled_entities"
   ]
  },
  {
   "attachments": {},
   "cell_type": "markdown",
   "metadata": {},
   "source": [
    "### Entity vs. Token Level Evaluation\n",
    "\n",
    "The `seqeval` package can be used to evaluate the performance of the NER task at the entity level or the token level. The two approaches are summarized below:\n",
    "\n",
    "1. **Entity Level Evaluation**\n",
    "   - The entity level evaluation is the standard approach to evaluating the performance of a NER task. \n",
    "   - The evaluation is done at the entity level, meaning that the entire entity must be correctly identified to be considered a true positive.\n",
    "   - The entity level evaluation is the default evaluation method used by the `seqeval` package.\n",
    "\n",
    "2. **Token Level Evaluation**\n",
    "    - The token level evaluation is a more lenient evaluation of the performance of a NER task.\n",
    "    - The evaluation is done at the token level, meaning that each token must just be of the correct tag (e.g. TAXA) to be considered a true positive.\n",
    "    - The token level evaluation is not the default evaluation method used by the `seqeval` package and is calculated by turning all Inner (I) tags into Begin (B) tags for labelled data.\n",
    "\n",
    "Below shows the difference between the two evaluation methods:"
   ]
  },
  {
   "cell_type": "code",
   "execution_count": 12,
   "metadata": {},
   "outputs": [],
   "source": [
    "# check the token labels and indexes match\n",
    "all_labelled_tokens = []\n",
    "all_spacy_tokens = []\n",
    "\n",
    "for tagged_file in labelled_files:\n",
    "    text, labelled_entities = load_json_label_files([tagged_file])\n",
    "    labelled_tokens = get_token_labels(labelled_entities, text)\n",
    "    \n",
    "    spacy_entities = spacy_extract_all(text, ner_model)\n",
    "    spacy_tokens = get_token_labels(spacy_entities, text)\n",
    "    \n",
    "    all_labelled_tokens.extend(labelled_tokens[1])\n",
    "    all_spacy_tokens.extend(spacy_tokens[1])"
   ]
  },
  {
   "cell_type": "code",
   "execution_count": 13,
   "metadata": {},
   "outputs": [
    {
     "name": "stdout",
     "output_type": "stream",
     "text": [
      "Accuracy: 0.951\n",
      "F1: 0.618\n",
      "Recall: 0.726\n",
      "Precisions: 0.537\n"
     ]
    }
   ],
   "source": [
    "accuracy, f1, recall, precision = calculate_entity_classification_metrics(\n",
    "    labelled_tokens = [all_labelled_tokens],  \n",
    "    predicted_tokens = [all_spacy_tokens],\n",
    "    method = \"entities\"\n",
    ")\n",
    "\n",
    "print(f\"Accuracy: {accuracy:.3f}\")\n",
    "print(f\"F1: {f1:.3f}\")\n",
    "print(f\"Recall: {recall:.3f}\")\n",
    "print(f\"Precisions: {precision:.3f}\")"
   ]
  },
  {
   "cell_type": "code",
   "execution_count": 14,
   "metadata": {},
   "outputs": [
    {
     "name": "stdout",
     "output_type": "stream",
     "text": [
      "Accuracy: 0.954\n",
      "F1: 0.694\n",
      "Recall: 0.837\n",
      "Precisions: 0.593\n"
     ]
    }
   ],
   "source": [
    "accuracy, f1, recall, precision = calculate_entity_classification_metrics(\n",
    "    labelled_tokens = [all_labelled_tokens],  \n",
    "    predicted_tokens = [all_spacy_tokens],\n",
    "    method = \"tokens\"\n",
    ")\n",
    "\n",
    "print(f\"Accuracy: {accuracy:.3f}\")\n",
    "print(f\"F1: {f1:.3f}\")\n",
    "print(f\"Recall: {recall:.3f}\")\n",
    "print(f\"Precisions: {precision:.3f}\")"
   ]
  },
  {
   "attachments": {},
   "cell_type": "markdown",
   "metadata": {},
   "source": [
    "#### Evaluation on Simplified Test Data"
   ]
  },
  {
   "cell_type": "code",
   "execution_count": 16,
   "metadata": {},
   "outputs": [
    {
     "data": {
      "image/png": "[encoded data removed]",
      "text/plain": [
       "<Figure size 800x600 with 2 Axes>"
      ]
     },
     "metadata": {},
     "output_type": "display_data"
    }
   ],
   "source": [
    "plot_token_classification_report(\n",
    "    [all_labelled_tokens], \n",
    "    [all_spacy_tokens], \n",
    "    \"Entity Extraction Classification Report (spacy transformer v3 - Validation)\",\n",
    "    method=\"tokens\",\n",
    ")"
   ]
  },
  {
   "attachments": {},
   "cell_type": "markdown",
   "metadata": {},
   "source": [
    "## Inspecting Mislabelled Entities\n",
    "\n",
    "The `spacy` tool `displacy` is used to visualize the entities identified by the baseline model and the labelled entities. This is done to understand the types of entities that are being mislabelled and to identify patterns in the mislabelled entities.\n",
    "\n",
    "We distinguish between the following types of mislabelled entities:  (set the colors of Red/Orange/Green in the markdown text to match the color)\n",
    "1. **<font color='red'>False Negatives (Red)</font>** - entities labelled in the labelled data that are not identified by the baseline model\n",
    "   - these are most important as they signify missed data\n",
    "2. **<font color='orange'>False Positives (Orange)</font>** - entities identified by the baseline model that are not labelled in the labelled data\n",
    "   - these are considered less important as they can be rejected by the data steward\n",
    "3. **<font color='green'>True Positives (Green)</font>** - entities identified by the baseline model that are also labelled in the labelled data"
   ]
  },
  {
   "cell_type": "code",
   "execution_count": 17,
   "metadata": {},
   "outputs": [
    {
     "data": {
      "text/html": [
       "<span class=\"tex2jax_ignore\"><div class=\"entities\" style=\"line-height: 2.5; direction: ltr\">Miyoshi et alReview of Palaeobotany and Palynology 104 ( 1999 ) 267-283 pollen. Thereafter, \n",
       "<mark class=\"entity\" style=\"background: #00ff00; padding: 0.45em 0.6em; margin: 0 0.25em; line-height: 1; border-radius: 0.35em;\">\n",
       "    Cryptomeria\n",
       "    <span style=\"font-size: 0.8em; font-weight: bold; line-height: 1; border-radius: 0.35em; vertical-align: middle; margin-left: 0.5rem\">TAXA</span>\n",
       "</mark>\n",
       " pollen shows a sharp increase by as much as 50(- \n",
       "<mark class=\"entity\" style=\"background: #ffa500; padding: 0.45em 0.6em; margin: 0 0.25em; line-height: 1; border-radius: 0.35em;\">\n",
       "    178-177\n",
       "    <span style=\"font-size: 0.8em; font-weight: bold; line-height: 1; border-radius: 0.35em; vertical-align: middle; margin-left: 0.5rem\">GOT_ALTI_EXPECTED_O</span>\n",
       "</mark>\n",
       " \n",
       "<mark class=\"entity\" style=\"background: #ffa500; padding: 0.45em 0.6em; margin: 0 0.25em; line-height: 1; border-radius: 0.35em;\">\n",
       "    m\n",
       "    <span style=\"font-size: 0.8em; font-weight: bold; line-height: 1; border-radius: 0.35em; vertical-align: middle; margin-left: 0.5rem\">GOT_ALTI_EXPECTED_O</span>\n",
       "</mark>\n",
       " ). This means that the zone represents a short interstadial stage, characterized by the presence of temperate conifers. The interstadial stage is also recognized in BW-4 ( \n",
       "<mark class=\"entity\" style=\"background: #ffa500; padding: 0.45em 0.6em; margin: 0 0.25em; line-height: 1; border-radius: 0.35em;\">\n",
       "    117\n",
       "    <span style=\"font-size: 0.8em; font-weight: bold; line-height: 1; border-radius: 0.35em; vertical-align: middle; margin-left: 0.5rem\">GOT_ALTI_EXPECTED_O</span>\n",
       "</mark>\n",
       " \n",
       "<mark class=\"entity\" style=\"background: #ffa500; padding: 0.45em 0.6em; margin: 0 0.25em; line-height: 1; border-radius: 0.35em;\">\n",
       "    m\n",
       "    <span style=\"font-size: 0.8em; font-weight: bold; line-height: 1; border-radius: 0.35em; vertical-align: middle; margin-left: 0.5rem\">GOT_ALTI_EXPECTED_O</span>\n",
       "</mark>\n",
       " ) and BW-2 ( \n",
       "<mark class=\"entity\" style=\"background: #ffa500; padding: 0.45em 0.6em; margin: 0 0.25em; line-height: 1; border-radius: 0.35em;\">\n",
       "    56-55\n",
       "    <span style=\"font-size: 0.8em; font-weight: bold; line-height: 1; border-radius: 0.35em; vertical-align: middle; margin-left: 0.5rem\">GOT_ALTI_EXPECTED_O</span>\n",
       "</mark>\n",
       " \n",
       "<mark class=\"entity\" style=\"background: #ffa500; padding: 0.45em 0.6em; margin: 0 0.25em; line-height: 1; border-radius: 0.35em;\">\n",
       "    m\n",
       "    <span style=\"font-size: 0.8em; font-weight: bold; line-height: 1; border-radius: 0.35em; vertical-align: middle; margin-left: 0.5rem\">GOT_ALTI_EXPECTED_O</span>\n",
       "</mark>\n",
       " ) just before the increase in the pollen of subarctic conifers. The third last interglacial period ( BW-5 ) shows the same succession pattern as the fourth last interglacial period ( BW-7 -)and the patterns are repeated twice, including a minor ice stage, with subarctic conifers in the middle part of this period ( Fig. 5 ). The double peak Fig. 5. Succession patterns of pollen assemblages and climates for glacial and interglacial periods in T Bed of \n",
       "<mark class=\"entity\" style=\"background: #ff0000; padding: 0.45em 0.6em; margin: 0 0.25em; line-height: 1; border-radius: 0.35em;\">\n",
       "    Lake\n",
       "    <span style=\"font-size: 0.8em; font-weight: bold; line-height: 1; border-radius: 0.35em; vertical-align: middle; margin-left: 0.5rem\">GOT_O_EXPECTED_SITE</span>\n",
       "</mark>\n",
       " \n",
       "<mark class=\"entity\" style=\"background: #ff0000; padding: 0.45em 0.6em; margin: 0 0.25em; line-height: 1; border-radius: 0.35em;\">\n",
       "    Biwa\n",
       "    <span style=\"font-size: 0.8em; font-weight: bold; line-height: 1; border-radius: 0.35em; vertical-align: middle; margin-left: 0.5rem\">GOT_O_EXPECTED_SITE</span>\n",
       "</mark>\n",
       " sediments. N. Miyoshi et alReview of Palaeobotany and Palynology 104 ( 1999 ) 267-283 281 Fig. 6. Comparison between ﬂuctuation curves of \n",
       "<mark class=\"entity\" style=\"background: #00ff00; padding: 0.45em 0.6em; margin: 0 0.25em; line-height: 1; border-radius: 0.35em;\">\n",
       "    Pinaceae\n",
       "    <span style=\"font-size: 0.8em; font-weight: bold; line-height: 1; border-radius: 0.35em; vertical-align: middle; margin-left: 0.5rem\">TAXA</span>\n",
       "</mark>\n",
       " and \n",
       "<mark class=\"entity\" style=\"background: #00ff00; padding: 0.45em 0.6em; margin: 0 0.25em; line-height: 1; border-radius: 0.35em;\">\n",
       "    Cryptomeria\n",
       "    <span style=\"font-size: 0.8em; font-weight: bold; line-height: 1; border-radius: 0.35em; vertical-align: middle; margin-left: 0.5rem\">TAXA</span>\n",
       "</mark>\n",
       " pollen in T Bed of \n",
       "<mark class=\"entity\" style=\"background: #ff0000; padding: 0.45em 0.6em; margin: 0 0.25em; line-height: 1; border-radius: 0.35em;\">\n",
       "    Lake\n",
       "    <span style=\"font-size: 0.8em; font-weight: bold; line-height: 1; border-radius: 0.35em; vertical-align: middle; margin-left: 0.5rem\">GOT_O_EXPECTED_SITE</span>\n",
       "</mark>\n",
       " \n",
       "<mark class=\"entity\" style=\"background: #ff0000; padding: 0.45em 0.6em; margin: 0 0.25em; line-height: 1; border-radius: 0.35em;\">\n",
       "    Biwa\n",
       "    <span style=\"font-size: 0.8em; font-weight: bold; line-height: 1; border-radius: 0.35em; vertical-align: middle; margin-left: 0.5rem\">GOT_O_EXPECTED_SITE</span>\n",
       "</mark>\n",
       " and \n",
       "<mark class=\"entity\" style=\"background: #ff0000; padding: 0.45em 0.6em; margin: 0 0.25em; line-height: 1; border-radius: 0.35em;\">\n",
       "    δ18O\n",
       "    <span style=\"font-size: 0.8em; font-weight: bold; line-height: 1; border-radius: 0.35em; vertical-align: middle; margin-left: 0.5rem\">GOT_O_EXPECTED_TAXA</span>\n",
       "</mark>\n",
       " curve ( redrawn from Williams et al1988 ). characteristic of this period is also clearly shown in stage 7 of \n",
       "<mark class=\"entity\" style=\"background: #ff0000; padding: 0.45em 0.6em; margin: 0 0.25em; line-height: 1; border-radius: 0.35em;\">\n",
       "    δ18O\n",
       "    <span style=\"font-size: 0.8em; font-weight: bold; line-height: 1; border-radius: 0.35em; vertical-align: middle; margin-left: 0.5rem\">GOT_O_EXPECTED_TAXA</span>\n",
       "</mark>\n",
       " isotope chronology ( Fig. 6 ). As stated above, the dominance of \n",
       "<mark class=\"entity\" style=\"background: #00ff00; padding: 0.45em 0.6em; margin: 0 0.25em; line-height: 1; border-radius: 0.35em;\">\n",
       "    Fagus\n",
       "    <span style=\"font-size: 0.8em; font-weight: bold; line-height: 1; border-radius: 0.35em; vertical-align: middle; margin-left: 0.5rem\">TAXA</span>\n",
       "</mark>\n",
       " and \n",
       "<mark class=\"entity\" style=\"background: #00ff00; padding: 0.45em 0.6em; margin: 0 0.25em; line-height: 1; border-radius: 0.35em;\">\n",
       "    Lepidobalanus\n",
       "    <span style=\"font-size: 0.8em; font-weight: bold; line-height: 1; border-radius: 0.35em; vertical-align: middle; margin-left: 0.5rem\">TAXA</span>\n",
       "</mark>\n",
       " pollen is a very important indicator of the initiation of both glacial and interglacial periods, and \n",
       "<mark class=\"entity\" style=\"background: #00ff00; padding: 0.45em 0.6em; margin: 0 0.25em; line-height: 1; border-radius: 0.35em;\">\n",
       "    Lepidobalanus\n",
       "    <span style=\"font-size: 0.8em; font-weight: bold; line-height: 1; border-radius: 0.35em; vertical-align: middle; margin-left: 0.5rem\">TAXA</span>\n",
       "</mark>\n",
       " pollen maintains high values at the initiation of almost all glacial and interglacial periods from \n",
       "<mark class=\"entity\" style=\"background: #ffa500; padding: 0.45em 0.6em; margin: 0 0.25em; line-height: 1; border-radius: 0.35em;\">\n",
       "    BW-10\n",
       "    <span style=\"font-size: 0.8em; font-weight: bold; line-height: 1; border-radius: 0.35em; vertical-align: middle; margin-left: 0.5rem\">GOT_SITE_EXPECTED_O</span>\n",
       "</mark>\n",
       " to \n",
       "<mark class=\"entity\" style=\"background: #ffa500; padding: 0.45em 0.6em; margin: 0 0.25em; line-height: 1; border-radius: 0.35em;\">\n",
       "    BW-1.\n",
       "    <span style=\"font-size: 0.8em; font-weight: bold; line-height: 1; border-radius: 0.35em; vertical-align: middle; margin-left: 0.5rem\">GOT_SITE_EXPECTED_O</span>\n",
       "</mark>\n",
       " However, \n",
       "<mark class=\"entity\" style=\"background: #00ff00; padding: 0.45em 0.6em; margin: 0 0.25em; line-height: 1; border-radius: 0.35em;\">\n",
       "    Fagus\n",
       "    <span style=\"font-size: 0.8em; font-weight: bold; line-height: 1; border-radius: 0.35em; vertical-align: middle; margin-left: 0.5rem\">TAXA</span>\n",
       "</mark>\n",
       " pollen shows decreased values at BW-4, 3, 2 and 1 as compared with the values from BW-10 to BW-5. This may indicate that \n",
       "<mark class=\"entity\" style=\"background: #00ff00; padding: 0.45em 0.6em; margin: 0 0.25em; line-height: 1; border-radius: 0.35em;\">\n",
       "    Fagus\n",
       "    <span style=\"font-size: 0.8em; font-weight: bold; line-height: 1; border-radius: 0.35em; vertical-align: middle; margin-left: 0.5rem\">TAXA</span>\n",
       "</mark>\n",
       " showed a decrease in its distribution area after the third last interglacial ( BW-5 ). \n",
       "<mark class=\"entity\" style=\"background: #00ff00; padding: 0.45em 0.6em; margin: 0 0.25em; line-height: 1; border-radius: 0.35em;\">\n",
       "    Sciadopitys verticillata,\n",
       "    <span style=\"font-size: 0.8em; font-weight: bold; line-height: 1; border-radius: 0.35em; vertical-align: middle; margin-left: 0.5rem\">TAXA</span>\n",
       "</mark>\n",
       " like \n",
       "<mark class=\"entity\" style=\"background: #00ff00; padding: 0.45em 0.6em; margin: 0 0.25em; line-height: 1; border-radius: 0.35em;\">\n",
       "    Cryptomeria japonica,\n",
       "    <span style=\"font-size: 0.8em; font-weight: bold; line-height: 1; border-radius: 0.35em; vertical-align: middle; margin-left: 0.5rem\">TAXA</span>\n",
       "</mark>\n",
       " is a species endemic to \n",
       "<mark class=\"entity\" style=\"background: #00ff00; padding: 0.45em 0.6em; margin: 0 0.25em; line-height: 1; border-radius: 0.35em;\">\n",
       "    Japan.\n",
       "    <span style=\"font-size: 0.8em; font-weight: bold; line-height: 1; border-radius: 0.35em; vertical-align: middle; margin-left: 0.5rem\">REGION</span>\n",
       "</mark>\n",
       " Whereas the latter is distributed in broad mountainous and hilly districts from \n",
       "<mark class=\"entity\" style=\"background: #00ff00; padding: 0.45em 0.6em; margin: 0 0.25em; line-height: 1; border-radius: 0.35em;\">\n",
       "    northern Honshu\n",
       "    <span style=\"font-size: 0.8em; font-weight: bold; line-height: 1; border-radius: 0.35em; vertical-align: middle; margin-left: 0.5rem\">REGION</span>\n",
       "</mark>\n",
       " to \n",
       "<mark class=\"entity\" style=\"background: #00ff00; padding: 0.45em 0.6em; margin: 0 0.25em; line-height: 1; border-radius: 0.35em;\">\n",
       "    Yakushima,\n",
       "    <span style=\"font-size: 0.8em; font-weight: bold; line-height: 1; border-radius: 0.35em; vertical-align: middle; margin-left: 0.5rem\">REGION</span>\n",
       "</mark>\n",
       " the former grows only in small limited areas in some mountainous districts between \n",
       "<mark class=\"entity\" style=\"background: #00ff00; padding: 0.45em 0.6em; margin: 0 0.25em; line-height: 1; border-radius: 0.35em;\">\n",
       "    Fukushima Prefecture\n",
       "    <span style=\"font-size: 0.8em; font-weight: bold; line-height: 1; border-radius: 0.35em; vertical-align: middle; margin-left: 0.5rem\">REGION</span>\n",
       "</mark>\n",
       " \n",
       "<mark class=\"entity\" style=\"background: #ff0000; padding: 0.45em 0.6em; margin: 0 0.25em; line-height: 1; border-radius: 0.35em;\">\n",
       "    (\n",
       "    <span style=\"font-size: 0.8em; font-weight: bold; line-height: 1; border-radius: 0.35em; vertical-align: middle; margin-left: 0.5rem\">GOT_O_EXPECTED_REGION</span>\n",
       "</mark>\n",
       " \n",
       "<mark class=\"entity\" style=\"background: #00ff00; padding: 0.45em 0.6em; margin: 0 0.25em; line-height: 1; border-radius: 0.35em;\">\n",
       "    northern Honshu\n",
       "    <span style=\"font-size: 0.8em; font-weight: bold; line-height: 1; border-radius: 0.35em; vertical-align: middle; margin-left: 0.5rem\">REGION</span>\n",
       "</mark>\n",
       " ) and \n",
       "<mark class=\"entity\" style=\"background: #00ff00; padding: 0.45em 0.6em; margin: 0 0.25em; line-height: 1; border-radius: 0.35em;\">\n",
       "    Miyazaki Prefecture\n",
       "    <span style=\"font-size: 0.8em; font-weight: bold; line-height: 1; border-radius: 0.35em; vertical-align: middle; margin-left: 0.5rem\">REGION</span>\n",
       "</mark>\n",
       " \n",
       "<mark class=\"entity\" style=\"background: #ff0000; padding: 0.45em 0.6em; margin: 0 0.25em; line-height: 1; border-radius: 0.35em;\">\n",
       "    (\n",
       "    <span style=\"font-size: 0.8em; font-weight: bold; line-height: 1; border-radius: 0.35em; vertical-align: middle; margin-left: 0.5rem\">GOT_O_EXPECTED_REGION</span>\n",
       "</mark>\n",
       " \n",
       "<mark class=\"entity\" style=\"background: #00ff00; padding: 0.45em 0.6em; margin: 0 0.25em; line-height: 1; border-radius: 0.35em;\">\n",
       "    southern Kyushu\n",
       "    <span style=\"font-size: 0.8em; font-weight: bold; line-height: 1; border-radius: 0.35em; vertical-align: middle; margin-left: 0.5rem\">REGION</span>\n",
       "</mark>\n",
       " ). During the last ﬁve interglacial periods and some interstadial stages, the pollen of the latter species shows high values. In contrast, pollen of the former species shows high values only in the upper part of BW-3. The last glacial period starts with comparatively low pollen values for \n",
       "<mark class=\"entity\" style=\"background: #00ff00; padding: 0.45em 0.6em; margin: 0 0.25em; line-height: 1; border-radius: 0.35em;\">\n",
       "    Fagus\n",
       "    <span style=\"font-size: 0.8em; font-weight: bold; line-height: 1; border-radius: 0.35em; vertical-align: middle; margin-left: 0.5rem\">TAXA</span>\n",
       "</mark>\n",
       " and \n",
       "<mark class=\"entity\" style=\"background: #00ff00; padding: 0.45em 0.6em; margin: 0 0.25em; line-height: 1; border-radius: 0.35em;\">\n",
       "    Lepidobalanus,\n",
       "    <span style=\"font-size: 0.8em; font-weight: bold; line-height: 1; border-radius: 0.35em; vertical-align: middle; margin-left: 0.5rem\">TAXA</span>\n",
       "</mark>\n",
       " and is the ﬁrst stadial stage with a cool, wet climate. Then pollen values for temperate conifers such as 282 N. Miyoshi et alReview of Palaeobotany and Palynology 104 ( 1999 ) 267-283 \n",
       "<mark class=\"entity\" style=\"background: #00ff00; padding: 0.45em 0.6em; margin: 0 0.25em; line-height: 1; border-radius: 0.35em;\">\n",
       "    Cryptomeria\n",
       "    <span style=\"font-size: 0.8em; font-weight: bold; line-height: 1; border-radius: 0.35em; vertical-align: middle; margin-left: 0.5rem\">TAXA</span>\n",
       "</mark>\n",
       " and \n",
       "<mark class=\"entity\" style=\"background: #00ff00; padding: 0.45em 0.6em; margin: 0 0.25em; line-height: 1; border-radius: 0.35em;\">\n",
       "    Sciadopitys\n",
       "    <span style=\"font-size: 0.8em; font-weight: bold; line-height: 1; border-radius: 0.35em; vertical-align: middle; margin-left: 0.5rem\">TAXA</span>\n",
       "</mark>\n",
       " increase, representing a short interstadial stage with a temperate, wet climate. Thereafter subarctic conifers begin to show high pollen values, indicating the second stadial stage with a colder and drier climate. The full glacial age of the last glacial period seems to start at ca. \n",
       "<mark class=\"entity\" style=\"background: #00ff00; padding: 0.45em 0.6em; margin: 0 0.25em; line-height: 1; border-radius: 0.35em;\">\n",
       "    25 000 yr BP\n",
       "    <span style=\"font-size: 0.8em; font-weight: bold; line-height: 1; border-radius: 0.35em; vertical-align: middle; margin-left: 0.5rem\">AGE</span>\n",
       "</mark>\n",
       " marked AT ( 27 m -)judging from the increases in subarctic conifer pollen. The recent interglacial period shows the highest pollen values ( ca. 55)- for evergreen broadleaved trees such as \n",
       "<mark class=\"entity\" style=\"background: #00ff00; padding: 0.45em 0.6em; margin: 0 0.25em; line-height: 1; border-radius: 0.35em;\">\n",
       "    Cyclobalanopsis\n",
       "    <span style=\"font-size: 0.8em; font-weight: bold; line-height: 1; border-radius: 0.35em; vertical-align: middle; margin-left: 0.5rem\">TAXA</span>\n",
       "</mark>\n",
       " and \n",
       "<mark class=\"entity\" style=\"background: #00ff00; padding: 0.45em 0.6em; margin: 0 0.25em; line-height: 1; border-radius: 0.35em;\">\n",
       "    Castanopsis.\n",
       "    <span style=\"font-size: 0.8em; font-weight: bold; line-height: 1; border-radius: 0.35em; vertical-align: middle; margin-left: 0.5rem\">TAXA</span>\n",
       "</mark>\n",
       " Though only four samples have been analyzed palynologically for this period, and the full vegetational histories are difﬁcult to explain, Higuchi and Inouchi ( 1991 ) analyzed the uppermost 3 m sediment of a 141-m core from \n",
       "<mark class=\"entity\" style=\"background: #00ff00; padding: 0.45em 0.6em; margin: 0 0.25em; line-height: 1; border-radius: 0.35em;\">\n",
       "    Lake Biwa\n",
       "    <span style=\"font-size: 0.8em; font-weight: bold; line-height: 1; border-radius: 0.35em; vertical-align: middle; margin-left: 0.5rem\">SITE</span>\n",
       "</mark>\n",
       " in detail, and divided it into three stages in ascending order as follows : LB-2a ( \n",
       "<mark class=\"entity\" style=\"background: #00ff00; padding: 0.45em 0.6em; margin: 0 0.25em; line-height: 1; border-radius: 0.35em;\">\n",
       "    Lepidobalanus\n",
       "    <span style=\"font-size: 0.8em; font-weight: bold; line-height: 1; border-radius: 0.35em; vertical-align: middle; margin-left: 0.5rem\">TAXA</span>\n",
       "</mark>\n",
       " and \n",
       "<mark class=\"entity\" style=\"background: #00ff00; padding: 0.45em 0.6em; margin: 0 0.25em; line-height: 1; border-radius: 0.35em;\">\n",
       "    Fagus\n",
       "    <span style=\"font-size: 0.8em; font-weight: bold; line-height: 1; border-radius: 0.35em; vertical-align: middle; margin-left: 0.5rem\">TAXA</span>\n",
       "</mark>\n",
       " -)LB-2b ( \n",
       "<mark class=\"entity\" style=\"background: #00ff00; padding: 0.45em 0.6em; margin: 0 0.25em; line-height: 1; border-radius: 0.35em;\">\n",
       "    Cyclobalanopsis\n",
       "    <span style=\"font-size: 0.8em; font-weight: bold; line-height: 1; border-radius: 0.35em; vertical-align: middle; margin-left: 0.5rem\">TAXA</span>\n",
       "</mark>\n",
       " and \n",
       "<mark class=\"entity\" style=\"background: #00ff00; padding: 0.45em 0.6em; margin: 0 0.25em; line-height: 1; border-radius: 0.35em;\">\n",
       "    Cryptomeria\n",
       "    <span style=\"font-size: 0.8em; font-weight: bold; line-height: 1; border-radius: 0.35em; vertical-align: middle; margin-left: 0.5rem\">TAXA</span>\n",
       "</mark>\n",
       " ) and LB-3 ( \n",
       "<mark class=\"entity\" style=\"background: #00ff00; padding: 0.45em 0.6em; margin: 0 0.25em; line-height: 1; border-radius: 0.35em;\">\n",
       "    Pinus\n",
       "    <span style=\"font-size: 0.8em; font-weight: bold; line-height: 1; border-radius: 0.35em; vertical-align: middle; margin-left: 0.5rem\">TAXA</span>\n",
       "</mark>\n",
       " and \n",
       "<mark class=\"entity\" style=\"background: #00ff00; padding: 0.45em 0.6em; margin: 0 0.25em; line-height: 1; border-radius: 0.35em;\">\n",
       "    Gramineae\n",
       "    <span style=\"font-size: 0.8em; font-weight: bold; line-height: 1; border-radius: 0.35em; vertical-align: middle; margin-left: 0.5rem\">TAXA</span>\n",
       "</mark>\n",
       " ). ( LB-1 belongs to full glacial and late glacial)- The succession pattern of pollen assemblages and climates on both glacial and interglacial periods in the T Bed are summarized in Fig. 5. 5.2. Glacial-interglacial cycles Meyers et al. ( 1993 ) proposed a revised chronostratigraphic scale, and gave the T Bed an age of ca. \n",
       "<mark class=\"entity\" style=\"background: #00ff00; padding: 0.45em 0.6em; margin: 0 0.25em; line-height: 1; border-radius: 0.35em;\">\n",
       "    430 000 yr BP,\n",
       "    <span style=\"font-size: 0.8em; font-weight: bold; line-height: 1; border-radius: 0.35em; vertical-align: middle; margin-left: 0.5rem\">AGE</span>\n",
       "</mark>\n",
       " based on a review of published records of pollen, sediment grain size, diatoms and organic matter composition. The ten pollen zones of the T Bed have ﬁve glacial-interglacial cycles, each cycle being ca. \n",
       "<mark class=\"entity\" style=\"background: #ffa500; padding: 0.45em 0.6em; margin: 0 0.25em; line-height: 1; border-radius: 0.35em;\">\n",
       "    90\n",
       "    <span style=\"font-size: 0.8em; font-weight: bold; line-height: 1; border-radius: 0.35em; vertical-align: middle; margin-left: 0.5rem\">GOT_AGE_EXPECTED_O</span>\n",
       "</mark>\n",
       " \n",
       "<mark class=\"entity\" style=\"background: #ffa500; padding: 0.45em 0.6em; margin: 0 0.25em; line-height: 1; border-radius: 0.35em;\">\n",
       "    000\n",
       "    <span style=\"font-size: 0.8em; font-weight: bold; line-height: 1; border-radius: 0.35em; vertical-align: middle; margin-left: 0.5rem\">GOT_AGE_EXPECTED_O</span>\n",
       "</mark>\n",
       " \n",
       "<mark class=\"entity\" style=\"background: #ffa500; padding: 0.45em 0.6em; margin: 0 0.25em; line-height: 1; border-radius: 0.35em;\">\n",
       "    yr\n",
       "    <span style=\"font-size: 0.8em; font-weight: bold; line-height: 1; border-radius: 0.35em; vertical-align: middle; margin-left: 0.5rem\">GOT_AGE_EXPECTED_O</span>\n",
       "</mark>\n",
       " \n",
       "<mark class=\"entity\" style=\"background: #ffa500; padding: 0.45em 0.6em; margin: 0 0.25em; line-height: 1; border-radius: 0.35em;\">\n",
       "    based\n",
       "    <span style=\"font-size: 0.8em; font-weight: bold; line-height: 1; border-radius: 0.35em; vertical-align: middle; margin-left: 0.5rem\">GOT_AGE_EXPECTED_O</span>\n",
       "</mark>\n",
       " on the revised scale of ca. \n",
       "<mark class=\"entity\" style=\"background: #00ff00; padding: 0.45em 0.6em; margin: 0 0.25em; line-height: 1; border-radius: 0.35em;\">\n",
       "    430 000 yr BP.\n",
       "    <span style=\"font-size: 0.8em; font-weight: bold; line-height: 1; border-radius: 0.35em; vertical-align: middle; margin-left: 0.5rem\">AGE</span>\n",
       "</mark>\n",
       " The ﬁve cycles seem to coincide with the δ18O curve determined from shells of \n",
       "<mark class=\"entity\" style=\"background: #ffa500; padding: 0.45em 0.6em; margin: 0 0.25em; line-height: 1; border-radius: 0.35em;\">\n",
       "    Globigerinoides\n",
       "    <span style=\"font-size: 0.8em; font-weight: bold; line-height: 1; border-radius: 0.35em; vertical-align: middle; margin-left: 0.5rem\">GOT_TAXA_EXPECTED_O</span>\n",
       "</mark>\n",
       " \n",
       "<mark class=\"entity\" style=\"background: #ffa500; padding: 0.45em 0.6em; margin: 0 0.25em; line-height: 1; border-radius: 0.35em;\">\n",
       "    sacculifera\n",
       "    <span style=\"font-size: 0.8em; font-weight: bold; line-height: 1; border-radius: 0.35em; vertical-align: middle; margin-left: 0.5rem\">GOT_TAXA_EXPECTED_O</span>\n",
       "</mark>\n",
       " ( Emiliani, 1978 ; Williams et al1988 ). Pollen curves of boreal \n",
       "<mark class=\"entity\" style=\"background: #00ff00; padding: 0.45em 0.6em; margin: 0 0.25em; line-height: 1; border-radius: 0.35em;\">\n",
       "    Pinaceae\n",
       "    <span style=\"font-size: 0.8em; font-weight: bold; line-height: 1; border-radius: 0.35em; vertical-align: middle; margin-left: 0.5rem\">TAXA</span>\n",
       "</mark>\n",
       " such as \n",
       "<mark class=\"entity\" style=\"background: #00ff00; padding: 0.45em 0.6em; margin: 0 0.25em; line-height: 1; border-radius: 0.35em;\">\n",
       "    Abies,\n",
       "    <span style=\"font-size: 0.8em; font-weight: bold; line-height: 1; border-radius: 0.35em; vertical-align: middle; margin-left: 0.5rem\">TAXA</span>\n",
       "</mark>\n",
       " \n",
       "<mark class=\"entity\" style=\"background: #00ff00; padding: 0.45em 0.6em; margin: 0 0.25em; line-height: 1; border-radius: 0.35em;\">\n",
       "    Tsuga,\n",
       "    <span style=\"font-size: 0.8em; font-weight: bold; line-height: 1; border-radius: 0.35em; vertical-align: middle; margin-left: 0.5rem\">TAXA</span>\n",
       "</mark>\n",
       " \n",
       "<mark class=\"entity\" style=\"background: #00ff00; padding: 0.45em 0.6em; margin: 0 0.25em; line-height: 1; border-radius: 0.35em;\">\n",
       "    Picea\n",
       "    <span style=\"font-size: 0.8em; font-weight: bold; line-height: 1; border-radius: 0.35em; vertical-align: middle; margin-left: 0.5rem\">TAXA</span>\n",
       "</mark>\n",
       " and \n",
       "<mark class=\"entity\" style=\"background: #00ff00; padding: 0.45em 0.6em; margin: 0 0.25em; line-height: 1; border-radius: 0.35em;\">\n",
       "    Pinus\n",
       "    <span style=\"font-size: 0.8em; font-weight: bold; line-height: 1; border-radius: 0.35em; vertical-align: middle; margin-left: 0.5rem\">TAXA</span>\n",
       "</mark>\n",
       " show a mutual similarity, with high values corresponding with high δ18O values. In contrast, the temperate genus \n",
       "<mark class=\"entity\" style=\"background: #00ff00; padding: 0.45em 0.6em; margin: 0 0.25em; line-height: 1; border-radius: 0.35em;\">\n",
       "    Cryptomeria\n",
       "    <span style=\"font-size: 0.8em; font-weight: bold; line-height: 1; border-radius: 0.35em; vertical-align: middle; margin-left: 0.5rem\">TAXA</span>\n",
       "</mark>\n",
       " shows coincidence with the curves for low values of δ18O ( Fig. </div></span>"
      ],
      "text/plain": [
       "<IPython.core.display.HTML object>"
      ]
     },
     "metadata": {},
     "output_type": "display_data"
    }
   ],
   "source": [
    "file_name = labelled_files[20]\n",
    "text, labelled_entities = load_json_label_files([file_name])\n",
    "\n",
    "_, actual_labels = get_token_labels(labelled_entities, text)\n",
    "\n",
    "spacy_entities = spacy_extract_all(text, ner_model)\n",
    "_, predicted_labels = get_token_labels(spacy_entities, text)\n",
    "\n",
    "text_tokens = text.split()\n",
    "\n",
    "visualize_mislabelled_entities(actual_labels, predicted_labels, text_tokens)"
   ]
  },
  {
   "cell_type": "code",
   "execution_count": null,
   "metadata": {},
   "outputs": [],
   "source": []
  }
 ],
 "metadata": {
  "kernelspec": {
   "display_name": "dsci531",
   "language": "python",
   "name": "python3"
  },
  "language_info": {
   "codemirror_mode": {
    "name": "ipython",
    "version": 3
   },
   "file_extension": ".py",
   "mimetype": "text/x-python",
   "name": "python",
   "nbconvert_exporter": "python",
   "pygments_lexer": "ipython3",
   "version": "3.10.11"
  },
  "orig_nbformat": 4
 },
 "nbformat": 4,
 "nbformat_minor": 2
}
