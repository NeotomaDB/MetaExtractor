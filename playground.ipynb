{
 "cells": [
  {
   "attachments": {},
   "cell_type": "markdown",
   "metadata": {},
   "source": [
    "## Convert documents from sentences to full-text articles"
   ]
  },
  {
   "cell_type": "code",
   "execution_count": 2,
   "metadata": {},
   "outputs": [],
   "source": [
    "import pandas as pd\n",
    "import nltk\n",
    "from nltk.stem.snowball import SnowballStemmer\n",
    "from nltk.corpus import stopwords\n",
    "import os\n",
    "import re"
   ]
  },
  {
   "cell_type": "code",
   "execution_count": 161,
   "metadata": {},
   "outputs": [
    {
     "name": "stdout",
     "output_type": "stream",
     "text": [
      "                      gddid  sentid  \\\n",
      "0  54b4325de138239d8684d7e0       1   \n",
      "1  54b4325de138239d8684d7e0       2   \n",
      "2  54b4325de138239d8684d7e0       3   \n",
      "3  54b4325de138239d8684d7e0       4   \n",
      "4  54b4325de138239d8684d7e0       5   \n",
      "\n",
      "                                               words  \n",
      "0  {LES,DISTORSIONS,DE,L'ENREGISTREMENT,POLLINIQU...  \n",
      "1  {-LRB-,de,-RRB-,\",\",PONEL,Ph.,&,REILLE,M.,1997,.}  \n",
      "2  {Les,distorsions,de,l'enregistrement,polliniqu...  \n",
      "3  {-LSB-,Distorsions,in,the,pollen,record,of,veg...  \n",
      "4              {GEOBIOS,\",\",M.S.,n,°,21,:,195-202,.}  \n"
     ]
    }
   ],
   "source": [
    "def clean_words(x):\n",
    "        words = []\n",
    "        for i, w in enumerate(x):\n",
    "                if w == '.':\n",
    "                        if len(words)>0:\n",
    "                                words[i-1] += '.'\n",
    "                else:\n",
    "                        words.append(w.strip())\n",
    "        return words\n",
    "path = 'data/sentences_nlp352'\n",
    "nlp_sentences = pd.read_csv(path, \n",
    "                            sep='\\t',\n",
    "                            names = ['gddid', \n",
    "                                    'sentid',\n",
    "                                    'wordidx',\n",
    "                                    'words',\n",
    "                                    'part_of_speech',\n",
    "                                    'special_class',\n",
    "                                    'lemmas',\n",
    "                                    'word_type',\n",
    "                                    'word_modified'], \n",
    "                            usecols = ['gddid', 'sentid', 'words'])\n",
    "\n",
    "nlp_sentences =nlp_sentences.replace('\"', '', regex = True)\\\n",
    "                            .replace('\\{', '', regex = True)\\\n",
    "                            .replace('}', '', regex = True)\\\n",
    "                            .replace(',', ',', regex = True)\\\n",
    "                            .replace(r'\\W{4,}', '', regex=True)\\\n",
    "                            .replace(',,,', 'comma_sym', regex=True)\\\n",
    "                            .replace(',', ' ', regex=True)\\\n",
    "                            .replace('comma_sym', ', ', regex=True)\\\n",
    "                            .replace('-LRB- ', '(', regex=True)\\\n",
    "                            .replace('-LSB- ', '[', regex=True)\\\n",
    "                            .replace('LRB', '(', regex=True)\\\n",
    "                            .replace('LSB ', '[', regex=True)\\\n",
    "                            .replace('-RRB-', ')', regex=True)\\\n",
    "                            .replace('-RSB-', ']', regex=True)\\\n",
    "                            .replace('RRB', ')', regex=True)\\\n",
    "                            .replace('RSB', ']', regex=True)\\\n",
    "                            .replace('-RRB', ')', regex=True)\\\n",
    "                            .replace('-RSB', ']', regex=True)\n",
    "nlp_sentences['words']= nlp_sentences['words'].str.split(\" \")\n",
    "# # Sentences - not words.\n",
    "nlp_sentences['words'] = nlp_sentences['words'].apply(clean_words)\n",
    "nlp_sentences['sentence'] = nlp_sentences['words'].apply(lambda x: ' '.join(map(str, x)))\n",
    "\n",
    "# # REGEX Values\n",
    "# #Returns a boolean value, whether the coordinates are present in the sentence or not\n",
    "# nlp_sentences = utils.find_regex(nlp_sentences, find_val = 'dms_regex',\\\n",
    "#                             search_col = 'sentence', new_col_name = 'dms_re')\n",
    "# nlp_sentences = utils.find_regex(nlp_sentences, find_val = 'dd_regex',\\\n",
    "#                             search_col = 'sentence', new_col_name = 'dd_re')\n",
    "# nlp_sentences = utils.find_regex(nlp_sentences, find_val = 'digits_regex',\\\n",
    "#                             search_col = 'sentence', new_col_name = 'digits_re')\n",
    "\n",
    "# # NLP Taks\n",
    "# stop = stopwords.words('english')\n",
    "# tokenizer = nltk.RegexpTokenizer(r\"\\w+\")\n",
    "# stemmer = SnowballStemmer(\"english\")\n",
    "\n",
    "# nlp_sentences['nltk'] = nlp_sentences.apply(lambda row: tokenizer.tokenize(row['sentence']), axis=1)\n",
    "# nlp_sentences['nltk']=nlp_sentences['nltk'].apply(lambda x: [item for item in x if item not in stop])\n",
    "# nlp_sentences['nltk']=nlp_sentences['nltk'].apply(lambda x: [stemmer.stem(y) for y in x])\n",
    "    # nlp_sentences = nlp_sentences[['gddid', 'sentid', 'sentence', 'nltk', 'dms_re', 'dd_re', 'digits_re']]\n",
    "    \n",
    "    # return nlp_sentences\n"
   ]
  },
  {
   "cell_type": "code",
   "execution_count": 158,
   "metadata": {},
   "outputs": [],
   "source": [
    "y = nlp_sentences.groupby(\"gddid\")['sentence'].agg(lambda x: ' '.join(x)).reset_index()"
   ]
  },
  {
   "cell_type": "code",
   "execution_count": 49,
   "metadata": {},
   "outputs": [
    {
     "data": {
      "text/html": [
       "<div>\n",
       "<style scoped>\n",
       "    .dataframe tbody tr th:only-of-type {\n",
       "        vertical-align: middle;\n",
       "    }\n",
       "\n",
       "    .dataframe tbody tr th {\n",
       "        vertical-align: top;\n",
       "    }\n",
       "\n",
       "    .dataframe thead th {\n",
       "        text-align: right;\n",
       "    }\n",
       "</style>\n",
       "<table border=\"1\" class=\"dataframe\">\n",
       "  <thead>\n",
       "    <tr style=\"text-align: right;\">\n",
       "      <th></th>\n",
       "      <th>gddid</th>\n",
       "      <th>sentence</th>\n",
       "    </tr>\n",
       "  </thead>\n",
       "  <tbody>\n",
       "    <tr>\n",
       "      <th>0</th>\n",
       "      <td>54b43244e138239d8684933b</td>\n",
       "      <td>Palaeogeography, Palaeoclimatology, Palaeoecol...</td>\n",
       "    </tr>\n",
       "    <tr>\n",
       "      <th>1</th>\n",
       "      <td>54b43245e138239d8684949c</td>\n",
       "      <td>Palaeogeography, Palaeoclimatology, Palaeoecol...</td>\n",
       "    </tr>\n",
       "    <tr>\n",
       "      <th>2</th>\n",
       "      <td>54b43245e138239d86849568</td>\n",
       "      <td>Palaeogeography, Palaeoclimatology, Palaeoecol...</td>\n",
       "    </tr>\n",
       "    <tr>\n",
       "      <th>3</th>\n",
       "      <td>54b43246e138239d868497cd</td>\n",
       "      <td>Palaeogeography, Palaeoclimatology, Palaeoecol...</td>\n",
       "    </tr>\n",
       "    <tr>\n",
       "      <th>4</th>\n",
       "      <td>54b43246e138239d86849975</td>\n",
       "      <td>Palaeogeography, Palaeoclimatology, Palaeoecol...</td>\n",
       "    </tr>\n",
       "    <tr>\n",
       "      <th>...</th>\n",
       "      <td>...</td>\n",
       "      <td>...</td>\n",
       "    </tr>\n",
       "    <tr>\n",
       "      <th>291</th>\n",
       "      <td>575f018acf58f15e86632077</td>\n",
       "      <td>ARTICLE IN PRESS Quaternary International 200 ...</td>\n",
       "    </tr>\n",
       "    <tr>\n",
       "      <th>292</th>\n",
       "      <td>576109decf58f12b157b772e</td>\n",
       "      <td>148 Abstracts / Quaternary International 279-2...</td>\n",
       "    </tr>\n",
       "    <tr>\n",
       "      <th>293</th>\n",
       "      <td>57611ef7cf58f130993e9b1c</td>\n",
       "      <td>Palaeogeography, Palaeoclimatology, Palaeoecol...</td>\n",
       "    </tr>\n",
       "    <tr>\n",
       "      <th>294</th>\n",
       "      <td>576161c4cf58f141254fd03f</td>\n",
       "      <td>Palaeogeography, Palaeoclimatology, Palaeoecol...</td>\n",
       "    </tr>\n",
       "    <tr>\n",
       "      <th>295</th>\n",
       "      <td>577ba721cf58f14ac2c6ff41</td>\n",
       "      <td>Short Notes RICHARD G. BAKER LATE-GLACIAL POLL...</td>\n",
       "    </tr>\n",
       "  </tbody>\n",
       "</table>\n",
       "<p>296 rows × 2 columns</p>\n",
       "</div>"
      ],
      "text/plain": [
       "                        gddid  \\\n",
       "0    54b43244e138239d8684933b   \n",
       "1    54b43245e138239d8684949c   \n",
       "2    54b43245e138239d86849568   \n",
       "3    54b43246e138239d868497cd   \n",
       "4    54b43246e138239d86849975   \n",
       "..                        ...   \n",
       "291  575f018acf58f15e86632077   \n",
       "292  576109decf58f12b157b772e   \n",
       "293  57611ef7cf58f130993e9b1c   \n",
       "294  576161c4cf58f141254fd03f   \n",
       "295  577ba721cf58f14ac2c6ff41   \n",
       "\n",
       "                                              sentence  \n",
       "0    Palaeogeography, Palaeoclimatology, Palaeoecol...  \n",
       "1    Palaeogeography, Palaeoclimatology, Palaeoecol...  \n",
       "2    Palaeogeography, Palaeoclimatology, Palaeoecol...  \n",
       "3    Palaeogeography, Palaeoclimatology, Palaeoecol...  \n",
       "4    Palaeogeography, Palaeoclimatology, Palaeoecol...  \n",
       "..                                                 ...  \n",
       "291  ARTICLE IN PRESS Quaternary International 200 ...  \n",
       "292  148 Abstracts / Quaternary International 279-2...  \n",
       "293  Palaeogeography, Palaeoclimatology, Palaeoecol...  \n",
       "294  Palaeogeography, Palaeoclimatology, Palaeoecol...  \n",
       "295  Short Notes RICHARD G. BAKER LATE-GLACIAL POLL...  \n",
       "\n",
       "[296 rows x 2 columns]"
      ]
     },
     "execution_count": 49,
     "metadata": {},
     "output_type": "execute_result"
    }
   ],
   "source": [
    "y"
   ]
  },
  {
   "cell_type": "code",
   "execution_count": 159,
   "metadata": {},
   "outputs": [],
   "source": [
    "for row in y.iterrows():\n",
    "    with open(f\"data/raw_text/\" + row[1]['gddid'] + '.txt', 'w') as f:\n",
    "        f.write(row[1]['sentence'])"
   ]
  },
  {
   "attachments": {},
   "cell_type": "markdown",
   "metadata": {},
   "source": [
    "## Check the percentage of articles that have an abstract on CrossRef"
   ]
  },
  {
   "cell_type": "code",
   "execution_count": 66,
   "metadata": {},
   "outputs": [],
   "source": [
    "import requests\n",
    "import json"
   ]
  },
  {
   "cell_type": "code",
   "execution_count": 60,
   "metadata": {},
   "outputs": [
    {
     "data": {
      "text/html": [
       "<div>\n",
       "<style scoped>\n",
       "    .dataframe tbody tr th:only-of-type {\n",
       "        vertical-align: middle;\n",
       "    }\n",
       "\n",
       "    .dataframe tbody tr th {\n",
       "        vertical-align: top;\n",
       "    }\n",
       "\n",
       "    .dataframe thead th {\n",
       "        text-align: right;\n",
       "    }\n",
       "</style>\n",
       "<table border=\"1\" class=\"dataframe\">\n",
       "  <thead>\n",
       "    <tr style=\"text-align: right;\">\n",
       "      <th></th>\n",
       "      <th>siteid</th>\n",
       "      <th>sitename</th>\n",
       "      <th>longitudeeast</th>\n",
       "      <th>latitudenorth</th>\n",
       "      <th>longitudewest</th>\n",
       "      <th>latitudesouth</th>\n",
       "      <th>altitude</th>\n",
       "      <th>area</th>\n",
       "      <th>sitedescription</th>\n",
       "      <th>notes</th>\n",
       "      <th>...</th>\n",
       "      <th>datasetid</th>\n",
       "      <th>collectionunitid</th>\n",
       "      <th>datasettypeid</th>\n",
       "      <th>datasetname</th>\n",
       "      <th>notes-2</th>\n",
       "      <th>recdatecreated-2</th>\n",
       "      <th>recdatemodified-2</th>\n",
       "      <th>embargoid</th>\n",
       "      <th>citation</th>\n",
       "      <th>doi</th>\n",
       "    </tr>\n",
       "  </thead>\n",
       "  <tbody>\n",
       "    <tr>\n",
       "      <th>0</th>\n",
       "      <td>10330</td>\n",
       "      <td>Lac du Sommet</td>\n",
       "      <td>-70.66468</td>\n",
       "      <td>47.71662</td>\n",
       "      <td>-70.66573</td>\n",
       "      <td>47.71382</td>\n",
       "      <td>830.0</td>\n",
       "      <td>2.0</td>\n",
       "      <td>The small shallow Lac du Sommet (0.02 km2, 4 m...</td>\n",
       "      <td>NaN</td>\n",
       "      <td>...</td>\n",
       "      <td>15691</td>\n",
       "      <td>11686</td>\n",
       "      <td>1</td>\n",
       "      <td>NaN</td>\n",
       "      <td>NaN</td>\n",
       "      <td>2015-04-16 19:02:13</td>\n",
       "      <td>2015-04-16 19:02:13</td>\n",
       "      <td>NaN</td>\n",
       "      <td>Hausmann, S., I. Larocque-Tobler, P.J.H. Richa...</td>\n",
       "      <td>10.1177/0959683611400199</td>\n",
       "    </tr>\n",
       "    <tr>\n",
       "      <th>1</th>\n",
       "      <td>10330</td>\n",
       "      <td>Lac du Sommet</td>\n",
       "      <td>-70.66468</td>\n",
       "      <td>47.71662</td>\n",
       "      <td>-70.66573</td>\n",
       "      <td>47.71382</td>\n",
       "      <td>830.0</td>\n",
       "      <td>2.0</td>\n",
       "      <td>The small shallow Lac du Sommet (0.02 km2, 4 m...</td>\n",
       "      <td>NaN</td>\n",
       "      <td>...</td>\n",
       "      <td>15692</td>\n",
       "      <td>11686</td>\n",
       "      <td>11</td>\n",
       "      <td>Lac du Sommet Diatom Data</td>\n",
       "      <td>NaN</td>\n",
       "      <td>2015-04-16 19:02:20</td>\n",
       "      <td>2015-04-16 19:02:20</td>\n",
       "      <td>NaN</td>\n",
       "      <td>Hausmann, S., I. Larocque-Tobler, P.J.H. Richa...</td>\n",
       "      <td>10.1177/0959683611400199</td>\n",
       "    </tr>\n",
       "    <tr>\n",
       "      <th>2</th>\n",
       "      <td>1729</td>\n",
       "      <td>Myrtle Lake</td>\n",
       "      <td>-93.37853</td>\n",
       "      <td>47.98645</td>\n",
       "      <td>-93.39207</td>\n",
       "      <td>47.97876</td>\n",
       "      <td>393.0</td>\n",
       "      <td>50.0</td>\n",
       "      <td>Lake surrounded by peatland. Physiography: Red...</td>\n",
       "      <td>NaN</td>\n",
       "      <td>...</td>\n",
       "      <td>1786</td>\n",
       "      <td>1728</td>\n",
       "      <td>3</td>\n",
       "      <td>NaN</td>\n",
       "      <td>NaN</td>\n",
       "      <td>2013-09-30 14:02:42</td>\n",
       "      <td>2013-09-30 14:02:42</td>\n",
       "      <td>NaN</td>\n",
       "      <td>Janssen, C.R. 1968. Myrtle Lake: a late- and p...</td>\n",
       "      <td>10.1139/b68-190</td>\n",
       "    </tr>\n",
       "    <tr>\n",
       "      <th>3</th>\n",
       "      <td>1729</td>\n",
       "      <td>Myrtle Lake</td>\n",
       "      <td>-93.37853</td>\n",
       "      <td>47.98645</td>\n",
       "      <td>-93.39207</td>\n",
       "      <td>47.97876</td>\n",
       "      <td>393.0</td>\n",
       "      <td>50.0</td>\n",
       "      <td>Lake surrounded by peatland. Physiography: Red...</td>\n",
       "      <td>NaN</td>\n",
       "      <td>...</td>\n",
       "      <td>8423</td>\n",
       "      <td>1728</td>\n",
       "      <td>1</td>\n",
       "      <td>NaN</td>\n",
       "      <td>NaN</td>\n",
       "      <td>2013-09-30 14:02:42</td>\n",
       "      <td>2013-09-30 14:02:42</td>\n",
       "      <td>NaN</td>\n",
       "      <td>Janssen, C.R. 1968. Myrtle Lake: a late- and p...</td>\n",
       "      <td>10.1139/b68-190</td>\n",
       "    </tr>\n",
       "    <tr>\n",
       "      <th>4</th>\n",
       "      <td>269</td>\n",
       "      <td>Billy's Lake</td>\n",
       "      <td>-94.54948</td>\n",
       "      <td>46.27186</td>\n",
       "      <td>-94.55363</td>\n",
       "      <td>46.26930</td>\n",
       "      <td>383.0</td>\n",
       "      <td>2.5</td>\n",
       "      <td>Shallow depression on St. Croix moraine. Physi...</td>\n",
       "      <td>NaN</td>\n",
       "      <td>...</td>\n",
       "      <td>275</td>\n",
       "      <td>269</td>\n",
       "      <td>3</td>\n",
       "      <td>NaN</td>\n",
       "      <td>NaN</td>\n",
       "      <td>2013-09-30 14:02:42</td>\n",
       "      <td>2013-09-30 14:02:42</td>\n",
       "      <td>NaN</td>\n",
       "      <td>Jacobson, G.L., Jr., and E.C. Grimm. 1986. A n...</td>\n",
       "      <td>10.2307/1939818</td>\n",
       "    </tr>\n",
       "  </tbody>\n",
       "</table>\n",
       "<p>5 rows × 23 columns</p>\n",
       "</div>"
      ],
      "text/plain": [
       "   siteid       sitename  longitudeeast  latitudenorth  longitudewest  \\\n",
       "0   10330  Lac du Sommet      -70.66468       47.71662      -70.66573   \n",
       "1   10330  Lac du Sommet      -70.66468       47.71662      -70.66573   \n",
       "2    1729    Myrtle Lake      -93.37853       47.98645      -93.39207   \n",
       "3    1729    Myrtle Lake      -93.37853       47.98645      -93.39207   \n",
       "4     269   Billy's Lake      -94.54948       46.27186      -94.55363   \n",
       "\n",
       "   latitudesouth  altitude  area  \\\n",
       "0       47.71382     830.0   2.0   \n",
       "1       47.71382     830.0   2.0   \n",
       "2       47.97876     393.0  50.0   \n",
       "3       47.97876     393.0  50.0   \n",
       "4       46.26930     383.0   2.5   \n",
       "\n",
       "                                     sitedescription notes  ... datasetid  \\\n",
       "0  The small shallow Lac du Sommet (0.02 km2, 4 m...   NaN  ...     15691   \n",
       "1  The small shallow Lac du Sommet (0.02 km2, 4 m...   NaN  ...     15692   \n",
       "2  Lake surrounded by peatland. Physiography: Red...   NaN  ...      1786   \n",
       "3  Lake surrounded by peatland. Physiography: Red...   NaN  ...      8423   \n",
       "4  Shallow depression on St. Croix moraine. Physi...   NaN  ...       275   \n",
       "\n",
       "  collectionunitid datasettypeid                datasetname  notes-2  \\\n",
       "0            11686             1                        NaN      NaN   \n",
       "1            11686            11  Lac du Sommet Diatom Data      NaN   \n",
       "2             1728             3                        NaN      NaN   \n",
       "3             1728             1                        NaN      NaN   \n",
       "4              269             3                        NaN      NaN   \n",
       "\n",
       "      recdatecreated-2    recdatemodified-2 embargoid  \\\n",
       "0  2015-04-16 19:02:13  2015-04-16 19:02:13       NaN   \n",
       "1  2015-04-16 19:02:20  2015-04-16 19:02:20       NaN   \n",
       "2  2013-09-30 14:02:42  2013-09-30 14:02:42       NaN   \n",
       "3  2013-09-30 14:02:42  2013-09-30 14:02:42       NaN   \n",
       "4  2013-09-30 14:02:42  2013-09-30 14:02:42       NaN   \n",
       "\n",
       "                                            citation                       doi  \n",
       "0  Hausmann, S., I. Larocque-Tobler, P.J.H. Richa...  10.1177/0959683611400199  \n",
       "1  Hausmann, S., I. Larocque-Tobler, P.J.H. Richa...  10.1177/0959683611400199  \n",
       "2  Janssen, C.R. 1968. Myrtle Lake: a late- and p...           10.1139/b68-190  \n",
       "3  Janssen, C.R. 1968. Myrtle Lake: a late- and p...           10.1139/b68-190  \n",
       "4  Jacobson, G.L., Jr., and E.C. Grimm. 1986. A n...           10.2307/1939818  \n",
       "\n",
       "[5 rows x 23 columns]"
      ]
     },
     "execution_count": 60,
     "metadata": {},
     "output_type": "execute_result"
    }
   ],
   "source": [
    "neotoma = pd.read_csv(\"data/neotoma.csv\")\n",
    "neotoma.head()"
   ]
  },
  {
   "cell_type": "code",
   "execution_count": 117,
   "metadata": {},
   "outputs": [
    {
     "data": {
      "text/plain": [
       "Index(['siteid', 'sitename', 'longitudeeast', 'latitudenorth', 'longitudewest',\n",
       "       'latitudesouth', 'altitude', 'area', 'sitedescription', 'notes',\n",
       "       'recdatecreated', 'recdatemodified', 'geog', 'datasetid',\n",
       "       'collectionunitid', 'datasettypeid', 'datasetname', 'notes-2',\n",
       "       'recdatecreated-2', 'recdatemodified-2', 'embargoid', 'citation',\n",
       "       'doi'],\n",
       "      dtype='object')"
      ]
     },
     "execution_count": 117,
     "metadata": {},
     "output_type": "execute_result"
    }
   ],
   "source": [
    "neotoma.columns"
   ]
  },
  {
   "cell_type": "code",
   "execution_count": 61,
   "metadata": {},
   "outputs": [],
   "source": [
    "doi = neotoma['doi'].unique()"
   ]
  },
  {
   "cell_type": "code",
   "execution_count": 83,
   "metadata": {},
   "outputs": [
    {
     "name": "stdout",
     "output_type": "stream",
     "text": [
      "10.1016/0033-5894(73)900\n",
      "0.1139/e80-122\n",
      "10.2458/azu_js_rc.22.599\n",
      "10.1130/0091-7613(1987)​15<837:CRDOTP>​2.0.CO;2\n",
      "10.1080/00040851.1991.12002842\n",
      "10.1080/00040851.1981.12004259\n",
      "10.1111/j.1502-3885.1997.tb00656x\n",
      "10.23967/RI0048D.RI0048D\n",
      "10.1080/00040851.1980.12004190\n",
      "10.1038/2272\n",
      "10.1139/cjfas-58-6-1222\n",
      "10.1191/0959683604hl7l7rp\n",
      "10.2458/azu_js_rc.53.3441\n",
      "1016/j.revpalbo.2004.10.005\n",
      "Palaeogeography, Palaeoclimatology, Palaeoecology\n",
      "S0031-0182(01)00322-4\n",
      "10.1016/j.quatscirev.2015.08.029\n",
      "http://adlfi.revues.org/13544\n",
      "Review of Palaeobotany and Palynology, 133(1-2):115-133.\n",
      "10.1073\u0002pnas.0408315102\n",
      "10.1126/science.1067814. PMID:11910112\n",
      "10.1126/science.154.3745.15\n",
      "10.1111/j.1365-2699.2012.02770.x.\n",
      "10.1016/J.CRTE.2013.03.00.\n",
      "10.1016/j.quascirev.2016.09.023.\n",
      "10.2112/08A-0005\n",
      "10.1007/s00334-012-0380-0.\n",
      "10.1038/NGEO1924.\n",
      "DOI: 10.1007/s00334-015-0545-8.\n",
      "DOI: 10.1177/0959683615594242.\n",
      "10.1016/j.paleo.2009.08.008\n"
     ]
    }
   ],
   "source": [
    "success = 0\n",
    "abs = 0\n",
    "for identifier in doi:\n",
    "    url = f\"https://api.crossref.org/works/{identifier}\"\n",
    "    response = requests.get(url=url)\n",
    "    try:\n",
    "        resp = json.loads(response.content)\n",
    "    except:\n",
    "        print(identifier)\n",
    "        continue\n",
    "    if response.status_code == 200:\n",
    "        success += 1\n",
    "        if \"abstract\" in resp['message']:\n",
    "            abs += 1"
   ]
  },
  {
   "cell_type": "code",
   "execution_count": 88,
   "metadata": {},
   "outputs": [
    {
     "data": {
      "text/plain": [
       "0.324585635359116"
      ]
     },
     "execution_count": 88,
     "metadata": {},
     "output_type": "execute_result"
    }
   ],
   "source": [
    "abs/success"
   ]
  },
  {
   "cell_type": "code",
   "execution_count": 74,
   "metadata": {},
   "outputs": [
    {
     "data": {
      "text/plain": [
       "True"
      ]
     },
     "execution_count": 74,
     "metadata": {},
     "output_type": "execute_result"
    }
   ],
   "source": [
    "z = json.loads(response.content)\n",
    "\"abstract\" in z['message']"
   ]
  },
  {
   "cell_type": "code",
   "execution_count": 111,
   "metadata": {},
   "outputs": [],
   "source": [
    "def preprocessed_bibliography(path=\"data/bibjson\"):\n",
    "    \"\"\"\n",
    "    Loads and formats bibliography json file and converts to a dataframe\n",
    "\n",
    "    Parameters\n",
    "    ----------\n",
    "    path : string\n",
    "        Path where the bibliography database is stored.\n",
    "\n",
    "    Returns\n",
    "    -------\n",
    "    bibliography: pd.DataFrame\n",
    "        pd.DataFrame with all bibliography information\n",
    "    \"\"\"\n",
    "    with open(path, 'r') as f:\n",
    "        bib_dict = json.load(f)\n",
    "        \n",
    "    # Normalizing data so that we have access to the 'identifier'\n",
    "    # print([elem.update({'identifier':[{'_type':None,'_id':None}]}) for elem in bib_dict if 'identifier' not in elem.keys()])\n",
    "    # print(bib_dict)\n",
    "    # bibliography = pd.json_normalize(bib_dict,\n",
    "    #                             # 'identifier',\n",
    "    #                             # ['publisher', 'title',\n",
    "    #                             # ['journal', 'name', 'name'],\n",
    "    #                             ['author'],\n",
    "    #                             # 'year', 'number', 'volume',\n",
    "    #                             ['link'], \n",
    "    #                             # '_gddid', 'type', 'pages'],\n",
    "    #                             record_prefix='_',\n",
    "    #                             errors='ignore')\n",
    "    # print(bibliography.columns)\n",
    "    # print(bibliography.head())\n",
    "    # bibliography['link'] = bibliography['link'].astype(str)\n",
    "\n",
    "    # url = bibliography['link'].str.split(\", \", expand=True)\n",
    "\n",
    "    # bibliography['link_url'] = url[0]\n",
    "    # bibliography['link_type'] = url[1]\n",
    "\n",
    "    # bibliography['link_url'] = bibliography['link_url']\\\n",
    "    #     .replace(r\"\\[{'url': '\", \"\", regex=True)\\\n",
    "    #     .replace(\"'\", \"\", regex=True)\n",
    "\n",
    "    # bibliography['link_type'] = bibliography['link_type']\\\n",
    "    #     .replace(\"'type': '\", \"\", regex=True)\\\n",
    "    #     .replace(\"'}]\", \"\", regex=True)\n",
    "\n",
    "    # bibliography['author'] = bibliography['author'].astype(str)\n",
    "    # bibliography['author'] = bibliography['author']\\\n",
    "    #     .replace(r\"\\[{'name': '\", \"\", regex=True)\\\n",
    "    #     .replace(\"{'name': '\", \"\", regex=True)\\\n",
    "    #     .replace(\"'},\", \";\", regex=True)\\\n",
    "    #     .replace(\"'}]\", \"\", regex=True)\n",
    "\n",
    "    # bibliography = bibliography[['type', 'id', 'publisher', 'title',\n",
    "    #                              'journal.name',\n",
    "    #                              'author',\n",
    "    #                              'year', 'number', 'volume',\n",
    "    #                              '_gddid', 'type', 'pages',\n",
    "    #                              'link_url', 'link_type']]\n",
    "\n",
    "    # bibliography = bibliography.rename(columns={'_id': 'doi', '_gddid':'gddid'})\n",
    "\n",
    "    return bib_dict\n"
   ]
  },
  {
   "cell_type": "code",
   "execution_count": 112,
   "metadata": {},
   "outputs": [],
   "source": [
    "bib = preprocessed_bibliography()"
   ]
  },
  {
   "cell_type": "code",
   "execution_count": 115,
   "metadata": {},
   "outputs": [
    {
     "data": {
      "text/html": [
       "<div>\n",
       "<style scoped>\n",
       "    .dataframe tbody tr th:only-of-type {\n",
       "        vertical-align: middle;\n",
       "    }\n",
       "\n",
       "    .dataframe tbody tr th {\n",
       "        vertical-align: top;\n",
       "    }\n",
       "\n",
       "    .dataframe thead th {\n",
       "        text-align: right;\n",
       "    }\n",
       "</style>\n",
       "<table border=\"1\" class=\"dataframe\">\n",
       "  <thead>\n",
       "    <tr style=\"text-align: right;\">\n",
       "      <th></th>\n",
       "      <th>gddid</th>\n",
       "      <th>sentid</th>\n",
       "      <th>words</th>\n",
       "      <th>sentence</th>\n",
       "    </tr>\n",
       "  </thead>\n",
       "  <tbody>\n",
       "    <tr>\n",
       "      <th>0</th>\n",
       "      <td>54b4325de138239d8684d7e0</td>\n",
       "      <td>1</td>\n",
       "      <td>[LES DISTORSIONS DE L'ENREGISTREMENT POLLINIQU...</td>\n",
       "      <td>LES DISTORSIONS DE L'ENREGISTREMENT POLLINIQUE...</td>\n",
       "    </tr>\n",
       "    <tr>\n",
       "      <th>1</th>\n",
       "      <td>54b4325de138239d8684d7e0</td>\n",
       "      <td>2</td>\n",
       "      <td>[(de -)PONEL PhREILLE M. 1997 .]</td>\n",
       "      <td>(de -)PONEL PhREILLE M. 1997 .</td>\n",
       "    </tr>\n",
       "    <tr>\n",
       "      <th>2</th>\n",
       "      <td>54b4325de138239d8684d7e0</td>\n",
       "      <td>3</td>\n",
       "      <td>[Les distorsions de l'enregistrement polliniqu...</td>\n",
       "      <td>Les distorsions de l'enregistrement pollinique...</td>\n",
       "    </tr>\n",
       "    <tr>\n",
       "      <th>3</th>\n",
       "      <td>54b4325de138239d8684d7e0</td>\n",
       "      <td>4</td>\n",
       "      <td>[-LSB- Distorsions in the pollen record of veg...</td>\n",
       "      <td>-LSB- Distorsions in the pollen record of vege...</td>\n",
       "    </tr>\n",
       "    <tr>\n",
       "      <th>4</th>\n",
       "      <td>54b4325de138239d8684d7e0</td>\n",
       "      <td>5</td>\n",
       "      <td>[GEOBIOS,  M.S. n ° 21 : 195-202 .]</td>\n",
       "      <td>GEOBIOS, M.S. n ° 21 : 195-202 .</td>\n",
       "    </tr>\n",
       "    <tr>\n",
       "      <th>...</th>\n",
       "      <td>...</td>\n",
       "      <td>...</td>\n",
       "      <td>...</td>\n",
       "      <td>...</td>\n",
       "    </tr>\n",
       "    <tr>\n",
       "      <th>178292</th>\n",
       "      <td>557c9e16e1382390b43c7c0f</td>\n",
       "      <td>1087</td>\n",
       "      <td>[A diatom-phosphorus transfer function for Alp...</td>\n",
       "      <td>A diatom-phosphorus transfer function for Alpi...</td>\n",
       "    </tr>\n",
       "    <tr>\n",
       "      <th>178293</th>\n",
       "      <td>557c9e16e1382390b43c7c0f</td>\n",
       "      <td>1088</td>\n",
       "      <td>[Memoty Institute Italy Idrobiology 53,  8599 .]</td>\n",
       "      <td>Memoty Institute Italy Idrobiology 53, 8599 .</td>\n",
       "    </tr>\n",
       "    <tr>\n",
       "      <th>178294</th>\n",
       "      <td>557c9e16e1382390b43c7c0f</td>\n",
       "      <td>1089</td>\n",
       "      <td>[Wunsam,  SSchmidt,  RKlee,  R1995 .]</td>\n",
       "      <td>Wunsam, SSchmidt, RKlee, R1995 .</td>\n",
       "    </tr>\n",
       "    <tr>\n",
       "      <th>178295</th>\n",
       "      <td>557c9e16e1382390b43c7c0f</td>\n",
       "      <td>1090</td>\n",
       "      <td>[Cyclotella-taxa (Bacillariophyceae) in lakes ...</td>\n",
       "      <td>Cyclotella-taxa (Bacillariophyceae) in lakes o...</td>\n",
       "    </tr>\n",
       "    <tr>\n",
       "      <th>178296</th>\n",
       "      <td>557c9e16e1382390b43c7c0f</td>\n",
       "      <td>1091</td>\n",
       "      <td>[Aquatic Sciences 57,  360386 .]</td>\n",
       "      <td>Aquatic Sciences 57, 360386 .</td>\n",
       "    </tr>\n",
       "  </tbody>\n",
       "</table>\n",
       "<p>178297 rows × 4 columns</p>\n",
       "</div>"
      ],
      "text/plain": [
       "                           gddid  sentid  \\\n",
       "0       54b4325de138239d8684d7e0       1   \n",
       "1       54b4325de138239d8684d7e0       2   \n",
       "2       54b4325de138239d8684d7e0       3   \n",
       "3       54b4325de138239d8684d7e0       4   \n",
       "4       54b4325de138239d8684d7e0       5   \n",
       "...                          ...     ...   \n",
       "178292  557c9e16e1382390b43c7c0f    1087   \n",
       "178293  557c9e16e1382390b43c7c0f    1088   \n",
       "178294  557c9e16e1382390b43c7c0f    1089   \n",
       "178295  557c9e16e1382390b43c7c0f    1090   \n",
       "178296  557c9e16e1382390b43c7c0f    1091   \n",
       "\n",
       "                                                    words  \\\n",
       "0       [LES DISTORSIONS DE L'ENREGISTREMENT POLLINIQU...   \n",
       "1                        [(de -)PONEL PhREILLE M. 1997 .]   \n",
       "2       [Les distorsions de l'enregistrement polliniqu...   \n",
       "3       [-LSB- Distorsions in the pollen record of veg...   \n",
       "4                     [GEOBIOS,  M.S. n ° 21 : 195-202 .]   \n",
       "...                                                   ...   \n",
       "178292  [A diatom-phosphorus transfer function for Alp...   \n",
       "178293   [Memoty Institute Italy Idrobiology 53,  8599 .]   \n",
       "178294              [Wunsam,  SSchmidt,  RKlee,  R1995 .]   \n",
       "178295  [Cyclotella-taxa (Bacillariophyceae) in lakes ...   \n",
       "178296                   [Aquatic Sciences 57,  360386 .]   \n",
       "\n",
       "                                                 sentence  \n",
       "0       LES DISTORSIONS DE L'ENREGISTREMENT POLLINIQUE...  \n",
       "1                          (de -)PONEL PhREILLE M. 1997 .  \n",
       "2       Les distorsions de l'enregistrement pollinique...  \n",
       "3       -LSB- Distorsions in the pollen record of vege...  \n",
       "4                        GEOBIOS, M.S. n ° 21 : 195-202 .  \n",
       "...                                                   ...  \n",
       "178292  A diatom-phosphorus transfer function for Alpi...  \n",
       "178293      Memoty Institute Italy Idrobiology 53, 8599 .  \n",
       "178294                   Wunsam, SSchmidt, RKlee, R1995 .  \n",
       "178295  Cyclotella-taxa (Bacillariophyceae) in lakes o...  \n",
       "178296                      Aquatic Sciences 57, 360386 .  \n",
       "\n",
       "[178297 rows x 4 columns]"
      ]
     },
     "execution_count": 115,
     "metadata": {},
     "output_type": "execute_result"
    }
   ],
   "source": [
    "nlp_sentences"
   ]
  },
  {
   "attachments": {},
   "cell_type": "markdown",
   "metadata": {},
   "source": [
    "# EDA"
   ]
  },
  {
   "cell_type": "code",
   "execution_count": 4,
   "metadata": {},
   "outputs": [],
   "source": [
    "import os\n",
    "import matplotlib\n",
    "import pandas as pd"
   ]
  },
  {
   "cell_type": "code",
   "execution_count": 2,
   "metadata": {},
   "outputs": [],
   "source": [
    "prefix = \"data/raw_text\"\n",
    "files = os.listdir(prefix)\n",
    "lens = []\n",
    "for f in files:\n",
    "    with open(f\"{prefix}/{f}\", 'r') as file:\n",
    "        sent = file.readlines()\n",
    "        lens.append(len(sent[0].split(' ')))"
   ]
  },
  {
   "attachments": {},
   "cell_type": "markdown",
   "metadata": {},
   "source": [
    "## Sentence Lengths"
   ]
  },
  {
   "cell_type": "code",
   "execution_count": 7,
   "metadata": {},
   "outputs": [
    {
     "data": {
      "text/plain": [
       "<Axes: >"
      ]
     },
     "execution_count": 7,
     "metadata": {},
     "output_type": "execute_result"
    },
    {
     "data": {
      "image/png": "[encoded data removed]",
      "text/plain": [
       "<Figure size 640x480 with 1 Axes>"
      ]
     },
     "metadata": {},
     "output_type": "display_data"
    }
   ],
   "source": [
    "counts = pd.DataFrame(lens, columns=['Length'])\n",
    "counts.boxplot()"
   ]
  },
  {
   "attachments": {},
   "cell_type": "markdown",
   "metadata": {},
   "source": [
    "## Year of publishing"
   ]
  },
  {
   "cell_type": "code",
   "execution_count": 27,
   "metadata": {},
   "outputs": [],
   "source": [
    "from collections import Counter\n",
    "import json\n",
    "import matplotlib.pyplot as plt\n",
    "\n",
    "year_counts = Counter()\n",
    "publisher_counts = Counter()\n",
    "articles = json.load(open(\"data/bibjson\", 'r'))\n",
    "for art in articles:\n",
    "    year_counts[art['year']] += 1\n",
    "    publisher_counts[art['publisher']] += 1"
   ]
  },
  {
   "cell_type": "code",
   "execution_count": 28,
   "metadata": {},
   "outputs": [
    {
     "data": {
      "text/plain": [
       "Counter({'Elsevier': 214,\n",
       "         'SEPM': 3,\n",
       "         'Wiley': 68,\n",
       "         'Canadian Science Publishing': 9,\n",
       "         'USGS': 5,\n",
       "         'GSA': 1})"
      ]
     },
     "execution_count": 28,
     "metadata": {},
     "output_type": "execute_result"
    }
   ],
   "source": [
    "publisher_counts"
   ]
  },
  {
   "cell_type": "code",
   "execution_count": 24,
   "metadata": {},
   "outputs": [],
   "source": [
    "x = pd.DataFrame({\n",
    "    \"count\": list(counts.values())\n",
    "    }, index=list(counts.keys())).sort_index()"
   ]
  },
  {
   "cell_type": "code",
   "execution_count": 26,
   "metadata": {},
   "outputs": [
    {
     "data": {
      "text/plain": [
       "[<matplotlib.lines.Line2D at 0x7f2e9dfa9390>]"
      ]
     },
     "execution_count": 26,
     "metadata": {},
     "output_type": "execute_result"
    },
    {
     "data": {
      "image/png": "[encoded data removed]",
      "text/plain": [
       "<Figure size 640x480 with 1 Axes>"
      ]
     },
     "metadata": {},
     "output_type": "display_data"
    }
   ],
   "source": [
    "plt.plot(x)"
   ]
  },
  {
   "attachments": {},
   "cell_type": "markdown",
   "metadata": {},
   "source": [
    "# Pattern of subheadings for all publishers"
   ]
  },
  {
   "attachments": {},
   "cell_type": "markdown",
   "metadata": {},
   "source": [
    "- X.Y HEADING\n",
    "- Acknowedgements\n",
    "- Sometimes, there are no section left, so in those cases, come up with a number of instead\n",
    "- Summary\n",
    "- Method\n",
    "- Site description\n",
    "- Interpretation\n",
    "- Results\n",
    "- Background\n",
    "- Discussion\n",
    "- OBJECTIVES\n",
    "- Conclusion\n",
    "- References"
   ]
  },
  {
   "attachments": {},
   "cell_type": "markdown",
   "metadata": {},
   "source": [
    "# Splitting training files by sections"
   ]
  },
  {
   "cell_type": "code",
   "execution_count": 9,
   "metadata": {},
   "outputs": [],
   "source": [
    "section_pattern = r\"[1-9]\\.[1-9][0-9]\\.? [A-Z][a-zA-Z]{3,}\"\n",
    "patterns = [\"Introduction\", \"Abstract\", \"Material And Method\", \"Site Description\", \"Interpretation\", \"Results\", \"Background\", \"Discussion\", \"Objectives\", \"Conclusion\"]\n",
    "endwords = [\"Acknowledgement\", \"Reference\"]"
   ]
  },
  {
   "cell_type": "code",
   "execution_count": 26,
   "metadata": {},
   "outputs": [],
   "source": [
    "prefix = \"data/raw_text\"\n",
    "char_len = 3000\n",
    "min_len = 900\n",
    "total = []\n",
    "sent_len = []\n",
    "files = os.listdir(prefix)\n",
    "\n",
    "for fin in files:\n",
    "    with open(f\"{prefix}/{fin}\", 'r') as f:\n",
    "        article = f.readlines()[0]\n",
    "        chunks = []\n",
    "        chunk_subsection = []\n",
    "        chunk_local = []\n",
    "        section_names = []\n",
    "        indices = []\n",
    "        local = 0\n",
    "        subsection = None\n",
    "        \n",
    "        # Look for a sections\n",
    "        matches = re.finditer(section_pattern, article)\n",
    "        for match in matches:\n",
    "            indices.append(match.start())\n",
    "            section_names.append(match.group())\n",
    "        \n",
    "        # Divide the article into sections\n",
    "        sections = []\n",
    "        if len(indices) > 0:\n",
    "            fin_indices = [0, indices[0]]\n",
    "            last = 0 # Index of the last index added \n",
    "            \n",
    "            # Add indices if they are far away\n",
    "            for i in range(1, len(indices)):\n",
    "                if indices[i] - indices[last] < char_len:\n",
    "                    continue\n",
    "                else:\n",
    "                    fin_indices.append(indices[i])\n",
    "                    last = i\n",
    "\n",
    "            for i in range(len(fin_indices)-1):\n",
    "                sections.append(article[fin_indices[i] : fin_indices[i+1]])\n",
    "                \n",
    "            sections.append(article[fin_indices[-1] : ])\n",
    "            \n",
    "        else:\n",
    "            # The entire article is considered as a single section\n",
    "            sections.append(article)\n",
    "            section_names.append(\"\")\n",
    "        \n",
    "        for num, sec in enumerate(sections):\n",
    "            local = 0\n",
    "            # If the section length is small, add the entire section as a chunk\n",
    "            if len(sec) < char_len:\n",
    "                chunks.append(sec)\n",
    "                chunk_subsection.append(sec.split(\" \")[0])\n",
    "                chunk_local.append(local)\n",
    "            else:\n",
    "                # If it is very long, then split the section based on headers\n",
    "                cur_para = \"\"        \n",
    "                sentences = sec.split('. ')\n",
    "                \n",
    "                for si, sent in enumerate(sentences):\n",
    "                    sent_len.append(len(sent))\n",
    "                    \n",
    "                    if subsection == None:\n",
    "                        subsection = sent.split(\" \")[0]\n",
    "                        \n",
    "                        \n",
    "                    # If the paragraph is long enough, add it as a chunk\n",
    "                    # If the next sentence is very long, add the current paragraph as a chunk and reset cur_para\n",
    "                    if len(cur_para) > char_len or len(sent) > char_len:\n",
    "                        chunks.append(cur_para.strip())\n",
    "                        chunk_subsection.append(subsection)\n",
    "                        chunk_local.append(local)\n",
    "                        cur_para = \"\"\n",
    "                        local += 1\n",
    "                    \n",
    "                    check=True\n",
    "                    for pat in patterns:\n",
    "                        # If there is a pattern present:\n",
    "                        # then everything before the pattern goes in the current para\n",
    "                        # Text starting from the pattern goes in the next para after\n",
    "                        if pat in sent or pat.upper() in sent:\n",
    "                            try:\n",
    "                                index = sent.index(pat)\n",
    "                            except ValueError:\n",
    "                                index = sent.index(pat.upper())\n",
    "            \n",
    "                            cur_para += sent[:index]\n",
    "                            \n",
    "                            if len(cur_para) > min_len:\n",
    "                                chunks.append(cur_para.strip())\n",
    "                                chunk_subsection.append(subsection)\n",
    "                                chunk_local.append(local)\n",
    "                                subsection = pat\n",
    "                                local = 0\n",
    "                                cur_para = sent[index: ] + '. '\n",
    "                            else:\n",
    "                                cur_para += sent[index: ] + '. '\n",
    "                                \n",
    "                            check = False\n",
    "                            break\n",
    "                            \n",
    "                    end=False\n",
    "                    # Check if there is an endwords\n",
    "                    for pat in endwords:\n",
    "                        if pat in sent or pat.upper() in sent:\n",
    "                            end=True\n",
    "                            break\n",
    "                    if end:\n",
    "                        break\n",
    "                    \n",
    "                    # If no pattern or ending condition is present in the current sentence, then add it to the current para\n",
    "                    if check:\n",
    "                        cur_para += sent + \". \"\n",
    "                if len(cur_para) > 0:\n",
    "                    chunks.append(cur_para.strip())\n",
    "                    chunk_subsection.append(subsection)\n",
    "                    chunk_local.append(local)\n",
    "\n",
    "        total.extend([len(i) for i in chunks])"
   ]
  },
  {
   "cell_type": "code",
   "execution_count": 18,
   "metadata": {},
   "outputs": [
    {
     "data": {
      "text/plain": [
       "<Axes: >"
      ]
     },
     "execution_count": 18,
     "metadata": {},
     "output_type": "execute_result"
    }
   ],
   "source": [
    "counts = pd.DataFrame(sent_len, columns=['Length'])\n",
    "counts.boxplot()"
   ]
  },
  {
   "cell_type": "code",
   "execution_count": 19,
   "metadata": {},
   "outputs": [
    {
     "data": {
      "text/plain": [
       "<Axes: ylabel='Frequency'>"
      ]
     },
     "execution_count": 19,
     "metadata": {},
     "output_type": "execute_result"
    }
   ],
   "source": [
    "chunk_sizes = [i for i in total]\n",
    "total_chunks = pd.DataFrame({\"length\": chunk_sizes})\n",
    "total_chunks.plot.hist(bins=40)"
   ]
  },
  {
   "cell_type": "code",
   "execution_count": 20,
   "metadata": {},
   "outputs": [
    {
     "data": {
      "text/plain": [
       "<Axes: ylabel='Frequency'>"
      ]
     },
     "execution_count": 20,
     "metadata": {},
     "output_type": "execute_result"
    }
   ],
   "source": [
    "counts = pd.DataFrame(sent_len, columns=['Length'])\n",
    "counts.boxplot()"
   ]
  },
  {
   "cell_type": "code",
   "execution_count": 21,
   "metadata": {},
   "outputs": [
    {
     "data": {
      "text/plain": [
       "<Axes: ylabel='Frequency'>"
      ]
     },
     "execution_count": 21,
     "metadata": {},
     "output_type": "execute_result"
    }
   ],
   "source": [
    "chunk_sizes = [i for i in total]\n",
    "total_chunks = pd.DataFrame({\"length\": chunk_sizes})\n",
    "total_chunks.plot.hist(bins=40)"
   ]
  },
  {
   "cell_type": "code",
   "execution_count": 27,
   "metadata": {},
   "outputs": [
    {
     "data": {
      "text/plain": [
       "['Russian Geology and Geophysics 49 (2008 ) 978985 www.elsevier.com/locate/rgg Climatic changes and alluvial-sedimentation settings in southeastern Transbaikalia in the Middle-Late Holocene (by the example of the Ilya floodplain ) V.B. Bazarova aL.M. Mokhova a, M.A. Klimin b, L.A. Orlova c, K.Yu. Bazarov a a Pacific Institute of Geography, Far Eastern Branch of the RAS, 7 ul. Radio, Vladivostok, 690041 Russia b Institute of Water and Ecological Problems, Far Eastern Branch of the RAS, 65 ul. Kim Yu Chena, Khabarovsk, 680000 Russia c Institute of Geology and Mineralogy, Siberian Branch of the RAS, 3 prosp. Akad. Koptyuga, Novosibirsk, 630090 Russia Received 26 November 2007 ; accepted 27 March 2008 Abstract Climatic changes in southeastern Transbaikalia in the Middle and Late Holocene and their influence on alluvial sedimentation environments are reconstructed from the results of study of the Ilya floodplain sediments (Alkhanai National Park ). At the beginning of the Subboreal period, the regional climate became more arid, which led to a significant increase in steppe species communities in the landscapes. Intense climate aridization also took place at the beginning and at the end of the Subatlantic period of the Holocene. The alluvial-sedimentation rate increased during the weakening of aridization and decreased during cooling and the intensification of aridization. The obtained regional data are compared with data on the adjacent areas and the global climatic changes in the Northern Hemisphere. © 2008, IGM, Siberian Branch of the RAS. Published by Elsevier B.V. All rights reserved. Keywords : Floodplain deposits ; aridization ; sedimentation ; Middle-Late Holocene ; southeastern Transbaikalia',\n",
       " \"Introduction 1971 -)and the vegetation and foreststeppe relations in the region (Vipper, 1968 ; Vipper and Golubeva, 1976 ). In this Southeastern Transbaikalia is a peculiar region, but its paper we present new results of paleogeographical studies of paleogeography is poorly studied. It is localized at the the Holocene in the area of the Alkhanai National Park, boundary of the Eurasian Boreal-forest belt and Daurian southeastern Transbaikalia. steppes, which permits the reconstruction of its sedimentation Mount Alkhanai (1662 m high ) is one of the highest peaks settings and paleoclimate in the Holocene not only from the in the study region. The diversity of its landscapes and the change of local vegetation but also from the shifts of the zonal structure favor the interpenetration of different floras foreststeppe boundary. In recent years, a voluminous litera - and faunas in the zones. All this makes the area a biospheric ture on the stratigraphy of peat bog sections, paleoclimate and memorial, which got the status of national park in 1999. landscape reconstructions, and vegetation of the Baikal area Topography. The park territory is a mid-mountain land up in the Late Pleistocene and Holocene has appeared (Belov et to 10001600 m in absolute height localized at the joint of al2006 ; Bezrukova et al2005, 2006, 2008 ; Demske et altwo geomorphologic regions, Daurian and Onon-Argun, com - 2005 ; Tarasov et al2007 ). But southeastern Transbaikalia, posing the Daurian arch. The Daurian and Mogoitui Ridges being part of the Amur River basin, has been given little are the modern topographic reflections of the Paleozoic and scientific attention. The scarce paleogeographic literature on Mesozoic arches. The Alkhanai mountain massif is the highest this region deals only with some methodological problems of part of the Mogoitui Ridge, where two main geomorphologic the climate-stratigraphic division of loose deposits, the criteria features are recognizeddepressions and mid-mountain for the reflection of vegetative-cover changes in the spore-pol - uplifts. The accumulative depression relief is formed by a len spectra of lowland areas (Malaeva, 1971 ; Stefanovich, swamped floodplain and floodplain terraces with horizontal or inclined surfaces and alluvial benches stretching along the riverbeds above the terraces. The mid-mountain uplifts have * Corresponding author. E-mail address : bazarova@tig.dvo.ru (V.B. Bazarova ) a structural-denudation and denudation-erosional relief (Anashkina et al1997 ; Preobrazhenskii et al1965 ). 1068-7971see front matter D 2008, IGM, Siberian Branch of the RAS. Published by Elsevier B.V. All rights reserved. doi :10.1016 / j.rgg .2008.03.008 V.B. Bazarova et alRussian Geology and Geophysics 49 (2008 ) 978985 979 Climate. The park territory lies in the area with a sharply continental climate. According to data of the Dul 'd urga and Darasun meteorological stations, the average annual temperature here is1.8 ° C, the average January temperature is22.6 ° C, and the average July temperature is +18.3 ° C.\",\n",
       " 'The average annual precipitation amounts to 366 mm ; most of it (8090)- falls in summer. The mountainous topography of the study area is responsible for the nonuniform thermal regime and precipitation, which points to the mesoclimatic difference between the altitudinal belts. The dissected topography also influences the distribution of heat and moisture. Within an altitudinal belt, the amount of heat received by the slope surface depends much on the aspect and steepness of slopes. In summer, the south-exposed slopes receive several times more heat than the north-exposed ones. This leads to a drastic difference in microclimate between the cambered sites of the southern slopes (very dry and warm in summer and low-snow or snowless in winter, with drastic temperature contrasts ) and the northern slopes (moderately humid and cold, with a stable deep snow cover ). The climatic asymmetry of the southern and northern slopes causes a drastic difference in their soil-vegetative cover. A specific microclimate is inherent in the half-shade western and eastern slopes, rocky mountain peaks, and sink bottoms (Degtev, 1991 ). Vegetation. The vegetation distribution in the park territory obeys the altitudinal-belt law. The forest-steppe belt predominant at the mountain massif piedmont is changed by a forest belt and, then, cedarelfin-woodlarch open woodland of the subalpine belt. The plant species communities are also characterized by a mosaic and diffusive localization. The diffusive plant spread is expressed as the interpenetration of vegetative belts. For example, the steppe and meadow herb species penetrate into high zones, up to the cedarelfin-woodlarch open woodland. The mosaic plant localization is related to the wide spread of coarse-clastic slope deposits and active permafrost microrelief. The upper boundary of the forest abounds in cedarelfinwoodlarch open woodland. Rock streams are locally covered by Juniperus sibirica and Empetrum subholarctic. Cedarelfin-woodlarch open woodland grades into larch forests with cedar woodlands at a height of ∼ 1400 m. The presence of cedar in this area is unique. The age of some trees reaches 150180 years, and the height, 1820 m. On the northwestern slope, the larch species communities include scarce Siberian spruce species. The larch forest underbrush is dominated by shrub alder, Daurian rhododendron, shrub birch, various willow species, and Sorbaria sorbifolia. In places, berry shrubs (blueberry and mountain cranberry ) occur. The larch forests give way to mixed ones (larch-birch and poplar-birch ). In the southeast, the Mt. Alkhanai piedmont borders steppe sites strongly transformed by the anthropogene activity. Along the boundary of birch-poplar forests, there are meadow herbagesedge steppes grading into near-riverbed meadows. These species communities consist of more mesophile plants (Dulepova and Strel ’n ikov, 1999 ; Itigilova et al2000 ). Soils. Since the park territory is at the boundary of forest and steppe landscapes, it is characterized by a wide spectrum of soils.',\n",
       " \"The tops and slopes of spurs and coniform hills have mountain forest and sod-forest soils consisting of eluvial and diluvial graveldebris loams and, less often, sandy loams, whose thickness depends on the type of weathered rocks and the slope steepness. The diluvial and, seldom, eluvial sandyloam and light-loam deposits are overlain by chestnut and chernozem soils. Gray forest soils lie over various diluvial debris loams. In the Ilya River valley, bog and meadow-bog soils form on the alluvial sediments (Nogina, 1964 ). Objects and methods of study We studied the right-bank section of the low Ilya floodplain (50 ° 55 ’N, 113 ° 10 ' E, abs. height 898 m -)a left tributary of the Onon River in the upper Amur basin (Fig. 1 ). The section of the floodplain alluvium is composed of peaty loams 110 cm in thickness (from top to bottom -)Depth, cm Peaty brown loam (08 ) Peaty dark-gray loam (818 ) Peaty light-brown loam with three black partings of burnt peat (1844 ) Peaty gray loam, with a dark parting in the depth range 5456 cm (4464 ) Peaty brown loam (6472 ) Peaty brownish-gray loam (7292 ) Frozen peaty brown loam (92110 ) Frozen gruss with loamy filler -(110 ) Sampling was made from the cleaned section wall. Samples for spore-pollen analysis were taken at 2 cm intervals (a total of 55 samples ). Spores and pollen were extracted by the standard technique (Sladkov, 1967 ). On the diagram construction, we determined the relative content of each taxon in the spectrum (in percentage from the total content of all pollen grains in the corresponding group ). The age of deposits was determined by four radiocarbon analyses (Table 1 ). The residual 14C activity was measured on a Kvantulus setup at the Institute of Geology and Mineralogy, Novosibirsk. The data were calibrated using the CALPAL_A program (Weninger et al2005 ). The obtained ages were used to calculate the sedimentation rates. From the palynological data, we calculated the steppe/forest indices reflecting the relations between the steppe Table 1\",\n",
       " 'Results floodplain sediments Ilya floodplain sediments Depth range, cm Laboratory index 14C age, years 1823 3237 4550 105110 SOAN-6377 SOAN-6378 SOAN-6379 SOAN-6380 1735 ± 115 1935 ± 120 3035 ± 125 4755 ± 125 Cal. 14C years 1661 ± 133 1891 ± 146 3204 ± 158 5469 ± 130 980 V.B. Bazarova et alRussian Geology and Geophysics 49 (2008 ) 978985 Fig. 1. Schematic map of the position of the studied section of the Ilya floodplain sediments. and forest plant taxaindicators of changes in the degree of atmospheric humidity (Traverse, 1988 ). Results 2.2 In the bottom of this depth range we found Juniperus pollen. The content of pollen of small-leaved species (tree birch, Alnaster, Alnus ) varies from 0.4 to 4.9shrub birch prevails (up to 14)-. Also, one grain of Myrica and one grain of Ulmus were discovered. Grasses are dominated by Artemisia (up to 83)and Cyperaceae is subordinate (up to 70)-. Other species are Poaceae (up to 28)Chenopodiaceae (up to 12)Ericaceae (up to 6)Rosaceae (up to 2.6)etc.. Spores are scarce : We found only Polypodeacea (up to 12 grains ). The spore-pollen spectra correspond to a relatively warm and moderately dry climate. The sedimentation rate is 0.4 mm/year. Palynozone V (depth range 9662 cm ). Arboreal pollen is predominant, but its portion is lower than that of palynozone VI6478.7 The contents of grass and small-shrub pollen are, on the contrary, higher (2535)as well as the content of spores (0.53.0)-. The arboreal species are dominated by Pinus s/g Diploxylon (5567)though it is less spread here as compared with palynozone VI. The pollen of Abies and Picea obovata is also scarcer (0.20.5 % and 0.41.3respectively -)whereas Pinus s/g Haploxylon is more abundant (Pinus pumila tentatively amounts to 19)as well as Larix (up to 6)-. Pollen of Ephedra was found as occasional grains. The small-leaved species are dominated by birch shrubs (up to 21)the contents of birch trees and Alnaster reach 16 and 4respectively. Also, occasional Myrica pollen was found. The composition of grasses and small shrubs is less diverse than that of palynozone VI. Among them, Cyperaceae prevails (4563)and Artemisia is subordinate (3052)-. We also revealed the pollen of Poaceae (2.28.5)- and Chenopodiaceae (1.54)-. The found spores are dominated by Polypodeacea (60100)- and Lycopodium (up to 37)-. The spore-pollen spectrum reflects a cold dry climate. The sedimentation rate is 0.5 mm/year. Palynozone IV (depth range 6250 cm ). The content of arboreal pollen is slightly higher than in palynozone V (6184)and the contents of grass pollen and spores are lower1538 % and 0.11.4respectively. The arboreal species include more Pinus s/g Diploxylon (7079)- and The local vegetation around the section is a sedge-herbage floodplain meadow (wormwoods, leguminous grasses, horsetail, carnation, burnet, plantain, wheat grass, etc. ). The piedmonts and slopes of the watershed ridges (Daurian and Mogoitui ) abound in pine, birch, and larch, and the river banks, in willow shrubs.',\n",
       " 'The ash contents vary throughout the section from 77 to 94(- Fig. 2 ). They reflect the portion of biogenic component in the sediments, regarded as the intensity of swamping. From data of spore-pollen analysis, we recognized six palynozones (Fig. 3 ). Palynozone VI (depth range 11096 cm ). Arboreal pollen is predominant (up to 98)the contents of gruss and small-shrub pollen reaches 18and the content of spores is minor0.6 The arboreal species are dominated by Pinus s/g Diploxylon (8088)-. The pollen of Pinus s/g Haploxylon amounts to 27Larix, 23.5and Picea obovata, 0.5Fig. 2. The ash contents of the Ilya River sediments. V.B. Bazarova et alRussian Geology and Geophysics 49 (2008 ) 978985 Fig. 3. Spore-pollen diagram for the section of the Ilya floodplain deposits. Loam : 1peaty brown, 2peaty dark-gray, 3peaty light-brown, with three burnt partings, 4gray, 5peaty gray-brown, 6peaty brownish-gray, 7peaty brown. 981 982 V.B. Bazarova et alRussian Geology and Geophysics 49 (2008 ) 978985 Larix (712.5)-. The content of Abies slightly increased (0.50.8)and that of Pinus s/g Haploxylon decreased (1.06.5)-. The small-leaved species are predominantly birch shrubs (up to 13.5)whereas the contents of birch trees and Alnaster are lower than those of palynozone Vup to 3.5 and 2respectively. The grass species include more Cyperaceae (up to 76)- and Chenopodiaceae (up to 12)- and less Artemisia (up to 37)-. The spore species are mainly Polypodeacea (33.375)-. The spore-pollen spectrum points to a change of cold dry climate by less cold and moderately humid one. This depth range is characterized by the maximum sedimentation rate0.5 mm/year. In the depth range 5456 cm, the spore-pollen spectrum has a different composition : The content of arboreal pollen is minimum (32)and that of grass pollen is maximum (67)-. The pollen of Pinus s/g Diploxylon is also minimum (31.5)but there is much Larix (20)- and birch shrubs (26)-. Other species are Picea obovata (9)- and Abies (1.5)-. The grass species are dominated by pollen of Cyperaceae (73)- and spores of Polypodeacea (50)- and Lycopodium (50)-. In this short range, the deposits probably accumulated in colder climatic conditions. Palynozone III (depth range 5020 cm ). Three black interbeds with coals (fire traces ) were revealed in this zone. Pollen is dominated by arboreal species (up to 94)the content of grass pollen is lower (up to 16)and the content of spores is somewhat higher (up to 6.3)- as compared with palynozone IV. Arboreal pollen is represented mainly by Pinus s/g Diploxylon (up to 93)Larix is much scarcer (up to 17)though in some spectra its content is commensurate with that in the underlying zone. This depth range is poorer in pollen of Pinus s/g Haploxylon (0.53.5)- and Abies (0.10.7)-. Pollen of Ephedra is occasional. The content of small-leaved arboreal pollen is lower than that of palynozone IV : birch shrubs1.610birch trees16and Alnaster0.21.2 Among grasses and small shrubs, the content of Cyperaceae significantly decreased (up to 60)and the contents of Artemisia and Poaceae increase (up to 62 and 26respectively ).',\n",
       " 'The spore plants are prevailed by Polypodeaceae. The deposits of this zone probably accumulated in more continental climate. The sedimentation rate is twice lower than that in the underlying zone. Palynozone II (depth range 2012 cm ). Arboreal pollen is scarcer (61.682.3)- and grass and small-shrub pollen is more abundant (16.728.1)- as compared with palynozone III. Coniferous plants are dominated by Pinus s/g Diploxylon ; other species are Larix (up to 9)Pinus s/g Haploxylon (up to 9)Picea obovata (up to 4)and occasional Abies and Juniperus. Small-leaved species include up to 13 % birch shrubs, 2.5 % birch trees, and 2.5 % Alnaster. Among grasses and small shrubs, the content of Poaceae increased (up to 48)and that of Artemisia decreased (up to 36.2)-. Spore plants are dominated by Polypodeaceae. The spore-pollen spectrum suggests that the zone deposits formed in a colder and more humid climate as compared with those of the underlying zone. The sedimentation rate is minimum0.1 mm/year. Palynozone I (depth range 120 cm ). Compared with palynozone II, arboreal pollen is scarcer (4686)- and grass and small-shrub pollen is more abundant (2954)-. In the zone roof, the content of Pinus s/g Diploxylon decreased (6676)and those of Larix, Pinus s/g Haploxylon, and shrub birch increased (1221, up to 13, and up to 7.2respectively ). Among the grasses, the portion of Cyperaceae increased (up to 94)and that of Artemisia decreased (up to 10)-. Spore plants are Polypodeaceae (3877)- and Sphagnum (2138)-. This spore-pollen spectrum is typical of a cold, moderately humid climate. The sedimentation rate is the same as in the underlying zone.',\n",
       " 'Discussion. Reconstruction of natural changes Figure 4 presents the results of study of the Ilya floodplain section for interpretation. We compared our results with data of other researchers who studied natural settings in the adjacent areas (Baikal basin, Mongolia ) and with global events that took place in the Northern Hemisphere in the Middle and Late Holocene. A distinctive feature of all palynospectra of the studied section is a predominance of arboreal pollenPinus sylvestris (5097)- and Larix (223)-. Note that pine pollen is more abundant and larch pollen is scarcer here as compared with the modern vegetative cover. This does not contradict the fact that light-coniferous taiga prevailed throughout the floodplain sedimentation. The section bottom is composed of frozen diluvial slope deposits (grass with loamy filler ). Above the section, grass is lacking in peaty loams. Apparently, the early Subboreal cooling led to the formation of permafrost, which served as an aquifer favoring the floodplain overhumidification and loam humification. Later on, as the climate became less continental, the permafrost acquired an island-like character and now occurs mainly in valley floodplains (Shpolyanskaya, 1978 ). Before the loam accumulation, the ridge slopes were probably covered by turf, and the supply of diluvium (grass ) to the floodplain stopped. Later on, the supply of loamy material was favored by floods and slope sheetfloods. The ash contents and sedimentation rates evidence that these processes were active at the beginning of the floodplain sediment accumulation. The loam accumulation began at the final stage of the Holocene thermal optimum (4.64.9 ka ). At that time, forests prevailed in the study area. The best heated rocky and debris slopes of the surrounding watershed ridges were occupied by pine forests with tree birch. The high-land belt in more humid topographic lows abounded in cedar-larch and cedar forests with juniper and alder underbrush, and the canyon-like mountain valleys, in spruce-larch and spruce-fir forests with tree birch. The floodplain was dominated by wormwood communities with minor sedges and cereals. Similar climatic conditions of this Holocene period were reconstructed for adjacent areas. In the Henteyn Mountains, V.B. Bazarova et alRussian Geology and Geophysics 49 (2008 ) 978985 983 Fig. 4. Paleoclimatic interpretation of sections in the Amur River basin. Holocene periods : ATAtlantic, SBSubboreal, SATSubatlantic. Designations follow Fig. 3. northeastern Mongolia, pine-larch forests with minor spruce and fir were widespread. In the northern Baikal area, northtaiga vegetation (mainly cedar forests with minor fir ) prevailed. Along the slopes, spruce-larch forests were reduced. Such vegetation was also typical of the Baikal basin in the late Atlantic period of the Holocene, when the climate there became warmer and drier (Belov et al2006 ; Bezrukova et al2005 ; Demske et al2005 ; Vipper and Golubeva, 1976 ; Vipper et al1978 ).',\n",
       " \"The cooling and aridization of climate at the beginning of the Subboreal period of the Holocene (4.64.3 ka ) led to the reduction of floods, ceasing of sheetflood, and, correspondingly, decrease in the floodplain sedimentation rate. The vegetation also underwent considerable compositional changes. The area occupied by forest significantly diminished. In the lower mountain belt, steppe began displacing forest. Most of the subbald-mountain belt was occupied by elfin wood brushes. The belt boundary shifted to lower hypsometric levels. The cooling also led to the drastic extinction of spruce-fir communities in mountain valleys. Beyond the near-riverbed parts of valleys, watersheets were dominated by tree birchs ; cryogenic peat soils of alluvial benches and above-floodplain terraces, by brush communities of dwarf Arctic birch and willow ; and open sites, by ephedra. The more humid floodplain was dominated by sedges and cereals. Similar changes in vegetation composition occurred in the early Subboreal period in adjacent areas (Belov et al2006 ; Bezrukova et al2006 ; Kuz 'm in et al2007 ; Savina, 1984 ; Savina et al1981 ). As the climate in the Central Hangayn became more continental, Larix sibirica and Pinus silvestris became much scarcer at the upper boundary of the forest. At the boundary with highland meadows, the amount of birch and willow brushwood increased. Mountain forests became sparser, and steppe communities in the upper tundra-Alpine mountain belt, wider spread. The cooling in the Baikal basin at the 4.54.3 ka boundary led to an increase of the role of larch forests. This cooling was global ; it is well studied in the sections of Northern and Central Europe, European Russia, North America, West Siberia, and the Far East (Bazarova et al2003 ; Belov et al2006 ; Both et al2005 ; Khotinskii, 1977 ; Korotkii et al1996 ; Razjigaeva et al2002 ; Tonkov and Marinova, 2005 ; Volkova and Mikhailova, 2002 ). The following slight temperature increase and weakening of the continental character of climate (4.33.0 ka ) favored the enlargement of the spread areas of spruce-larch and spruce-fir forests with minor tree birch and dwarf Arctic birch in mountain valleys. Pine-birch associations became wider spread on heated and drier slopes. Sheetflood from the slopes of watershed ridges increased, floods became more frequent, and the supply of sediments to the floodplain was drastically activated. The excess humidification of the floodplain led to a predominance of sedge communities there. The spore-pollen spectrum of the narrow depth range 5456 cm evidences a short climate cooling. The amount of pine drastically decreased, and the amount of larch increased in forests. The area of spruce-larch and spruce-fir associations in topographic lows and mid-mountain belt enlarged. The river 984 V.B. Bazarova et alRussian Geology and Geophysics 49 (2008 ) 978985 floodplain became inhabited mainly by sedges and hygrophilous grasses. The following cooling and strengthening of the continental character of climate at the beginning of the Subatlantic period of the Holocene led to the advance of steppe on forest in the lower mountain belt.\",\n",
       " 'Heated dry slopes were overgrown with pine, and the amount of larch was reduced ubiquitously. The areas of habitat of spruce-larch and spruce-fir forests with alderwood and dwarf Arctic birch in underbrush also were reduced. In dried floodplain meadows, sedge gave place to wormwood communities with Compositae, Chenopodiaceae, Caryophyllaceae, and Ephedra. The dried floodplain repeatedly underwent fires. Sheetflood decelerated, floods became less frequent, and the supply of sediment to the floodplain was reduced. At that time (2.3 ka -)birch wood was widespread in the northern Baikal area (Belov et al2006 ; Bezrukova et al2006 ). The cooling and reduction in atmospheric humidification at 2.32.5 ka were of global character (Klimenko and Klimanov, 2003 ). In the middle Subatlantic, the minor weakening of the continental character of climate led to the abundance of larch and reduction of pine in forests. The area of elfin wood and cedar-larch associations with juniper and alder underbrush in the upper mountain belt enlarged. In the topographic lows of the mid-mountain belt, spruce-fir associations disappeared, and the areas of spruce-larch associations broadened. At sheet watersheds, dwarf Arctic birch was widespread on peat-cryogenic soils of alluvial benches and above-floodplain terraces. The floodplain was dominated by sedges with Compositae, Poaceae (mainly Calamagrostis langsdorffii -)Polygonaceae, and other families. The cooling and strengthening of the continental character of climate in the late Subatlantic period led to a slight reduction in pipe and an increase in larch shares in forests. The areas of cedar and spruce-larch associations with alder underbrush were reduced, and dwarf Arctic birch in river valley lows became scarcer. Sedge-wormwood associations were spread on floodplain peat-cryogenic soils. Sheetflood was almost terminated, and the supply of loams to the floodplain drastically decreased. The content of peat in floodplain sediments began to decline. At that time, dark-coniferous forests in the central and northwestern regions of the Russian Plain drastically degraded, giving place to birch-pine forests, and the share of grass associations increased (Khotinskii, 1977 ). In central Siberia, the weakening of peat formation led to a wide spread of pine and birch in forest zone (Belov and Belova, 1984 ). In northern Mongolia, steppe advanced on forest (Savina et al1981 ). In the southern Far East, the peat accumulation decelerated, the bald-mountain zone widened, the areas of opened slopes in the upper mountain belt enlarged, and the formation of boulder streams and taluses was activated (Korotkii et al1996 ). At the end of the Subatlantic period of the Holocene, cooling and strengthening of the continental character of climate took place in the Northern Hemisphere ubiquitously.',\n",
       " 'Conclusions The detailed palynological and radiocarbon analyses and determination of the ash contents of deposits permitted the reconstruction of the continuous history of climatic changes in southeastern Transbaikalia in the Middle and Late Holocene as well as the settings of sedimentation in the Ilya River floodplain. The sedimentation was activated in the late Subatlantic period. The coolings and intensification of aridization resulted in the deceleration of the accumulation of floodplain loams and their enrichment with peat at the beginning of the Subboreal and Subatlantic periods. In the late Subboreal and middle Subatlantic periods of the Holocene, the weakening of aridization favored the acceleration of sedimentation and the reduced content of peat in the floodplain sediment. In the Middle and Late Holocene, the study area was inhabited mainly by forests with a predominance of light-coniferous taiga. In the early Subboreal period of the Holocene, a significant spread of steppe communities in landscapes took place. These communities were also abundant in the early and late Subatlantic period. Comparison of the results obtained with data of other researchers permitted us to make the correlation between regional climatic events and changes of vegetation communities in adjacent areasfrom Baikal basin to Amur upper reaches. The reconstructed regional paleoclimatic events of the Middle and Late Holocene in southeastern Transbaikalia agree with the global climatic changes in the Northern Hemisphere. We thank the administration and employees of the Alkhanai National Park for help in expedition works. This work was supported by grant 05-05-66942-a from the Russian Foundation for Basic Research and JSPS and 200608 grant from the Far Eastern Branch of the RAS.']"
      ]
     },
     "execution_count": 27,
     "metadata": {},
     "output_type": "execute_result"
    }
   ],
   "source": [
    "chunks"
   ]
  },
  {
   "cell_type": "code",
   "execution_count": 265,
   "metadata": {},
   "outputs": [],
   "source": [
    "# for i, chunk in enumerate(chunks):\n",
    "#     with open(f'train_files/gddid_{global_index[i]}_{subsection[i]}_{local_index[i]}.txt', 'w') as fin:\n",
    "#         fin.write(chunk)"
   ]
  }
 ],
 "metadata": {
  "kernelspec": {
   "display_name": "main_v2",
   "language": "python",
   "name": "python3"
  },
  "language_info": {
   "codemirror_mode": {
    "name": "ipython",
    "version": 3
   },
   "file_extension": ".py",
   "mimetype": "text/x-python",
   "name": "python",
   "nbconvert_exporter": "python",
   "pygments_lexer": "ipython3",
   "version": "3.10.11"
  },
  "orig_nbformat": 4
 },
 "nbformat": 4,
 "nbformat_minor": 2
}
