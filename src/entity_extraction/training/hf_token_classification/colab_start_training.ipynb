{
  "cells": [
    {
      "cell_type": "code",
      "execution_count": null,
      "metadata": {
        "id": "KCxdugdUfneS"
      },
      "outputs": [],
      "source": [
        "# for training on colab\n",
        "from google.colab import drive\n",
        "import os, sys\n",
        "\n",
        "drive.mount('/content/drive')\n",
        "\n",
        "%load_ext autoreload\n",
        "%autoreload 2"
      ]
    },
    {
      "cell_type": "code",
      "execution_count": null,
      "metadata": {},
      "outputs": [],
      "source": [
        "# set to where the fine-tuning job folder is setup\n",
        "os.chdir(os.path.join(\"drive\", \"MyDrive\", \"Colab Notebooks\", \"ffossils\", \"YOUR_FOLDER_HERE\"))"
      ]
    },
    {
      "cell_type": "code",
      "execution_count": null,
      "metadata": {
        "id": "lerHvRrrfneX"
      },
      "outputs": [],
      "source": [
        "!pip install transformers datasets evaluate accelerate seqeval mlflow python-dotenv azureml-mlflow docopt-ng"
      ]
    },
    {
      "cell_type": "code",
      "execution_count": null,
      "metadata": {
        "id": "tk6gBQckfneZ"
      },
      "outputs": [],
      "source": [
        "# run bash script\n",
        "!bash ./run_training.sh"
      ]
    },
    {
      "cell_type": "markdown",
      "metadata": {
        "id": "nqJTJe1qQ9mG"
      },
      "source": [
        "# Automated Evaluation"
      ]
    },
    {
      "cell_type": "code",
      "execution_count": null,
      "metadata": {
        "id": "f9W9vM98avYC"
      },
      "outputs": [],
      "source": [
        "# run bash script\n",
        "!bash ./run_evaluation.sh"
      ]
    }
  ],
  "metadata": {
    "accelerator": "GPU",
    "colab": {
      "gpuType": "T4",
      "provenance": []
    },
    "kernelspec": {
      "display_name": "Python 3",
      "name": "python3"
    },
    "language_info": {
      "name": "python"
    }
  },
  "nbformat": 4,
  "nbformat_minor": 0
}
