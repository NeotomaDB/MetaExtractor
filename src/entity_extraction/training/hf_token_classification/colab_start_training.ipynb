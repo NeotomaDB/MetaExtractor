{
  "cells": [
    {
      "cell_type": "code",
      "execution_count": null,
      "metadata": {
        "id": "KCxdugdUfneS"
      },
      "outputs": [],
      "source": [
        "# for training on colab\n",
        "from google.colab import drive\n",
        "import os, sys\n",
        "\n",
        "drive.mount('/content/drive')\n",
        "\n",
        "# set to where the fine-tuning job folder is setup\n",
        "os.chdir(os.path.join(\"drive\", \"MyDrive\", \"Colab Notebooks\", \"ffossils\", \"roberta-fine-tune-v1\"))"
      ]
    },
    {
      "cell_type": "code",
      "execution_count": null,
      "metadata": {
        "id": "lerHvRrrfneX"
      },
      "outputs": [],
      "source": [
        "!pip install transformers datasets evaluate accelerate seqeval mlflow python-dotenv azureml-mlflow docopt-ng"
      ]
    },
    {
      "cell_type": "code",
      "execution_count": null,
      "metadata": {
        "id": "tk6gBQckfneZ"
      },
      "outputs": [],
      "source": [
        "# run bash script\n",
        "!bash ./run.sh"
      ]
    },
    {
      "cell_type": "markdown",
      "source": [
        "# Automated Evaluation"
      ],
      "metadata": {
        "id": "nqJTJe1qQ9mG"
      }
    },
    {
      "cell_type": "code",
      "source": [
        "# run bash script\n",
        "!bash ./run_evaluation.sh"
      ],
      "metadata": {
        "id": "f9W9vM98avYC"
      },
      "execution_count": null,
      "outputs": []
    }
  ],
  "metadata": {
    "accelerator": "GPU",
    "colab": {
      "provenance": [],
      "gpuType": "T4"
    },
    "kernelspec": {
      "display_name": "Python 3",
      "name": "python3"
    },
    "language_info": {
      "name": "python"
    }
  },
  "nbformat": 4,
  "nbformat_minor": 0
}